{
 "cells": [
  {
   "cell_type": "code",
   "execution_count": 1,
   "metadata": {},
   "outputs": [],
   "source": [
    "from os.path import join\n",
    "from collections import Counter, defaultdict\n",
    "import pandas as pd\n",
    "\n",
    "DATA_DIR = './Data'"
   ]
  },
  {
   "cell_type": "code",
   "execution_count": null,
   "metadata": {
    "scrolled": true
   },
   "outputs": [],
   "source": [
    "predictions = pd.read_csv(join('./log/bert_08150347/', 'test_results.tsv'),\n",
    "                          header=None, sep='\\t')\n",
    "predictions = predictions.idxmax(axis=1)\n",
    "\n",
    "print(Counter(predictions))"
   ]
  },
  {
   "cell_type": "code",
   "execution_count": null,
   "metadata": {},
   "outputs": [],
   "source": [
    "with open(join(DATA_DIR, 'subtask2_data_from_test.txt'), 'r') as f_data:\n",
    "    data = []\n",
    "    for line in f_data:\n",
    "        data.append(line.strip('\\n').split('\\t'))"
   ]
  },
  {
   "cell_type": "code",
   "execution_count": null,
   "metadata": {},
   "outputs": [],
   "source": [
    "def add_FM_LS(fm_ls_l, content):\n",
    "    ret, replaced = [], False\n",
    "    \n",
    "    for fm_ls in fm_ls_l:\n",
    "        if fm_ls[1] == content[1] and fm_ls[2] == content[2]:\n",
    "            ret.append(fm_ls) if fm_ls[4] < content[4] else ret.append(content)\n",
    "            replaced = True\n",
    "        else:\n",
    "            ret.append(fm_ls)\n",
    "            \n",
    "    if not replaced:\n",
    "        ret.append(content)\n",
    "\n",
    "    return ret"
   ]
  },
  {
   "cell_type": "code",
   "execution_count": null,
   "metadata": {},
   "outputs": [],
   "source": [
    "classes = [\"OTHERS\", \"FM_OBS\", \"FM_OBS_N\", \"FM_LS\"]\n",
    "results = defaultdict(dict)\n",
    "\n",
    "re_count = 0\n",
    "for i, line in enumerate(data):\n",
    "    if predictions[i] == 0:\n",
    "        # prediction is not \"OTHERS\"\n",
    "        continue\n",
    "        \n",
    "    re_count += 1\n",
    "    doc = line[0][:13]\n",
    "\n",
    "    # get family member properties\n",
    "    sof = \"NA\"\n",
    "    if \"@MaternalRelative$\" in line[1]:\n",
    "        sof = \"Maternal\"\n",
    "    elif \"@PaternalRelative$\" in line[1]:\n",
    "        sof = \"Paternal\"\n",
    "\n",
    "    content = \"\"            \n",
    "    if \"@Status$\" in line[1]:\n",
    "        results[doc][\"FM-LS\"] = add_FM_LS(results.get(doc, {}).get(\"FM-LS\", []),\n",
    "                             (doc, line[-2].capitalize(), sof, \"LivingStatus\", line[-1][-1]))\n",
    "    elif \"@Disease$\" in line[1]:\n",
    "        if predictions[i] == 2:\n",
    "            negated = \"Negated\"\n",
    "        else:\n",
    "            negated = \"Non_Negated\"\n",
    "        results[doc][\"FM-OBS\"] = results.get(doc, {}).get(\"FM-OBS\", []) + \\\n",
    "                                    [(doc, line[-2].capitalize(),  # family member\n",
    "                                      sof, \"Observation\", line[-1].replace('_', ' '),\n",
    "                                      negated)]\n",
    "\n",
    "with open(join(DATA_DIR, 're_test_result.tsv'), 'w') as f_predict:\n",
    "    for doc, contents in results.items():\n",
    "        print(contents)\n",
    "        for content in set(contents.get(\"FM-LS\", [])):\n",
    "            f_predict.write(\"\\t\".join(list(content)))\n",
    "            f_predict.write(\"\\n\")\n",
    "        for content in set(contents.get(\"FM-OBS\", [])):\n",
    "            f_predict.write(\"\\t\".join(list(content)))\n",
    "            f_predict.write(\"\\n\")"
   ]
  },
  {
   "cell_type": "code",
   "execution_count": null,
   "metadata": {},
   "outputs": [],
   "source": [
    "re_count"
   ]
  }
 ],
 "metadata": {
  "kernelspec": {
   "display_name": "Python 3",
   "language": "python",
   "name": "python3"
  },
  "language_info": {
   "codemirror_mode": {
    "name": "ipython",
    "version": 3
   },
   "file_extension": ".py",
   "mimetype": "text/x-python",
   "name": "python",
   "nbconvert_exporter": "python",
   "pygments_lexer": "ipython3",
   "version": "3.6.8"
  }
 },
 "nbformat": 4,
 "nbformat_minor": 2
}
