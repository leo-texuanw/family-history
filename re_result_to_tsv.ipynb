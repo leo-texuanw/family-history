{
 "cells": [
  {
   "cell_type": "code",
   "execution_count": 1,
   "metadata": {},
   "outputs": [],
   "source": [
    "from os.path import join\n",
    "from collections import Counter, defaultdict\n",
    "import pandas as pd\n",
    "\n",
    "DATA_DIR = './Data'\n",
    "cur_bert = './log/bert_11050724/'"
   ]
  },
  {
   "cell_type": "code",
   "execution_count": 2,
   "metadata": {
    "scrolled": true
   },
   "outputs": [
    {
     "name": "stdout",
     "output_type": "stream",
     "text": [
      "Counter({0: 1250, 3: 1145, 1: 626, 2: 86})\n"
     ]
    }
   ],
   "source": [
    "predictions = pd.read_csv(join(cur_bert,\n",
    "                               'test_results.tsv'),\n",
    "                          header=None, sep='\\t')\n",
    "predictions_idx = predictions.idxmax(axis=1)\n",
    "predictions_val = predictions.max(axis=1)\n",
    "predictions = list(zip(predictions_idx, predictions_val))\n",
    "\n",
    "print(Counter(predictions_idx))"
   ]
  },
  {
   "cell_type": "code",
   "execution_count": 3,
   "metadata": {},
   "outputs": [],
   "source": [
    "with open(join(cur_bert, 'subtask2_data_from_test.txt'), 'r') as f_data:\n",
    "    data = []\n",
    "    for line in f_data:\n",
    "        data.append(line.strip('\\n').split('\\t'))"
   ]
  },
  {
   "cell_type": "code",
   "execution_count": 4,
   "metadata": {},
   "outputs": [],
   "source": [
    "def add_FM_LS(fm_ls_l, content):\n",
    "    ret, replaced = [], False\n",
    "    \n",
    "    for fm_ls in fm_ls_l:\n",
    "        if fm_ls[1] == content[1] and fm_ls[2] == content[2]:\n",
    "            ret.append(fm_ls) if fm_ls[4] < content[4] else ret.append(content)\n",
    "            replaced = True\n",
    "        else:\n",
    "            ret.append(fm_ls)\n",
    "            \n",
    "    if not replaced:\n",
    "        ret.append(content)\n",
    "\n",
    "    return ret"
   ]
  },
  {
   "cell_type": "code",
   "execution_count": null,
   "metadata": {
    "scrolled": false
   },
   "outputs": [],
   "source": [
    "classes = [\"OTHERS\", \"FM_OBS\", \"FM_OBS_N\", \"FM_LS\"]\n",
    "results = defaultdict(dict)\n",
    "\n",
    "re_count = 0\n",
    "for i, line in enumerate(data):\n",
    "    if i == 0:\n",
    "        print(line)\n",
    "\n",
    "    try:\n",
    "        if predictions[i][0] == 0:\n",
    "            # prediction is \"OTHERS\"\n",
    "            continue\n",
    "    except:\n",
    "        print(\"ERROR\")\n",
    "        break\n",
    "\n",
    "        \n",
    "    re_count += 1\n",
    "    doc = line[0][:13]\n",
    "\n",
    "    # get family member properties\n",
    "    sof = \"NA\"\n",
    "    if \"@MaternalRelative$\" in line[1]:\n",
    "        sof = \"Maternal\"\n",
    "    elif \"@PaternalRelative$\" in line[1]:\n",
    "        sof = \"Paternal\"\n",
    "\n",
    "    content = \"\"            \n",
    "    if \"@Status$\" in line[1]:\n",
    "        tmp = (doc, line[3].capitalize().rstrip('s'), sof, \"LivingStatus\", line[-1][-1])\n",
    "        results[doc][\"FM-LS\"] = add_FM_LS(results.get(doc, {}).get(\"FM-LS\", []), tmp)\n",
    "    elif \"@Disease$\" in line[1]:\n",
    "        if predictions[i][0] == 2:\n",
    "            negated = \"Negated\"\n",
    "        else:\n",
    "            negated = \"Non_Negated\"\n",
    "        results[doc][\"FM-OBS\"] = results.get(doc, {}).get(\"FM-OBS\", []) + \\\n",
    "                                    [(doc, line[3].capitalize().rstrip('s'),  # family member\n",
    "                                      sof, \"Observation\", line[-3].replace('_', ' '),\n",
    "                                      negated)]\n",
    "\n",
    "with open(join(DATA_DIR, 're_test_result.tsv'), 'w') as f_predict:\n",
    "    for doc, contents in results.items():\n",
    "        print(contents)\n",
    "        for content in set(contents.get(\"FM-LS\", [])):\n",
    "            f_predict.write(\"\\t\".join(list(content)))\n",
    "            f_predict.write(\"\\n\")\n",
    "        for content in set(contents.get(\"FM-OBS\", [])):\n",
    "            f_predict.write(\"\\t\".join(list(content)))\n",
    "            f_predict.write(\"\\n\")"
   ]
  },
  {
   "cell_type": "code",
   "execution_count": 6,
   "metadata": {},
   "outputs": [
    {
     "data": {
      "text/plain": [
       "1857"
      ]
     },
     "execution_count": 6,
     "metadata": {},
     "output_type": "execute_result"
    }
   ],
   "source": [
    "re_count"
   ]
  },
  {
   "cell_type": "code",
   "execution_count": null,
   "metadata": {},
   "outputs": [],
   "source": []
  }
 ],
 "metadata": {
  "kernelspec": {
   "display_name": "Python 3",
   "language": "python",
   "name": "python3"
  },
  "language_info": {
   "codemirror_mode": {
    "name": "ipython",
    "version": 3
   },
   "file_extension": ".py",
   "mimetype": "text/x-python",
   "name": "python",
   "nbconvert_exporter": "python",
   "pygments_lexer": "ipython3",
   "version": "3.6.8"
  }
 },
 "nbformat": 4,
 "nbformat_minor": 2
}
