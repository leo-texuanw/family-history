{
 "cells": [
  {
   "cell_type": "code",
   "execution_count": 1,
   "metadata": {},
   "outputs": [],
   "source": [
    "from os.path import join\n",
    "import pickle\n",
    "\n",
    "DATA_DIR = './Data'\n",
    "WORK_DIR = './Data/bioc-FH-training/'\n",
    "OBJECTS_DIR = './objects/'"
   ]
  },
  {
   "cell_type": "code",
   "execution_count": 2,
   "metadata": {},
   "outputs": [],
   "source": [
    "with open(join(OBJECTS_DIR, 'corpus.pkl'), 'rb') as pkl_f:\n",
    "    corpus = pickle.load(pkl_f)\n",
    "\n",
    "train_size = 72\n",
    "test_files = list(corpus.keys())[train_size:]"
   ]
  },
  {
   "cell_type": "code",
   "execution_count": 3,
   "metadata": {},
   "outputs": [],
   "source": [
    "valid_f = open(join(DATA_DIR, 'valid_subtask1.tsv'), 'w')\n",
    "\n",
    "with open(join(DATA_DIR, 'train_subtask1_2.tsv'), 'r') as f:\n",
    "    for line in f:\n",
    "        title = line.split()[0]\n",
    "        if title in test_files:\n",
    "            valid_f.write(line)\n",
    "valid_f.close()"
   ]
  },
  {
   "cell_type": "code",
   "execution_count": 4,
   "metadata": {},
   "outputs": [],
   "source": [
    "valid_f = open(join(DATA_DIR, 'valid_subtask2.tsv'), 'w')\n",
    "valid_no_ls_f = open(join(DATA_DIR, 'valid_subtask2_no_ls.tsv'), 'w')\n",
    "\n",
    "with open(join(DATA_DIR, 'train_subtask2_2.tsv'), 'r') as f:\n",
    "    for line in f:\n",
    "        title, _, _, re_type = line.split()[:4]\n",
    "        if title in test_files:\n",
    "            valid_f.write(line)\n",
    "            if re_type == 'Observation':\n",
    "                valid_no_ls_f.write(line)\n",
    "valid_f.close()\n",
    "valid_no_ls_f.close()"
   ]
  }
 ],
 "metadata": {
  "kernelspec": {
   "display_name": "Python 3",
   "language": "python",
   "name": "python3"
  },
  "language_info": {
   "codemirror_mode": {
    "name": "ipython",
    "version": 3
   },
   "file_extension": ".py",
   "mimetype": "text/x-python",
   "name": "python",
   "nbconvert_exporter": "python",
   "pygments_lexer": "ipython3",
   "version": "3.6.8"
  }
 },
 "nbformat": 4,
 "nbformat_minor": 2
}
