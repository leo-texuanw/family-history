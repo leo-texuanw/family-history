{
 "cells": [
  {
   "cell_type": "code",
   "execution_count": 1,
   "metadata": {},
   "outputs": [],
   "source": [
    "import pickle as pkl\n",
    "from os.path import join\n",
    "\n",
    "DIR = './objects'"
   ]
  },
  {
   "cell_type": "code",
   "execution_count": 2,
   "metadata": {},
   "outputs": [],
   "source": [
    "with open(join(DIR, 'entities.pkl'), 'rb') as pkl_f:\n",
    "    entities = pkl.load(pkl_f)\n",
    "with open(join(DIR, 'texts.pkl'), 'rb') as pkl_f:\n",
    "    texts = pkl.load(pkl_f)"
   ]
  },
  {
   "cell_type": "markdown",
   "metadata": {},
   "source": [
    "# Minor offset issues\n",
    "- doc_50: full anned as FM\n",
    "- doc_157: daughte without r"
   ]
  },
  {
   "cell_type": "code",
   "execution_count": 3,
   "metadata": {},
   "outputs": [],
   "source": [
    "# doc_50: full anned as FM\n",
    "del entities['doc_50'][5]"
   ]
  },
  {
   "cell_type": "code",
   "execution_count": 4,
   "metadata": {},
   "outputs": [],
   "source": [
    "# doc_157: daughte without r\n",
    "# (236, 244, 'FamilyMember', ' daughte')\n",
    "entities['doc_157'][0] = (237, 245, 'FamilyMember', 'daughter')"
   ]
  },
  {
   "cell_type": "markdown",
   "metadata": {},
   "source": [
    "## Big offset issue\n",
    "- doc_169: lost last char\n",
    "- doc_59: 3 lost last char\n",
    "- doc_66: 4 lost last char\n",
    "- doc_4: 10+ 3 offset"
   ]
  },
  {
   "cell_type": "code",
   "execution_count": 5,
   "metadata": {
    "scrolled": true
   },
   "outputs": [
    {
     "name": "stdout",
     "output_type": "stream",
     "text": [
      "(849, 855, 'Observation', 'asthma')\n",
      "(871, 892, 'FamilyMember', ' maternal grandmother')\n",
      "(912, 920, 'Observation', 'diabetes')\n",
      "(943, 955, 'Observation', 'TAR syndrome')\n",
      "(1179, 1194, 'FamilyMember', 'maternal cousin')\n",
      "(1251, 1265, 'Observation', ' schizophrenia')\n",
      "(1315, 1329, 'Observation', 'craft neurosis')\n",
      "(1345, 1351, 'FamilyMember', 'mother')\n",
      "(1380, 1393, 'Observation', 'heart disease')\n",
      "(1407, 1423, 'FamilyMember', ' paternal uncle ')\n",
      "(1446, 1457, 'Observation', 'thalassemia')\n",
      "(1477, 1483, 'FamilyMember', 'uncle ')\n",
      "(1502, 1515, 'Observation', 'hypertension ')\n",
      "(1546, 1566, 'FamilyMember', 'paternal grandfather')\n",
      "(1617, 1637, 'Observation', 'graft site infection')\n",
      "(1643, 1664, 'Observation', 'bowel bypass syndrome')\n",
      "(1810, 1817, 'Observation', 'cholera')\n",
      "(1821, 1844, 'Observation', 'prophylactic mastectomy')\n"
     ]
    }
   ],
   "source": [
    "doc = 'doc_169'\n",
    "idx = 10\n",
    "for entity in entities[doc][idx:]:\n",
    "    start = entity[0] - 1\n",
    "    end = entity[1] - 1\n",
    "    # print('\\n', entities[doc][idx])\n",
    "    entities[doc][idx] = (start, end, entity[2], texts[doc][start:end])\n",
    "    print(entities[doc][idx])\n",
    "    idx += 1"
   ]
  },
  {
   "cell_type": "code",
   "execution_count": 6,
   "metadata": {},
   "outputs": [
    {
     "name": "stdout",
     "output_type": "stream",
     "text": [
      "(1499, 1517, 'Observation', 'pancreatic abscess')\n",
      "(1521, 1542, 'Observation', 'libman sacks etiology')\n",
      "(1636, 1642, 'Observation', 'cancer')\n"
     ]
    }
   ],
   "source": [
    "doc = 'doc_59'\n",
    "idx = 7\n",
    "for entity in entities[doc][idx:]:\n",
    "    start = entity[0] + 1\n",
    "    end = entity[1] + 1\n",
    "    # print('\\n', entities[doc][idx])\n",
    "    entities[doc][idx] = (start, end, entity[2], texts[doc][start:end])\n",
    "    print(entities[doc][idx])\n",
    "    idx += 1"
   ]
  },
  {
   "cell_type": "code",
   "execution_count": 7,
   "metadata": {},
   "outputs": [
    {
     "name": "stdout",
     "output_type": "stream",
     "text": [
      "(655, 675, 'FamilyMember', 'maternal grandfather')\n",
      "(698, 709, 'Observation', 'alcohol use')\n",
      "(798, 818, 'FamilyMember', 'maternal grandmother')\n",
      "(827, 840, 'Observation', 'low platelets')\n"
     ]
    }
   ],
   "source": [
    "doc = 'doc_66'\n",
    "idx = 11\n",
    "for entity in entities[doc][idx:]:\n",
    "    start = entity[0] + 1\n",
    "    end = entity[1] + 1\n",
    "    # print('\\n', entities[doc][idx])\n",
    "    entities[doc][idx] = (start, end, entity[2], texts[doc][start:end])\n",
    "    print(entities[doc][idx])\n",
    "    idx += 1"
   ]
  },
  {
   "cell_type": "code",
   "execution_count": 8,
   "metadata": {},
   "outputs": [
    {
     "name": "stdout",
     "output_type": "stream",
     "text": [
      "(720, 726, 'FamilyMember', 'sister')\n",
      "(752, 759, 'Observation', 'Rubeola')\n",
      "(787, 793, 'FamilyMember', 'mother')\n",
      "(813, 827, 'Observation', 'thymus atrophy')\n",
      "(900, 913, 'FamilyMember', 'maternal aunt')\n",
      "(933, 947, 'Observation', 'skrjabinemosis')\n",
      "(987, 1000, 'FamilyMember', 'maternal aunt')\n",
      "(1050, 1064, 'Observation', 'anemia general')\n",
      "(1077, 1101, 'FamilyMember', 'Two other maternal aunts')\n",
      "(1157, 1163, 'Observation', 'noesis')\n",
      "(1189, 1200, 'FamilyMember', 'grandmother')\n",
      "(1222, 1234, 'Observation', 'nevus benign')\n",
      "(1253, 1264, 'FamilyMember', 'grandfather')\n",
      "(1291, 1296, 'Observation', 'maids')\n",
      "(1300, 1315, 'Observation', 'timolol allergy')\n",
      "(1450, 1456, 'FamilyMember', 'father')\n",
      "(1485, 1496, 'Observation', 'anal tumour')\n",
      "(1536, 1549, 'FamilyMember', 'paternal aunt')\n",
      "(1574, 1587, 'Observation', 'orbital varix')\n",
      "(1598, 1611, 'FamilyMember', 'paternal aunt')\n",
      "(1653, 1666, 'Observation', 'aspirin abuse')\n",
      "(1697, 1710, 'FamilyMember', 'paternal aunt')\n",
      "(1741, 1755, 'Observation', 'leprosy neural')\n",
      "(1770, 1784, 'FamilyMember', 'paternal uncle')\n",
      "(1804, 1815, 'Observation', 'hypermnesia')\n",
      "(1841, 1852, 'FamilyMember', 'grandmother')\n",
      "(1871, 1895, 'Observation', 'mental disorder caffeine')\n",
      "(1914, 1925, 'FamilyMember', 'grandfather')\n",
      "(1940, 1954, 'Observation', 'syndrome fraxe')\n"
     ]
    }
   ],
   "source": [
    "doc = 'doc_4'\n",
    "idx = 7\n",
    "\n",
    "for entity in entities[doc][idx:]:\n",
    "    start = entity[0] + 3\n",
    "    end = entity[1] + 3\n",
    "    # print('\\n', entities[doc][idx])\n",
    "    entities[doc][idx] = (start, end, entity[2], texts[doc][start:end])\n",
    "    print(entities[doc][idx])\n",
    "    idx += 1"
   ]
  },
  {
   "cell_type": "markdown",
   "metadata": {},
   "source": [
    "# start or end with non-alphabet char issues"
   ]
  },
  {
   "cell_type": "code",
   "execution_count": null,
   "metadata": {
    "scrolled": false
   },
   "outputs": [],
   "source": [
    "num_entities = 0\n",
    "for doc, entities_ in entities.items():\n",
    "    idx = 0\n",
    "    for entity in entities_:\n",
    "        num_entities += 1\n",
    "        start = entity[0]\n",
    "        end = entity[1]\n",
    "        ori_len = end - start\n",
    "        \n",
    "        content = entity[3].strip()\n",
    "        after_len = len(content)\n",
    "        \n",
    "        if ori_len != after_len:\n",
    "            start = start + ori_len - len(entity[3].lstrip())\n",
    "            end = start + after_len\n",
    "            # print('\\n', entities[doc][idx])\n",
    "            entities[doc][idx] = (start, end, entity[2], content)\n",
    "            print(entities[doc][idx])\n",
    "        idx += 1"
   ]
  },
  {
   "cell_type": "code",
   "execution_count": null,
   "metadata": {
    "scrolled": false
   },
   "outputs": [],
   "source": [
    "entities"
   ]
  },
  {
   "cell_type": "code",
   "execution_count": 11,
   "metadata": {},
   "outputs": [],
   "source": [
    "assert(num_entities > 1785)"
   ]
  },
  {
   "cell_type": "code",
   "execution_count": 12,
   "metadata": {},
   "outputs": [],
   "source": [
    "import pickle\n",
    "with open(join(DIR, \"entities_corrected.pkl\"), 'wb') as pkl_file:\n",
    "    pickle.dump(entities, pkl_file)"
   ]
  },
  {
   "cell_type": "code",
   "execution_count": 13,
   "metadata": {},
   "outputs": [
    {
     "data": {
      "text/plain": [
       "[(212, 219, 'FamilyMember', 'brother'),\n",
       " (237, 263, 'Observation', 'recurrent thyroid problems'),\n",
       " (345, 351, 'FamilyMember', 'father'),\n",
       " (345, 351, 'FamilyMember', 'father'),\n",
       " (385, 391, 'FamilyMember', 'mother'),\n",
       " (410, 422, 'Observation', 'hypertension')]"
      ]
     },
     "execution_count": 13,
     "metadata": {},
     "output_type": "execute_result"
    }
   ],
   "source": [
    "entities['doc_118']"
   ]
  }
 ],
 "metadata": {
  "kernelspec": {
   "display_name": "Python 3",
   "language": "python",
   "name": "python3"
  },
  "language_info": {
   "codemirror_mode": {
    "name": "ipython",
    "version": 3
   },
   "file_extension": ".py",
   "mimetype": "text/x-python",
   "name": "python",
   "nbconvert_exporter": "python",
   "pygments_lexer": "ipython3",
   "version": "3.6.8"
  }
 },
 "nbformat": 4,
 "nbformat_minor": 2
}
