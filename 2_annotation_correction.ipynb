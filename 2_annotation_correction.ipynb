{
 "cells": [
  {
   "cell_type": "code",
   "execution_count": 1,
   "metadata": {},
   "outputs": [],
   "source": [
    "import pickle as pkl\n",
    "from os.path import join\n",
    "\n",
    "DIR = './objects'"
   ]
  },
  {
   "cell_type": "code",
   "execution_count": 2,
   "metadata": {},
   "outputs": [],
   "source": [
    "with open(join(DIR, 'entities.pkl'), 'rb') as pkl_f:\n",
    "    entities = pkl.load(pkl_f)\n",
    "with open(join(DIR, 'texts.pkl'), 'rb') as pkl_f:\n",
    "    texts = pkl.load(pkl_f)"
   ]
  },
  {
   "cell_type": "markdown",
   "metadata": {},
   "source": [
    "# Minor offset issues\n",
    "- doc_50: full anned as FM\n",
    "- doc_157: daughte without r"
   ]
  },
  {
   "cell_type": "code",
   "execution_count": 3,
   "metadata": {},
   "outputs": [],
   "source": [
    "# doc_50: full anned as FM\n",
    "del entities['doc_50'][5]"
   ]
  },
  {
   "cell_type": "code",
   "execution_count": 4,
   "metadata": {},
   "outputs": [],
   "source": [
    "# doc_157: daughte without r\n",
    "# (236, 244, 'FamilyMember', ' daughte', {'SideOfFamily': 'NA'}, '23')\n",
    "entities['doc_157'][0] = (236, 244, 'FamilyMember', ' daughter', {'SideOfFamily': 'NA'}, '23')"
   ]
  },
  {
   "cell_type": "markdown",
   "metadata": {},
   "source": [
    "## Big offset issue\n",
    "- doc_169: lost last char\n",
    "- doc_59: 3 lost last char\n",
    "- doc_66: 4 lost last char\n",
    "- doc_4: 10+ 3 offset"
   ]
  },
  {
   "cell_type": "code",
   "execution_count": 5,
   "metadata": {},
   "outputs": [],
   "source": [
    "def entity_pattern(start, end, entity, text):\n",
    "    return (start, end, entity[2], text[start:end], entity[4], entity[-1])\n",
    "\n",
    "def entity_pattern_with_content(start, end, entity, content):\n",
    "    return (start, end, entity[2], content, entity[4], entity[-1])"
   ]
  },
  {
   "cell_type": "code",
   "execution_count": 6,
   "metadata": {
    "scrolled": true
   },
   "outputs": [
    {
     "name": "stdout",
     "output_type": "stream",
     "text": [
      "(812, 816, 'LivingStatus', 'died', {'Alive': 'No', 'Healthy': 'NA', 'ID': None}, '33')\n",
      "(849, 855, 'Observation', 'asthma', {'Negation': 'No'}, '4')\n",
      "(871, 892, 'FamilyMember', ' maternal grandmother', {'SideOfFamily': 'Maternal'}, '35')\n",
      "(912, 920, 'Observation', 'diabetes', {'Negation': 'No'}, '36')\n",
      "(943, 955, 'Observation', 'TAR syndrome', {'Negation': 'No'}, '37')\n",
      "(1179, 1194, 'FamilyMember', 'maternal cousin', {'SideOfFamily': 'Maternal'}, '38')\n",
      "(1251, 1265, 'Observation', ' schizophrenia', {'Negation': 'No'}, '39')\n",
      "(1315, 1329, 'Observation', 'craft neurosis', {'Negation': 'No'}, '41')\n",
      "(1345, 1351, 'FamilyMember', 'mother', {'SideOfFamily': 'NA'}, '7')\n",
      "(1380, 1393, 'Observation', 'heart disease', {'Negation': 'No'}, '42')\n",
      "(1407, 1423, 'FamilyMember', ' paternal uncle ', {'SideOfFamily': 'Paternal'}, '19')\n",
      "(1446, 1457, 'Observation', 'thalassemia', {'Negation': 'No'}, '20')\n",
      "(1477, 1483, 'FamilyMember', 'uncle ', {'SideOfFamily': 'Paternal'}, '21')\n",
      "(1502, 1515, 'Observation', 'hypertension ', {'Negation': 'No'}, '8')\n",
      "(1546, 1566, 'FamilyMember', 'paternal grandfather', {'SideOfFamily': 'Paternal'}, '44')\n",
      "(1567, 1571, 'LivingStatus', 'died', {'Alive': 'Yes', 'Healthy': 'NA', 'ID': None}, '45')\n",
      "(1617, 1637, 'Observation', 'graft site infection', {'Negation': 'No'}, '47')\n",
      "(1643, 1664, 'Observation', 'bowel bypass syndrome', {'Negation': 'No'}, '22')\n",
      "(1810, 1817, 'Observation', 'cholera', {'Negation': 'Yes'}, '14')\n",
      "(1821, 1844, 'Observation', 'prophylactic mastectomy', {'Negation': 'Yes'}, '13')\n"
     ]
    }
   ],
   "source": [
    "doc = 'doc_169'\n",
    "idx = 10\n",
    "for entity in entities[doc][idx:]:\n",
    "    start = entity[0] - 1\n",
    "    end = entity[1] - 1\n",
    "    # print('\\n', entities[doc][idx])\n",
    "    entities[doc][idx] = entity_pattern(start, end, entity, texts[doc])\n",
    "    print(entities[doc][idx])\n",
    "    idx += 1"
   ]
  },
  {
   "cell_type": "code",
   "execution_count": 7,
   "metadata": {},
   "outputs": [
    {
     "name": "stdout",
     "output_type": "stream",
     "text": [
      "(1499, 1517, 'Observation', 'pancreatic abscess', {'Negation': 'Yes'}, '7')\n",
      "(1521, 1542, 'Observation', 'libman sacks etiology', {'Negation': 'Yes'}, '8')\n",
      "(1636, 1642, 'Observation', 'cancer', {'Negation': 'Yes'}, '9')\n"
     ]
    }
   ],
   "source": [
    "doc = 'doc_59'\n",
    "idx = 12\n",
    "for entity in entities[doc][idx:]:\n",
    "    start = entity[0] + 1\n",
    "    end = entity[1] + 1\n",
    "    # print('\\n', entities[doc][idx])\n",
    "    entities[doc][idx] = entity_pattern(start, end, entity, texts[doc])\n",
    "    print(entities[doc][idx])\n",
    "    idx += 1"
   ]
  },
  {
   "cell_type": "code",
   "execution_count": 8,
   "metadata": {},
   "outputs": [
    {
     "name": "stdout",
     "output_type": "stream",
     "text": [
      "(655, 675, 'FamilyMember', 'maternal grandfather', {'SideOfFamily': 'Maternal'}, '10')\n",
      "(676, 680, 'LivingStatus', 'died', {'Alive': 'No', 'Healthy': 'NA', 'ID': None}, '29')\n",
      "(698, 709, 'Observation', 'alcohol use', {'Negation': 'No'}, '12')\n",
      "(798, 818, 'FamilyMember', 'maternal grandmother', {'SideOfFamily': 'Maternal'}, '13')\n",
      "(819, 823, 'LivingStatus', 'died', {'Alive': 'No', 'Healthy': 'NA', 'ID': None}, '30')\n",
      "(827, 840, 'Observation', 'low platelets', {'Negation': 'No'}, '14')\n"
     ]
    }
   ],
   "source": [
    "doc = 'doc_66'\n",
    "idx = 14\n",
    "for entity in entities[doc][idx:]:\n",
    "    start = entity[0] + 1\n",
    "    end = entity[1] + 1\n",
    "    # print('\\n', entities[doc][idx])\n",
    "    entities[doc][idx] = entity_pattern(start, end, entity, texts[doc])\n",
    "    print(entities[doc][idx])\n",
    "    idx += 1"
   ]
  },
  {
   "cell_type": "code",
   "execution_count": 9,
   "metadata": {},
   "outputs": [
    {
     "name": "stdout",
     "output_type": "stream",
     "text": [
      "(720, 726, 'FamilyMember', 'sister', {'SideOfFamily': 'NA'}, '16')\n",
      "(752, 759, 'Observation', 'Rubeola', {'Negation': 'No'}, '62')\n",
      "(787, 793, 'FamilyMember', 'mother', {'SideOfFamily': 'NA'}, '18')\n",
      "(813, 827, 'Observation', 'thymus atrophy', {'Negation': 'No'}, '19')\n",
      "(842, 846, 'LivingStatus', 'died', {'Alive': 'No', 'Healthy': 'NA', 'ID': None}, '20')\n",
      "(900, 913, 'FamilyMember', 'maternal aunt', {'SideOfFamily': 'Maternal'}, '66')\n",
      "(933, 947, 'Observation', 'skrjabinemosis', {'Negation': 'No'}, '21')\n",
      "(962, 966, 'LivingStatus', 'died', {'Alive': 'No', 'Healthy': 'NA', 'ID': '1'}, '23')\n",
      "(987, 1000, 'FamilyMember', 'maternal aunt', {'SideOfFamily': 'Maternal'}, '68')\n",
      "(1050, 1064, 'Observation', 'anemia general', {'Negation': 'No'}, '25')\n",
      "(1077, 1101, 'FamilyMember', 'Two other maternal aunts', {'SideOfFamily': 'Maternal'}, '69')\n",
      "(1157, 1163, 'Observation', 'noesis', {'Negation': 'Yes'}, '72')\n",
      "(1189, 1200, 'FamilyMember', 'grandmother', {'SideOfFamily': 'Maternal'}, '27')\n",
      "(1201, 1205, 'LivingStatus', 'died', {'Alive': 'No', 'Healthy': 'NA', 'ID': None}, '28')\n",
      "(1222, 1234, 'Observation', 'nevus benign', {'Negation': 'No'}, '30')\n",
      "(1253, 1264, 'FamilyMember', 'grandfather', {'SideOfFamily': 'Maternal'}, '31')\n",
      "(1265, 1269, 'LivingStatus', 'died', {'Alive': 'No', 'Healthy': 'NA', 'ID': None}, '32')\n",
      "(1291, 1296, 'Observation', 'maids', {'Negation': 'No'}, '34')\n",
      "(1300, 1315, 'Observation', 'timolol allergy', {'Negation': 'No'}, '35')\n",
      "(1450, 1456, 'FamilyMember', 'father', {'SideOfFamily': 'NA'}, '36')\n",
      "(1485, 1496, 'Observation', 'anal tumour', {'Negation': 'No'}, '38')\n",
      "(1536, 1549, 'FamilyMember', 'paternal aunt', {'SideOfFamily': 'Paternal'}, '73')\n",
      "(1550, 1554, 'LivingStatus', 'died', {'Alive': 'No', 'Healthy': 'NA', 'ID': '1'}, '39')\n",
      "(1574, 1587, 'Observation', 'orbital varix', {'Negation': 'No'}, '40')\n",
      "(1598, 1611, 'FamilyMember', 'paternal aunt', {'SideOfFamily': 'Paternal'}, '41')\n",
      "(1653, 1666, 'Observation', 'aspirin abuse', {'Negation': 'No'}, '43')\n",
      "(1697, 1710, 'FamilyMember', 'paternal aunt', {'SideOfFamily': 'Paternal'}, '45')\n",
      "(1741, 1755, 'Observation', 'leprosy neural', {'Negation': 'No'}, '47')\n",
      "(1770, 1784, 'FamilyMember', 'paternal uncle', {'SideOfFamily': 'Paternal'}, '49')\n",
      "(1785, 1789, 'LivingStatus', 'died', {'Alive': 'No', 'Healthy': 'NA', 'ID': None}, '50')\n",
      "(1804, 1815, 'Observation', 'hypermnesia', {'Negation': 'No'}, '52')\n",
      "(1841, 1852, 'FamilyMember', 'grandmother', {'SideOfFamily': 'Paternal'}, '53')\n",
      "(1853, 1857, 'LivingStatus', 'died', {'Alive': 'Yes', 'Healthy': 'NA', 'ID': None}, '54')\n",
      "(1871, 1895, 'Observation', 'mental disorder caffeine', {'Negation': 'No'}, '56')\n",
      "(1914, 1925, 'FamilyMember', 'grandfather', {'SideOfFamily': 'Paternal'}, '57')\n",
      "(1926, 1930, 'LivingStatus', 'died', {'Alive': 'Yes', 'Healthy': 'NA', 'ID': None}, '58')\n",
      "(1940, 1954, 'Observation', 'syndrome fraxe', {'Negation': 'No'}, '60')\n"
     ]
    }
   ],
   "source": [
    "doc = 'doc_4'\n",
    "idx = 9\n",
    "\n",
    "for entity in entities[doc][idx:]:\n",
    "    start = entity[0] + 3\n",
    "    end = entity[1] + 3\n",
    "    # print('\\n', entities[doc][idx])\n",
    "    entities[doc][idx] = entity_pattern(start, end, entity, texts[doc])\n",
    "    print(entities[doc][idx])\n",
    "    idx += 1"
   ]
  },
  {
   "cell_type": "markdown",
   "metadata": {},
   "source": [
    "# start or end with non-alphabet char issues"
   ]
  },
  {
   "cell_type": "code",
   "execution_count": null,
   "metadata": {
    "scrolled": false
   },
   "outputs": [],
   "source": [
    "num_entities = 0\n",
    "for doc, entities_ in entities.items():\n",
    "    idx = 0\n",
    "    for entity in entities_:\n",
    "        num_entities += 1\n",
    "        start = entity[0]\n",
    "        end = entity[1]\n",
    "        ori_len = end - start\n",
    "        \n",
    "        content = entity[3].strip()\n",
    "        after_len = len(content)\n",
    "        \n",
    "        if ori_len != after_len:\n",
    "            start = start + ori_len - len(entity[3].lstrip())\n",
    "            end = start + after_len\n",
    "            # print('\\n', entities[doc][idx])\n",
    "            entities[doc][idx] = entity_pattern_with_content(start, end, entity, content)\n",
    "            print(entities[doc][idx])\n",
    "        idx += 1"
   ]
  },
  {
   "cell_type": "code",
   "execution_count": null,
   "metadata": {
    "scrolled": false
   },
   "outputs": [],
   "source": [
    "entities"
   ]
  },
  {
   "cell_type": "code",
   "execution_count": 12,
   "metadata": {},
   "outputs": [],
   "source": [
    "assert(num_entities > 2200)"
   ]
  },
  {
   "cell_type": "code",
   "execution_count": 13,
   "metadata": {},
   "outputs": [],
   "source": [
    "import pickle\n",
    "with open(join(DIR, \"entities_corrected.pkl\"), 'wb') as pkl_file:\n",
    "    pickle.dump(entities, pkl_file)"
   ]
  },
  {
   "cell_type": "code",
   "execution_count": 14,
   "metadata": {},
   "outputs": [
    {
     "data": {
      "text/plain": [
       "[(212, 219, 'FamilyMember', 'brother', {'SideOfFamily': 'NA'}, '1'),\n",
       " (237,\n",
       "  263,\n",
       "  'Observation',\n",
       "  'recurrent thyroid problems',\n",
       "  {'Negation': 'No'},\n",
       "  '9'),\n",
       " (282,\n",
       "  289,\n",
       "  'LivingStatus',\n",
       "  'healthy',\n",
       "  {'Alive': 'Yes', 'Healthy': 'NA', 'ID': None},\n",
       "  '13'),\n",
       " (345, 351, 'FamilyMember', 'father', {'SideOfFamily': 'NA'}, '2'),\n",
       " (345, 351, 'FamilyMember', 'father', {'SideOfFamily': 'NA'}, '7'),\n",
       " (364,\n",
       "  369,\n",
       "  'LivingStatus',\n",
       "  'alive',\n",
       "  {'Alive': 'Yes', 'Healthy': 'Yes', 'ID': None},\n",
       "  '10'),\n",
       " (385, 391, 'FamilyMember', 'mother', {'SideOfFamily': 'NA'}, '3'),\n",
       " (410, 422, 'Observation', 'hypertension', {'Negation': 'No'}, '5')]"
      ]
     },
     "execution_count": 14,
     "metadata": {},
     "output_type": "execute_result"
    }
   ],
   "source": [
    "entities['doc_118']"
   ]
  }
 ],
 "metadata": {
  "kernelspec": {
   "display_name": "Python 3",
   "language": "python",
   "name": "python3"
  },
  "language_info": {
   "codemirror_mode": {
    "name": "ipython",
    "version": 3
   },
   "file_extension": ".py",
   "mimetype": "text/x-python",
   "name": "python",
   "nbconvert_exporter": "python",
   "pygments_lexer": "ipython3",
   "version": "3.6.8"
  }
 },
 "nbformat": 4,
 "nbformat_minor": 2
}
