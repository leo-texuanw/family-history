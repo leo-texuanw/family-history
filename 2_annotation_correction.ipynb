{
 "cells": [
  {
   "cell_type": "code",
   "execution_count": 1,
   "metadata": {},
   "outputs": [],
   "source": [
    "import pickle as pkl\n",
    "from os.path import join\n",
    "\n",
    "DIR = './objects'"
   ]
  },
  {
   "cell_type": "code",
   "execution_count": 2,
   "metadata": {},
   "outputs": [],
   "source": [
    "with open(join(DIR, 'entities.pkl'), 'rb') as pkl_f:\n",
    "    entities = pkl.load(pkl_f)\n",
    "with open(join(DIR, 'texts.pkl'), 'rb') as pkl_f:\n",
    "    texts = pkl.load(pkl_f)"
   ]
  },
  {
   "cell_type": "markdown",
   "metadata": {},
   "source": [
    "# Minor offset issues\n",
    "- doc_50: full anned as FM\n",
    "- doc_169: first char missing at idx 10\n",
    "- doc_59: 3 lost last char"
   ]
  },
  {
   "cell_type": "code",
   "execution_count": 3,
   "metadata": {},
   "outputs": [],
   "source": [
    "# doc_50: full anned as FM\n",
    "del entities['doc_50'][5]"
   ]
  },
  {
   "cell_type": "code",
   "execution_count": 4,
   "metadata": {},
   "outputs": [],
   "source": [
    "def entity_pattern(start, end, entity, text):\n",
    "    return (start, end, entity[2], text[start:end], entity[4], entity[-1])\n",
    "\n",
    "def entity_pattern_with_content(start, end, entity, content):\n",
    "    return (start, end, entity[2], content, entity[4], entity[-1])"
   ]
  },
  {
   "cell_type": "code",
   "execution_count": 5,
   "metadata": {
    "scrolled": true
   },
   "outputs": [
    {
     "name": "stdout",
     "output_type": "stream",
     "text": [
      "(812, 817, 'LivingStatus', 'died ', {'Alive': 'No', 'Healthy': 'NA', 'ID': None}, '33')\n"
     ]
    }
   ],
   "source": [
    "doc, idx = 'doc_169', 10\n",
    "entity = entities[doc][idx]\n",
    "entities[doc][idx] = entity_pattern(entity[0]-1, entity[1], entity, texts[doc])\n",
    "print(entities[doc][idx])"
   ]
  },
  {
   "cell_type": "code",
   "execution_count": 6,
   "metadata": {},
   "outputs": [
    {
     "name": "stdout",
     "output_type": "stream",
     "text": [
      "(1499, 1517, 'Observation', 'pancreatic abscess', {'Negation': 'Yes'}, '7')\n",
      "(1521, 1542, 'Observation', 'libman sacks etiology', {'Negation': 'Yes'}, '8')\n",
      "(1636, 1642, 'Observation', 'cancer', {'Negation': 'Yes'}, '9')\n"
     ]
    }
   ],
   "source": [
    "doc = 'doc_59'\n",
    "idx = 12\n",
    "for entity in entities[doc][idx:]:\n",
    "    start = entity[0] + 1\n",
    "    end = entity[1] + 1\n",
    "    # print('\\n', entities[doc][idx])\n",
    "    entities[doc][idx] = entity_pattern(start, end, entity, texts[doc])\n",
    "    print(entities[doc][idx])\n",
    "    idx += 1"
   ]
  },
  {
   "cell_type": "markdown",
   "metadata": {},
   "source": [
    "# start or end with non-alphabet char issues"
   ]
  },
  {
   "cell_type": "code",
   "execution_count": null,
   "metadata": {
    "scrolled": false
   },
   "outputs": [],
   "source": [
    "num_entities = 0\n",
    "for doc, entities_ in entities.items():\n",
    "    idx = 0\n",
    "    for entity in entities_:\n",
    "        num_entities += 1\n",
    "        start = entity[0]\n",
    "        end = entity[1]\n",
    "        ori_len = end - start\n",
    "        \n",
    "        content = entity[3].strip()\n",
    "        after_len = len(content)\n",
    "        \n",
    "        if ori_len != after_len:\n",
    "            start = start + ori_len - len(entity[3].lstrip())\n",
    "            end = start + after_len\n",
    "            # print('\\n', entities[doc][idx])\n",
    "            entities[doc][idx] = entity_pattern_with_content(start, end, entity, content)\n",
    "            print(entities[doc][idx])\n",
    "        idx += 1"
   ]
  },
  {
   "cell_type": "code",
   "execution_count": null,
   "metadata": {
    "scrolled": false
   },
   "outputs": [],
   "source": [
    "entities"
   ]
  },
  {
   "cell_type": "code",
   "execution_count": 9,
   "metadata": {},
   "outputs": [],
   "source": [
    "assert(num_entities > 2200)"
   ]
  },
  {
   "cell_type": "code",
   "execution_count": 10,
   "metadata": {},
   "outputs": [],
   "source": [
    "import pickle\n",
    "with open(join(DIR, \"entities_corrected.pkl\"), 'wb') as pkl_file:\n",
    "    pickle.dump(entities, pkl_file)"
   ]
  },
  {
   "cell_type": "code",
   "execution_count": 11,
   "metadata": {
    "scrolled": true
   },
   "outputs": [
    {
     "data": {
      "text/plain": [
       "[(212, 219, 'FamilyMember', 'brother', {'SideOfFamily': 'NA'}, '1'),\n",
       " (237,\n",
       "  263,\n",
       "  'Observation',\n",
       "  'recurrent thyroid problems',\n",
       "  {'Negation': 'No'},\n",
       "  '9'),\n",
       " (282,\n",
       "  289,\n",
       "  'LivingStatus',\n",
       "  'healthy',\n",
       "  {'Alive': 'Yes', 'Healthy': 'NA', 'ID': None},\n",
       "  '13'),\n",
       " (345, 351, 'FamilyMember', 'father', {'SideOfFamily': 'NA'}, '2'),\n",
       " (345, 351, 'FamilyMember', 'father', {'SideOfFamily': 'NA'}, '7'),\n",
       " (364,\n",
       "  369,\n",
       "  'LivingStatus',\n",
       "  'alive',\n",
       "  {'Alive': 'Yes', 'Healthy': 'Yes', 'ID': None},\n",
       "  '10'),\n",
       " (385, 391, 'FamilyMember', 'mother', {'SideOfFamily': 'NA'}, '3'),\n",
       " (410, 422, 'Observation', 'hypertension', {'Negation': 'No'}, '5')]"
      ]
     },
     "execution_count": 11,
     "metadata": {},
     "output_type": "execute_result"
    }
   ],
   "source": [
    "entities['doc_118']"
   ]
  }
 ],
 "metadata": {
  "kernelspec": {
   "display_name": "Python 3",
   "language": "python",
   "name": "python3"
  },
  "language_info": {
   "codemirror_mode": {
    "name": "ipython",
    "version": 3
   },
   "file_extension": ".py",
   "mimetype": "text/x-python",
   "name": "python",
   "nbconvert_exporter": "python",
   "pygments_lexer": "ipython3",
   "version": "3.6.8"
  }
 },
 "nbformat": 4,
 "nbformat_minor": 2
}
