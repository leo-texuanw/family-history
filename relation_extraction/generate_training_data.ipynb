{
 "cells": [
  {
   "cell_type": "code",
   "execution_count": 1,
   "metadata": {},
   "outputs": [],
   "source": [
    "import xml.etree.ElementTree\n",
    "from os import listdir\n",
    "from os.path import join\n",
    "import functools\n",
    "import random\n",
    "import pickle as pkl\n",
    "import matplotlib.pyplot as plt\n",
    "\n",
    "WORK_DIR = \"../Data/bioc-FH-training/\"\n",
    "# PROCESSED_DIR = \"../Data/processed/\"\n",
    "OBJECTS_DIR = '../objects/'"
   ]
  },
  {
   "cell_type": "code",
   "execution_count": 2,
   "metadata": {},
   "outputs": [],
   "source": [
    "# get all data file names\n",
    "file_list  = listdir(WORK_DIR)\n",
    "file_names = set()\n",
    "\n",
    "for file in file_list:\n",
    "    if file != '' and file.endswith('txt'):\n",
    "        file_names.add(file.split('.')[0])\n",
    "\n",
    "assert(len(file_names) == 99)"
   ]
  },
  {
   "cell_type": "code",
   "execution_count": 3,
   "metadata": {},
   "outputs": [
    {
     "name": "stdout",
     "output_type": "stream",
     "text": [
      "[(329, 349, 'FamilyMember', 'Maternal grandfather', '33'), (378, 398, 'FamilyMember', 'Maternal grandmother', '35'), (435, 441, 'FamilyMember', 'Mother', '14'), (458, 474, 'Observation', 'severe nosebleed', '15'), (479, 490, 'Observation', 'thalassemia', '16'), (552, 565, 'FamilyMember', 'Maternal aunt', '37'), (595, 610, 'FamilyMember', 'Maternal uncles', '38'), (622, 636, 'Observation', 'stomach cancer', '19'), (641, 655, 'Observation', 'hypothyroidism', '20'), (680, 702, 'FamilyMember', 'maternal first cousins', '40'), (726, 746, 'FamilyMember', 'Paternal grandfather', '41'), (766, 781, 'Observation', 'type 2 diabetes', '42'), (812, 832, 'FamilyMember', 'Paternal grandmother', '43'), (857, 888, 'Observation', 'esophago pharyngeal diverticula', '23'), (897, 905, 'Observation', 'fainting', '22'), (908, 914, 'FamilyMember', 'Father', '24'), (935, 951, 'Observation', 'larynx carcinoma', '25'), (1013, 1018, 'FamilyMember', 'uncle', '6'), (1063, 1069, 'FamilyMember', 'cousin', '9'), (1091, 1099, 'FamilyMember', 'Siblings', '26'), (1121, 1129, 'Observation', 'ischemia', '28'), (1138, 1159, 'Observation', 'post traumatic eczema', '27'), (1184, 1205, 'Observation', 'splenic sequestration', '29')]\n"
     ]
    }
   ],
   "source": [
    "# get corrected entities with format\n",
    "# (start_posi, end_posi, type, content, id_in_xml)\n",
    "with open(join(OBJECTS_DIR, 'entities_corrected.pkl'), 'rb') as f:\n",
    "    entities = pkl.load(f)\n",
    "print(entities['doc_97'])"
   ]
  },
  {
   "cell_type": "code",
   "execution_count": 4,
   "metadata": {},
   "outputs": [],
   "source": [
    "with open(join(OBJECTS_DIR, 'sents.pkl'), 'rb') as f:\n",
    "    sents = pkl.load(f)"
   ]
  },
  {
   "cell_type": "markdown",
   "metadata": {},
   "source": [
    "# Get relation chains from annotated xml files"
   ]
  },
  {
   "cell_type": "code",
   "execution_count": 5,
   "metadata": {},
   "outputs": [],
   "source": [
    "def get_entity(entities, id):\n",
    "    for entity in entities:\n",
    "        if entity[4] == id:\n",
    "            return entity\n",
    "    return None"
   ]
  },
  {
   "cell_type": "code",
   "execution_count": 6,
   "metadata": {},
   "outputs": [
    {
     "name": "stdout",
     "output_type": "stream",
     "text": [
      "[(435, 441, 458, 474, 'FM-OBS'), (435, 441, 479, 490, 'FM-OBS'), (908, 914, 935, 951, 'FM-OBS'), (1091, 1099, 1121, 1129, 'FM-OBS'), (1091, 1099, 1138, 1159, 'FM-OBS'), (1091, 1099, 1184, 1205, 'FM-OBS'), (595, 610, 622, 636, 'FM-OBS'), (595, 610, 641, 655, 'FM-OBS'), (726, 746, 766, 781, 'FM-OBS'), (812, 832, 857, 888, 'FM-OBS'), (812, 832, 897, 905, 'FM-OBS')]\n"
     ]
    }
   ],
   "source": [
    "entity_pairs = {}\n",
    "negative_pairs = {}\n",
    "\n",
    "for file_name in file_names:\n",
    "    file_path = WORK_DIR + file_name + '.xml'\n",
    "    root = xml.etree.ElementTree.parse(file_path).getroot()\n",
    "    annotations = root.findall('annotations')[0]\n",
    "\n",
    "    for relation in annotations.findall('relation'):\n",
    "        properties = relation.find('properties')\n",
    "        fm_id = properties.find('FamilyMembers').text\n",
    "        \n",
    "        if not fm_id: # FamilyMembers is empty\n",
    "            continue\n",
    "        else:\n",
    "            fm = get_entity(entities[file_name], fm_id)\n",
    "        \n",
    "        for property_ in properties.findall('Properties'):\n",
    "            for entity in entities[file_name]:\n",
    "                if entity[4] == property_.text and entity[2] == 'Observation':\n",
    "                    entity_pair = (fm[0], fm[1], entity[0], entity[1], 'FM-OBS')\n",
    "                    entity_pairs[file_name] = entity_pairs.get(file_name, []) + [entity_pair]\n",
    "                else:\n",
    "                    negative_pair = (fm[0], fm[1], entity[0], entity[1], 'OTHERS')\n",
    "                    negative_pairs[file_name] = negative_pairs.get(file_name, []) + [negative_pair]\n",
    "print(entity_pairs['doc_97'])"
   ]
  },
  {
   "cell_type": "markdown",
   "metadata": {},
   "source": [
    "# Generating positive training data\n",
    "Concate the two sentences where FM and OBS are in"
   ]
  },
  {
   "cell_type": "code",
   "execution_count": 7,
   "metadata": {},
   "outputs": [],
   "source": [
    "def get_sent(sents, span_end):\n",
    "    span = 0\n",
    "    for sent_id, sent in enumerate(sents):\n",
    "        span += len(sent)\n",
    "        if span >= span_end:\n",
    "            return sent_id, sent\n",
    "    return None"
   ]
  },
  {
   "cell_type": "code",
   "execution_count": 8,
   "metadata": {},
   "outputs": [],
   "source": [
    "def entity_pairs2data(doc, ent_pairs, single_sent, diff, data):\n",
    "    for _, ent1_end, _, ent2_end, label in ent_pairs:\n",
    "        sent1 = get_sent(sents[doc], ent1_end)\n",
    "        sent2 = get_sent(sents[doc], ent2_end)\n",
    "        if sent1 and sent2:\n",
    "            if sent1[0] != sent2[0]:\n",
    "                # instance: ([sent_ids], sent1, sent2, label)\n",
    "                instance = ([doc, sent1[0], sent2[0]], sent1[1], sent2[1], label)\n",
    "                diff.insert(0, abs(sent2[0]-sent1[0]))\n",
    "            else:\n",
    "                single_sent += 1\n",
    "                instance = ([doc, sent1[0]], sent1[1], label)\n",
    "            data[doc] = data.get(doc, []) + [instance]\n",
    "    return single_sent, diff, data"
   ]
  },
  {
   "cell_type": "code",
   "execution_count": 9,
   "metadata": {},
   "outputs": [
    {
     "data": {
      "text/plain": [
       "(['doc_97', 6],\n",
       " 'Mother (II.4) has some severe nosebleed and thalassemia as a child but nothing unusual.',\n",
       " 'FM-OBS')"
      ]
     },
     "execution_count": 9,
     "metadata": {},
     "output_type": "execute_result"
    }
   ],
   "source": [
    "positive_data = {}\n",
    "diff, single_sent = [], 0\n",
    "\n",
    "for doc, ent_pairs in entity_pairs.items():\n",
    "    single_sent, diff, positive_data = entity_pairs2data(doc,\n",
    "                                                         ent_pairs,\n",
    "                                                         single_sent,\n",
    "                                                         diff,\n",
    "                                                         positive_data)\n",
    "positive_data['doc_97'][0]"
   ]
  },
  {
   "cell_type": "code",
   "execution_count": 10,
   "metadata": {},
   "outputs": [
    {
     "name": "stdout",
     "output_type": "stream",
     "text": [
      "In single sent: 307 , across sents: 440\n"
     ]
    },
    {
     "data": {
      "image/png": "[encoded data removed]",
      "text/plain": [
       "<Figure size 864x432 with 2 Axes>"
      ]
     },
     "metadata": {
      "needs_background": "light"
     },
     "output_type": "display_data"
    }
   ],
   "source": [
    "print(\"In single sent:\", single_sent, \", across sents:\", len(diff))\n",
    "fig, axs = plt.subplots(1, 2, figsize=(12, 6))\n",
    "\n",
    "names = ['single_sent', 'across_sents']\n",
    "values = [single_sent, len(diff)]\n",
    "axs[0].bar(names, values)\n",
    "\n",
    "axs[1].hist(diff)\n",
    "\n",
    "plt.show()"
   ]
  },
  {
   "cell_type": "markdown",
   "metadata": {},
   "source": [
    "# Generating negative training data"
   ]
  },
  {
   "cell_type": "code",
   "execution_count": 11,
   "metadata": {},
   "outputs": [
    {
     "data": {
      "text/plain": [
       "(['doc_97', 4, 14],\n",
       " 'Maternal grandfather (I.2), age 84, is healthy.',\n",
       " 'Father (II.6), age 51, had larynx carcinoma as a child but nothing out of the range of normal.',\n",
       " 'OTHERS')"
      ]
     },
     "execution_count": 11,
     "metadata": {},
     "output_type": "execute_result"
    }
   ],
   "source": [
    "neg_candidates = sum(map(len, negative_pairs.values()))\n",
    "len_posi = single_sent + len(diff)\n",
    "negative_data = {}\n",
    "\n",
    "neg_single_sent, neg_diff = 0, []\n",
    "\n",
    "for doc, ent_pairs in negative_pairs.items():\n",
    "    num_to_gen = round(len(ent_pairs) / neg_candidates * len_posi)\n",
    "    # TODO: adjust picked pairs ratio\n",
    "    picked_pairs = random.sample(ent_pairs, num_to_gen)\n",
    "    \n",
    "    neg_single_sent, neg_diff, negative_data = entity_pairs2data(doc,\n",
    "                                                                 picked_pairs,\n",
    "                                                                 neg_single_sent,\n",
    "                                                                 neg_diff,\n",
    "                                                                 negative_data)\n",
    "negative_data['doc_97'][0]"
   ]
  },
  {
   "cell_type": "code",
   "execution_count": 12,
   "metadata": {},
   "outputs": [
    {
     "name": "stdout",
     "output_type": "stream",
     "text": [
      "For negative data:\n",
      "In single sent: 67 , across sents: 674\n"
     ]
    },
    {
     "data": {
      "image/png": "[encoded data removed]",
      "text/plain": [
       "<Figure size 864x432 with 2 Axes>"
      ]
     },
     "metadata": {
      "needs_background": "light"
     },
     "output_type": "display_data"
    }
   ],
   "source": [
    "print(\"For negative data:\\nIn single sent:\", neg_single_sent, \", across sents:\", len(neg_diff))\n",
    "fig, axs = plt.subplots(1, 2, figsize=(12, 6))\n",
    "\n",
    "names = ['single_sent', 'across_sents']\n",
    "values = [neg_single_sent, len(neg_diff)]\n",
    "axs[0].bar(names, values)\n",
    "\n",
    "axs[1].hist(neg_diff)\n",
    "\n",
    "plt.show()"
   ]
  },
  {
   "cell_type": "markdown",
   "metadata": {},
   "source": [
    "# shuffling and split data"
   ]
  },
  {
   "cell_type": "code",
   "execution_count": 13,
   "metadata": {},
   "outputs": [],
   "source": [
    "data = []\n",
    "for doc, posi in positive_data.items():\n",
    "    try:\n",
    "        data += posi + negative_data[doc]\n",
    "    except KeyError:\n",
    "        pass\n",
    "random.shuffle(data)"
   ]
  },
  {
   "cell_type": "code",
   "execution_count": 14,
   "metadata": {},
   "outputs": [],
   "source": [
    "amount = len(data)\n",
    "train_ratio = 0.8\n",
    "validation = 1 - train_ratio\n",
    "\n",
    "data = {'train': data[:int(train_ratio*amount)], 'valid': data[int(train_ratio*amount):]}\n",
    "with open(join(OBJECTS_DIR, 're_data.pkl'), 'wb') as f:\n",
    "    pkl.dump(data, f)"
   ]
  },
  {
   "cell_type": "code",
   "execution_count": 15,
   "metadata": {},
   "outputs": [],
   "source": [
    "def write_data(data, file):\n",
    "    f = open(join(OBJECTS_DIR, file), 'w')\n",
    "    \n",
    "    for item in data:\n",
    "        if len(item[0]) < 3:  # single_sent\n",
    "            # content: [id, sent1, sent2, label]\n",
    "            content = [\"_\".join(map(str, item[0])), item[1], item[1], item[-1]]\n",
    "        else:\n",
    "            content = [\"_\".join(map(str, item[0])), item[1], item[2], item[-1]]\n",
    "        f.write('\\t'.join(content) + '\\n')\n",
    "        \n",
    "    f.close()\n",
    "\n",
    "write_data(data['train'], 're_train_data.txt')\n",
    "write_data(data['valid'], 're_valid_data.txt')"
   ]
  },
  {
   "cell_type": "code",
   "execution_count": null,
   "metadata": {},
   "outputs": [],
   "source": []
  }
 ],
 "metadata": {
  "kernelspec": {
   "display_name": "Python 3",
   "language": "python",
   "name": "python3"
  },
  "language_info": {
   "codemirror_mode": {
    "name": "ipython",
    "version": 3
   },
   "file_extension": ".py",
   "mimetype": "text/x-python",
   "name": "python",
   "nbconvert_exporter": "python",
   "pygments_lexer": "ipython3",
   "version": "3.6.8"
  }
 },
 "nbformat": 4,
 "nbformat_minor": 2
}
