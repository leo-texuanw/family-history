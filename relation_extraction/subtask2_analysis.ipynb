{
 "cells": [
  {
   "cell_type": "markdown",
   "metadata": {},
   "source": [
    "# Relations distribution"
   ]
  },
  {
   "cell_type": "code",
   "execution_count": 1,
   "metadata": {},
   "outputs": [],
   "source": [
    "import collections\n",
    "\n",
    "FILE = '../Data/train_subtask2_2.tsv'"
   ]
  },
  {
   "cell_type": "code",
   "execution_count": null,
   "metadata": {},
   "outputs": [],
   "source": [
    "# {doc_id: {'LivingStatus': [(fm, 0-4)],\n",
    "#           'Observation': [(fm, disease)]\n",
    "#          }\n",
    "# }\n",
    "relations = collections.defaultdict(dict)\n",
    "neg_obs = 0\n",
    "non_neg_obs = 0\n",
    "with open(FILE, 'r') as f:\n",
    "    for line in f.readlines():\n",
    "        line = line.strip('\\n').split('\\t')\n",
    "        if line[3] == \"Observation\":\n",
    "            doc_id, fm, _, relation, content, negated = line\n",
    "            relations[doc_id][relation] = relations.get(doc_id, {}).get(relation, []) \\\n",
    "                                          + [(fm, content)]\n",
    "            if negated == \"Negated\":\n",
    "                neg_obs += 1\n",
    "            else:\n",
    "                non_neg_obs += 1\n",
    "        elif line[3] == \"LivingStatus\":\n",
    "            doc_id, fm, _, relation, content = line\n",
    "            relations[doc_id][relation] = relations.get(doc_id, {}).get(relation, []) \\\n",
    "                                          + [(fm, content)]\n",
    "        \n",
    "for doc_id in relations:\n",
    "    print(relations[doc_id], '\\n')"
   ]
  },
  {
   "cell_type": "code",
   "execution_count": 3,
   "metadata": {},
   "outputs": [
    {
     "name": "stdout",
     "output_type": "stream",
     "text": [
      "neg_obs: 57 non_neg_obs: 683\n"
     ]
    }
   ],
   "source": [
    "print(\"neg_obs:\", neg_obs, \"non_neg_obs:\", non_neg_obs)"
   ]
  },
  {
   "cell_type": "code",
   "execution_count": 4,
   "metadata": {},
   "outputs": [
    {
     "name": "stdout",
     "output_type": "stream",
     "text": [
      "{9: 6, 1: 8, 7: 5, 4: 8, 19: 1, 10: 4, 3: 10, 11: 8, 2: 8, 14: 4, 5: 8, 0: 4, 12: 3, 8: 4, 16: 1, 17: 3, 20: 1, 6: 3, 15: 4, 18: 2, 13: 2, 27: 1}\n",
      "The total number of relationship in all docs is: 740\n",
      "The avg number of relationship in all docs is: 7.551020408163265\n"
     ]
    }
   ],
   "source": [
    "from collections import Counter\n",
    "obs_nums = {} # {obs_number_in_a_file: frequency_of_this_number}\n",
    "for doc_id in relations:\n",
    "    obs_count = len(relations.get(doc_id).get('Observation', []))\n",
    "    obs_nums[obs_count] = obs_nums.get(obs_count, 0) + 1\n",
    "print(obs_nums)\n",
    "\n",
    "total_obs_relation_num, total_doc_num = 0, 0\n",
    "for num_of_rela, freq in obs_nums.items():\n",
    "    total_obs_relation_num += num_of_rela * freq\n",
    "    total_doc_num += freq\n",
    "print('The total number of relationship in all docs is:', total_obs_relation_num)\n",
    "print('The avg number of relationship in all docs is:', total_obs_relation_num/total_doc_num)"
   ]
  },
  {
   "cell_type": "code",
   "execution_count": 5,
   "metadata": {},
   "outputs": [
    {
     "data": {
      "image/png": "[encoded data removed]",
      "text/plain": [
       "<Figure size 1008x504 with 1 Axes>"
      ]
     },
     "metadata": {
      "needs_background": "light"
     },
     "output_type": "display_data"
    }
   ],
   "source": [
    "import matplotlib.pyplot as plt\n",
    "%matplotlib inline\n",
    "plt.figure(figsize=(14,7))\n",
    "plt.bar(list(obs_nums.keys()), list(obs_nums.values()), tick_label=list(obs_nums.keys()))\n",
    "plt.title('Frequency of Number of observations per doc', fontsize=16)\n",
    "plt.xlabel('Number of relationships in one doc', fontsize=14)\n",
    "plt.ylabel('Frequency', fontsize=14)\n",
    "plt.show()"
   ]
  },
  {
   "cell_type": "markdown",
   "metadata": {},
   "source": [
    "# Distance of entities in relations"
   ]
  },
  {
   "cell_type": "code",
   "execution_count": 6,
   "metadata": {},
   "outputs": [],
   "source": [
    "import pickle as pkl\n",
    "from os.path import join\n",
    "\n",
    "DIR = '../objects'\n",
    "\n",
    "with open(join(DIR, 'train_sents.pkl'), 'rb') as pkl_f:\n",
    "    sents = pkl.load(pkl_f)"
   ]
  },
  {
   "cell_type": "code",
   "execution_count": 7,
   "metadata": {},
   "outputs": [
    {
     "name": "stdout",
     "output_type": "stream",
     "text": [
      "{0: 523, 1: 110, 2: 33, 3: 22, -1: 47, 6: 2, 7: 2, 5: 1}\n"
     ]
    }
   ],
   "source": [
    "def get_sent_id_of_ent(sents, ent):\n",
    "    ids = []\n",
    "    for i in range(len(sents)):\n",
    "        if ent in sents[i]:\n",
    "            ids.append(i)\n",
    "    return ids\n",
    "\n",
    "def min_dist_of_lists(l1, l2):\n",
    "    dists = [abs(d1 - d2) for d1 in l1 for d2 in l2]\n",
    "    return min(dists) if dists else -1\n",
    "\n",
    "obs_dist_freqs = {} # {dist: freq}\n",
    "for doc_id, doc_relations in relations.items():\n",
    "    doc_sents = list(map(lambda sent: sent.lower(), sents[doc_id]))\n",
    "    \n",
    "    for relation in doc_relations.get('Observation', []):\n",
    "        fm_sent_ids = get_sent_id_of_ent(doc_sents, relation[0].lower())\n",
    "        obs_sent_ids = get_sent_id_of_ent(doc_sents, relation[1].lower())\n",
    "        dist = min_dist_of_lists(fm_sent_ids, obs_sent_ids)\n",
    "        obs_dist_freqs[dist] = obs_dist_freqs.get(dist, 0) + 1\n",
    "        \n",
    "print(obs_dist_freqs)"
   ]
  },
  {
   "cell_type": "code",
   "execution_count": 8,
   "metadata": {},
   "outputs": [
    {
     "name": "stdout",
     "output_type": "stream",
     "text": [
      "70.67567567567568%\n",
      "523 out of 740 relations are inside one sentence.\n"
     ]
    },
    {
     "data": {
      "image/png": "[encoded data removed]",
      "text/plain": [
       "<Figure size 1008x504 with 1 Axes>"
      ]
     },
     "metadata": {
      "needs_background": "light"
     },
     "output_type": "display_data"
    }
   ],
   "source": [
    "print(str(obs_dist_freqs[0] / total_obs_relation_num * 100) + \"%\")\n",
    "print(str(obs_dist_freqs[0]) + \" out of \" + str(total_obs_relation_num) + \" relations are inside one sentence.\")\n",
    "plt.figure(figsize=(14,7))\n",
    "dist_of_relation_not_in_a_sent = obs_dist_freqs.pop(0)\n",
    "plt.bar(list(obs_dist_freqs.keys()), list(obs_dist_freqs.values()), tick_label=list(obs_dist_freqs.keys()))\n",
    "plt.title('Distribution of sentence distance of family members and observations in relations', fontsize=16)\n",
    "plt.xlabel('Sentence distance of family member and observation in one relation', fontsize=14)\n",
    "plt.ylabel('Frequency', fontsize=14)\n",
    "plt.show()"
   ]
  },
  {
   "cell_type": "markdown",
   "metadata": {},
   "source": [
    "| in one sentence | adjacent sentences | one sent in between | two sents in between | total |\n",
    "|----|:---:|:---:|:---:|:---:|\n",
    "|522(70.64%) | (110)14.88% | (33)4.47% | (22)2.98% | (687)92.96% |\n",
    "\n",
    "There are also 40/739 = 6.36% relationships can't directly find from original texts."
   ]
  },
  {
   "cell_type": "markdown",
   "metadata": {},
   "source": [
    "# Living Status"
   ]
  },
  {
   "cell_type": "code",
   "execution_count": 9,
   "metadata": {},
   "outputs": [
    {
     "name": "stdout",
     "output_type": "stream",
     "text": [
      "376\n"
     ]
    }
   ],
   "source": [
    "ls_nums = 0 # {obs_number_in_a_file: frequency_of_this_number}\n",
    "for doc_id in relations:\n",
    "    ls_nums += len(relations.get(doc_id).get('LivingStatus', []))\n",
    "\n",
    "print(ls_nums)"
   ]
  },
  {
   "cell_type": "code",
   "execution_count": null,
   "metadata": {},
   "outputs": [],
   "source": []
  }
 ],
 "metadata": {
  "kernelspec": {
   "display_name": "Python 3",
   "language": "python",
   "name": "python3"
  },
  "language_info": {
   "codemirror_mode": {
    "name": "ipython",
    "version": 3
   },
   "file_extension": ".py",
   "mimetype": "text/x-python",
   "name": "python",
   "nbconvert_exporter": "python",
   "pygments_lexer": "ipython3",
   "version": "3.6.8"
  }
 },
 "nbformat": 4,
 "nbformat_minor": 2
}
