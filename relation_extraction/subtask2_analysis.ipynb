{
 "cells": [
  {
   "cell_type": "markdown",
   "metadata": {},
   "source": [
    "# Relations distribution"
   ]
  },
  {
   "cell_type": "code",
   "execution_count": 1,
   "metadata": {},
   "outputs": [],
   "source": [
    "import collections\n",
    "\n",
    "FILE = '../Data/gs_tsv/subtask2_gs.tsv'"
   ]
  },
  {
   "cell_type": "code",
   "execution_count": 2,
   "metadata": {},
   "outputs": [
    {
     "name": "stdout",
     "output_type": "stream",
     "text": [
      "{'LivingStatus': [('Son', '4'), ('Daughter', '4'), ('Brother', '4'), ('Father', '4'), ('Grandfather', '0')], 'Observation': [('Uncle', 'ovarian failure'), ('Cousin', ' phaeochromocytoma'), ('Cousin', 'choreic dysphonia'), ('Mother', 'disorders of meninges'), ('Mother', 'bile duct adenocarcinoma'), ('Mother', 'neoplasm maligprostate '), ('Mother', 'lump of skin'), ('Father', 'men ii'), ('Grandfather', 'ear melanoma')]} \n",
      "\n",
      "{'LivingStatus': [('Son', '4'), ('Brother', '4'), ('Sister', '4'), ('Mother', '4'), ('Father', '4')], 'Observation': [('Sister', 'hypermnesia')]} \n",
      "\n",
      "{'Observation': [('Mother', 'umbilical cord anomaly'), ('Father', 'hypertension'), ('Father', 'drug overdose'), ('Aunt', 'vulvar sarcoma'), ('Aunt', 'gene mutation'), ('Grandmother', 'hypothyroidism'), ('Grandfather', 'hyperthermia')]} \n",
      "\n",
      "{'Observation': [('Daughter', 'genetic disease'), ('Aunt', 'nalbuphine allergy'), ('Aunt', 'miscarriages'), ('Cousin', 'schizophrenia')]} \n",
      "\n",
      "{'LivingStatus': [('Grandmother', '0')], 'Observation': [('Father', 'heart issues'), ('Father', 'alcoholism '), ('Father', 'depressed'), ('Mother', 'carrier of leptomeningeal metastases'), ('Mother', 'alcohol use '), ('Mother', 'heart murmur'), ('Mother', 'renal disease'), ('Mother', 'DKA'), ('Sister', 'cardiac problems infarction'), ('Sister', 'DKA'), ('Grandmother', 'heart attack'), ('Grandmother', 'cancer'), ('Uncle', 'herpes iris'), ('Grandfather', 'type 2 diabetes'), ('Grandfather', 'rheumatoid arthritis'), ('Grandfather', 'allergies'), ('Grandfather', 'genetic disease'), ('Grandfather', 'heavy smoker'), ('Daughter', 'hemophilia')]} \n",
      "\n",
      "{'LivingStatus': [('Grandfather', '0'), ('Grandfather', '0'), ('Grandmother', '0'), ('Grandmother', '0'), ('Father', '0')], 'Observation': [('Grandfather', 'cysticercosis'), ('Mother', 'Jejunum'), ('Mother', 'anthrax'), ('Daughter', 'cancers'), ('Grandmother', 'dermatitis acneiform'), ('Grandmother', 'heart disease'), ('Grandmother', 'keratitis actinic'), ('Uncle', 'cancers'), ('Father', 'hypermnesia'), ('Father', 'smoked')]} \n",
      "\n",
      "{'LivingStatus': [('Sister', '4'), ('Brother', '0'), ('Mother', '4')], 'Observation': [('Father', 'syndrome merrf'), ('Father', 'infiltrating ductal car'), ('Sister', 'syndrome merrf')]} \n",
      "\n",
      "{'LivingStatus': [('Mother', '0'), ('Father', '0'), ('Son', '4'), ('Brother', '2'), ('Grandmother', '0')], 'Observation': [('Sister', 'thalassemia '), ('Sister', 'type 2 diabetes '), ('Mother', 'babesia infection '), ('Mother', 'malignant blood disorder '), ('Mother', 'multiple sclerosis'), ('Father', 'emphysema paraseptal '), ('Father', 'aortic dilation'), ('Aunt', 'alzheimer disease '), ('Aunt', 'strep infections '), ('Aunt', 'disorder micturition '), ('Grandmother', 'disorder micturition ')]} \n",
      "\n",
      "{'LivingStatus': [('Sister', '2'), ('Grandmother', '0'), ('Father', '0')], 'Observation': [('Mother', 'cancer '), ('Mother', 'dextrocardia '), ('Sister', 'delleman syndrome'), ('Sister', 'myocardial infarction '), ('Sister', 'dextrocardia'), ('Sister', 'anomalies nervous system '), ('Grandmother', 'low platelets '), ('Father', 'tonsillitis '), ('Father', 'aortic dilation')]} \n",
      "\n",
      "{'LivingStatus': [('Father', '4'), ('Brother', '2')], 'Observation': [('Mother', 'hypertension'), ('Brother', 'recurrent thyroid problems')]} \n",
      "\n",
      "{'LivingStatus': [('Sister', '2'), ('Child', '4'), ('Grandfather', '0'), ('Grandmother', '0'), ('Father', '0'), ('Uncle', '0'), ('Aunt', '0'), ('Grandfather', '0'), ('Grandmother', '0'), ('Mother', '4'), ('Cousin', '0')], 'Observation': [('Father', ' asthma colliers'), ('Father', 'canker'), ('Father', 'torus palatinus'), ('Father', 'pancoast'), ('Father', ' pigmented skin'), ('Father', 'Uterine corbus'), ('Grandfather', ' IMMPaCtte'), ('Grandfather', 'embolism'), ('Grandfather', ' genital lichen planus'), ('Grandmother', 'asthma'), ('Grandmother', 'amebic eczema'), ('Mother', 'blood pressure'), ('Uncle', 'urethral corbus'), ('Cousin', 'heart attacks')]} \n",
      "\n",
      "{'LivingStatus': [('Daughter', '0'), ('Son', '2'), ('Mother', '0'), ('Father', '0')], 'Observation': [('Daughter', 'chloasma'), ('Mother', 'amebic abscess of skin'), ('Mother', 'smoker'), ('Mother', 'malignant blood disorder')]} \n",
      "\n",
      "{'LivingStatus': [('Mother', '0'), ('Aunt', '0'), ('Grandmother', '0')], 'Observation': [('Mother', 'p388 leukemia '), ('Mother', 'blood clot '), ('Aunt', 'p388 leukemia '), ('Aunt', 'brain cancer '), ('Grandmother', 'eating excess ')]} \n",
      "\n",
      "{'LivingStatus': [('Father', '4'), ('Brother', '4')]} \n",
      "\n",
      "{'LivingStatus': [('Brother', '2'), ('Daughter', '4'), ('Sister', '2'), ('Mother', '4')], 'Observation': [('Father', 'glaucoma '), ('Father', 'bone fragile '), ('Grandmother', 'NHL childhood ')]} \n",
      "\n",
      "{'LivingStatus': [('Mother', '0'), ('Grandmother', '2'), ('Grandfather', '0'), ('Cousin', '0'), ('Grandmother', '0')], 'Observation': [('Mother', 'memory lapses'), ('Grandmother', 'diabetes'), ('Cousin', ' ileitis pouch'), ('Child', 'cyclothymic personality'), ('Child', 'ductal'), ('Child', 'lung myolipoma'), ('Father', 'palinphrasia'), ('Father', 'pongidae disease'), ('Father', 'telangiectasia'), ('Father', 'syndrome scheie'), ('Father', 'acute proctitis'), ('Grandmother', 'corbus')]} \n",
      "\n",
      "{'LivingStatus': [('Father', '0'), ('Mother', '0'), ('Daughter', '0')], 'Observation': [('Sister', 'cancers'), ('Sister', 'malaria '), ('Father', 'never been ill '), ('Mother', 'stroke'), ('Brother', 'malaria '), ('Daughter', 'hydrocephalus '), ('Daughter', 'delleman syndrome '), ('Aunt', 'cancers')]} \n",
      "\n",
      "{'LivingStatus': [('Son', '4'), ('Father', '0'), ('Aunt', '0'), ('Uncle', '2')], 'Observation': [('Mother', 'leukemia'), ('Cousin', 'schizophrenia '), ('Father', 'asthma'), ('Aunt', 'schizophrenia '), ('Aunt', 'hypothyroidism '), ('Aunt', 'aneurysm or schizophrenia'), ('Uncle', 'asthma')]} \n",
      "\n",
      "{'LivingStatus': [('Cousin', '2')], 'Observation': [('Mother', 'cholera'), ('Mother', 'pseudotruncus arteriosus '), ('Father', 'CCHF'), ('Father', 'albers schonberg disease '), ('Aunt', 'uterine cancer'), ('Aunt', 'psychiatric conditions'), ('Aunt', 'heart issues '), ('Sister', 'angelman syndrome '), ('Son', 'type 2 diabetes'), ('Son', 'cholera '), ('Aunt', 'heart issues')]} \n",
      "\n",
      "{'Observation': [('Grandmother', 'deficiency endocrine '), ('Grandmother', 'CCHF'), ('Grandfather', 'melanoma'), ('Grandfather', 'colorblind'), ('Grandfather', 'cardiac disease'), ('Mother', 'cholera'), ('Mother', 'DKA'), ('Mother', 'dementia '), ('Mother', 'hemophilia'), ('Mother', 'multiple sclerosis'), ('Mother', 'recurrent malignant tumour '), ('Grandparent', 'prophylactic mastectomy'), ('Uncle', 'Marfan syndrome'), ('Father', 'prophylactic mastectomy')]} \n",
      "\n",
      "{'LivingStatus': [('Mother', '0')], 'Observation': [('Son', 'connective tissue'), ('Sister', 'nettle rash'), ('Mother', 'fever typhogastric '), ('Mother', 'gastroliths'), ('Mother', 'aphasia broca'), ('Father', 'pancreatitis fungal'), ('Father', 'cancer'), ('Brother', 'dubinis disease'), ('Brother', 'gonorrhea recurrent'), ('Brother', 'disease graves'), ('Brother', 'papillary carcinoma'), ('Child', 'mental behavioral disorders'), ('Child', ' familial polyposis'), ('Daughter', 'germ cell tumour ovarian recurrent')]} \n",
      "\n",
      "{'LivingStatus': [('Father', '2'), ('Mother', '0'), ('Brother', '2'), ('Sister', '0')], 'Observation': [('Father', 'lymphangitis'), ('Father', 'ileum ulcer'), ('Father', 'tumour of pyriform fossa'), ('Father', 'hepatic coma'), ('Father', 'neoplasm of cystic duct'), ('Father', 'spasm tic'), ('Father', 'stomach abscess'), ('Mother', 'melanoma ear'), ('Mother', 'sigmoiditis'), ('Mother', 'hemophilia'), ('Mother', 'myofascitis'), ('Brother', 'lymphocytoma'), ('Brother', 'leukocytopenias'), ('Sister', 'amylopectinoses'), ('Sister', 'edema stress'), ('Sibling', 'hemophilia')]} \n",
      "\n",
      "{'LivingStatus': [('Mother', '0')], 'Observation': [('Uncle', 'fingerprint myopathy'), ('Sibling', 'thyroid lump'), ('Sibling', 'hypertension'), ('Son', 'rhinoconjunctivitis '), ('Son', 'acute MI '), ('Son', 'giant cell pneumonia'), ('Son', 'loss function of labyrinth'), ('Grandparent', ' hypertension'), ('Father', 'type 2 diabetes'), ('Mother', 'leukemia pediatric acute lymphocytic t cell')]} \n",
      "\n",
      "{'LivingStatus': [('Cousin', '0'), ('Sister', '0')], 'Observation': [('Cousin', 'recurrent heart disease '), ('Cousin', 'iron allergy'), ('Cousin', 'fever uremic '), ('Sister', 'skin eruption '), ('Sister', 'hydrocephalus'), ('Cousin', 'fungus eczema'), ('Cousin', 'renal disease'), ('Aunt', ' nulnaris disorder'), ('Aunt', ' phacomatosis'), ('Uncle', ' phacomatosis'), ('Father', 'prolapse colon')]} \n",
      "\n",
      "{'LivingStatus': [('Uncle', '0'), ('Cousin', '4'), ('Daughter', '4'), ('Grandfather', '0'), ('Grandmother', '0'), ('Cousin', '4'), ('Grandfather', '0'), ('Aunt', '4'), ('Brother', '2')], 'Observation': [('Father', 'brown mclean syndrome '), ('Father', 'quadraplegia'), ('Father', ' meninges sarcoma'), ('Father', 'neck lipoma'), ('Daughter', ' febrile mucocutaneous syndrome'), ('Mother', 'vagina sarcoma '), ('Mother', 'odontomas'), ('Son', ' gastritis biliary'), ('Son', 'cancer'), ('Son', 'CCHF '), ('Grandfather', 'uricemia'), ('Grandmother', ' pneumonia'), ('Uncle', ' cystocoele'), ('Grandfather', ' cardiomyopathy amyloid etiology'), ('Grandfather', ' urachal cysts'), ('Grandmother', 'body tinea'), ('Grandmother', 'basiloma')]} \n",
      "\n",
      "{'LivingStatus': [('Uncle', '0'), ('Uncle', '0')], 'Observation': [('Mother', 'hypogonadism'), ('Grandmother', 'Down syndrome'), ('Aunt', 'Down syndrome'), ('Aunt', 'brain anoxia'), ('Uncle', 'gingival tumour'), ('Uncle', 'postnatal dysphoria'), ('Cousin', 'thigh abscess'), ('Uncle', 'necrosis scrotum'), ('Uncle', 'cancer'), ('Uncle', 'myasthenia gravis')]} \n",
      "\n",
      "{'LivingStatus': [('Daughter', '4'), ('Brother', '4'), ('Sister', '4')], 'Observation': [('Mother', 'heart murmur '), ('Father', 'stupor catatonic ')]} \n",
      "\n",
      "{'LivingStatus': [('Father', '4')], 'Observation': [('Father', 'polyp rectum'), ('Mother', 'elevated lipoprotein A levels')]} \n",
      "\n",
      "{'LivingStatus': [('Father', '2'), ('Mother', '0'), ('Brother', '2'), ('Sister', '0')], 'Observation': [('Father', 'uterus adhesion'), ('Father', 'akithisia'), ('Father', 'basal cell'), ('Father', 'lung cancer '), ('Father', 'lymphocoeles'), ('Father', 'prophylactic mastectomy'), ('Father', ' dextrocardia'), ('Father', ' suprarenal insufficiency'), ('Mother', 'neonatal death'), ('Mother', 'stomatitis'), ('Mother', 'sacral ulcer'), ('Mother', 'memory loss'), ('Mother', ' leukopenias'), ('Mother', 'cystdermoid'), ('Brother', 'pityriasis alba'), ('Brother', 'sinus cancer'), ('Brother', 'stomatitis'), ('Sister', 'lung fibroma'), ('Sister', 'pan microscopic '), ('Sister', 'stomatitis')]} \n",
      "\n",
      "{'LivingStatus': [('Son', '4'), ('Daughter', '4'), ('Brother', '4')], 'Observation': [('Aunt', 'climactericum epileptic '), ('Father', 'heavy smoker'), ('Father', 'brachyolmia'), ('Grandmother', 'cancer'), ('Grandparent', 'cancer'), ('Uncle', 'cholangioma'), ('Uncle', 'heavy smoker'), ('Uncle', 'tonsillitis'), ('Sister', ' sinus infections'), ('Sister', ' malaria'), ('Mother', 'sinus infections')]} \n",
      "\n",
      "{'LivingStatus': [('Mother', '0')], 'Observation': [('Aunt', 'low platelets '), ('Aunt', ' low platelets'), ('Sibling', 'cancer')]} \n",
      "\n",
      "{'LivingStatus': [('Brother', '4'), ('Mother', '4'), ('Father', '4')], 'Observation': [('Brother', 'steroid purpura'), ('Brother', 'keratoacanthoma '), ('Brother', 'klinefelter '), ('Mother', 'pneumothorax iatrogenic ')]} \n",
      "\n",
      "{'LivingStatus': [('Brother', '2'), ('Mother', '0'), ('Father', '0')], 'Observation': [('Mother', 'syndrome hemiparaplegic'), ('Father', 'enamel caries '), ('Father', 'imbecile')]} \n",
      "\n",
      "{'LivingStatus': [('Sister', '4'), ('Brother', '4'), ('Son', '4'), ('Daughter', '4'), ('Mother', '4'), ('Father', '4'), ('Uncle', '0')], 'Observation': [('Aunt', 'choroid plexus papilloma fourth ventricle'), ('Uncle', 'GI problems '), ('Uncle', 'pharynx cellulitis ')]} \n",
      "\n",
      "{'LivingStatus': [('Brother', '4'), ('Mother', '4'), ('Father', '4'), ('Sister', '4'), ('Parent', '4')]} \n",
      "\n",
      "{'LivingStatus': [('Uncle', '4')], 'Observation': [('Aunt', 'heart murmur')]} \n",
      "\n",
      "{'LivingStatus': [('Sibling', '4')], 'Observation': [('Mother', 'heart attack')]} \n",
      "\n",
      "{'LivingStatus': [('Daughter', '4'), ('Son', '4'), ('Brother', '4')], 'Observation': [('Uncle', 'krabbe'), ('Brother', ' abscess joint'), ('Brother', 'blood pressure'), ('Brother', 'krabbe '), ('Brother', 'viral meningitides'), ('Brother', ' skin syphilitic')]} \n",
      "\n",
      "{'Observation': [('Father', ' demyelinating diseases'), ('Father', 'suicide '), ('Father', ' overweight'), ('Uncle', ' obesity')]} \n",
      "\n",
      "{'LivingStatus': [('Grandfather', '4'), ('Aunt', '4'), ('Grandmother', '4')], 'Observation': [('Sister', 'gingival pregnancy tumour '), ('Mother', 'nipple neoplasm'), ('Mother', 'eardrum inflammation'), ('Cousin', 'shortness of breath '), ('Cousin', 'retrosternal hernia')]} \n",
      "\n",
      "{'Observation': [('Son', 'cancer')]} \n",
      "\n",
      "{'LivingStatus': [('Father', '4'), ('Sister', '0'), ('Mother', '0')], 'Observation': [('Sister', 'memory loss'), ('Mother', 'DVT')]} \n",
      "\n",
      "{'LivingStatus': [('Grandfather', '0'), ('Grandfather', '2')], 'Observation': [('Uncle', 'halassemia.'), ('Uncle', 'ypertension i'), ('Cousin', 'schizophrenia '), ('Cousin', ' schizophrenia'), ('Cousin', 'raft neurosis.'), ('Cousin', 'schizophrenia.'), ('Aunt', 'schizophrenia '), ('Aunt', ' schizophrenia'), ('Uncle', 'asthma'), ('Grandfather', 'sthma.'), ('Grandmother', 'iabetes '), ('Grandmother', 'AR syndrome '), ('Mother', 'eart disease '), ('Grandfather', 'raft site infection '), ('Grandfather', 'owel bypass syndrome.')]} \n",
      "\n",
      "{'Observation': [('Daughter', 'oxaluria'), ('Brother', 'MS'), ('Mother', 'cysticercosis'), ('Mother', 'Bone marrow cancer'), ('Father', 'cancer'), ('Cousin', 'leukemia'), ('Sister', 'leukemia')]} \n",
      "\n",
      "{'LivingStatus': [('Cousin', '4'), ('Grandmother', '0'), ('Grandfather', '0'), ('Mother', '0'), ('Uncle', '4'), ('Grandparent', '0'), ('Father', '0'), ('Uncle', '0')], 'Observation': [('Cousin', 'cancer'), ('Grandfather', 'gynecologic tumor'), ('Son', 'pneumonia'), ('Son', 'dysplasia of anus'), ('Son', 'heart disease '), ('Mother', 'neutrophilic hyperplasia'), ('Father', 'liver necrosis'), ('Uncle', 'connective tissue')]} \n",
      "\n",
      "{'LivingStatus': [('Sister', '4'), ('Father', '4'), ('Daughter', '4')], 'Observation': [('Brother', 'Infiltrating ductal carcinoma '), ('Mother', 'tophi'), ('Mother', 'hairy tongues'), ('Sister', 'paramyloidosis'), ('Sister', 'type 2 diabetes')]} \n",
      "\n",
      "{'LivingStatus': [('Daughter', '4'), ('Sister', '4'), ('Mother', '4')], 'Observation': [('Sister', 'pyelitis acute'), ('Father', 'mousepox')]} \n",
      "\n",
      "{'Observation': [('Sister', 'iron disorder '), ('Sister', 'atrial fibrillation'), ('Sister', 'COPD'), ('Grandfather', 'hypermnesia'), ('Grandfather', 'endosalpingiosis'), ('Brother', 'presbyopia with astigmatism'), ('Father', 'esophageal infections'), ('Mother', 'esophageal infections'), ('Mother', 'pneumonia'), ('Mother', 'COPD')]} \n",
      "\n",
      "{'LivingStatus': [('Cousin', '4')], 'Observation': [('Aunt', 'acute middle ear effusion'), ('Cousin', 'epilepsy senile')]} \n",
      "\n",
      "{'Observation': [('Father', 'overweight')]} \n",
      "\n",
      "{'LivingStatus': [('Mother', '0'), ('Aunt', '0'), ('Brother', '4'), ('Sister', '4')], 'Observation': [('Mother', 'psoriasis nummular'), ('Aunt', 'malignant smallpox'), ('Aunt', 'hypertension'), ('Brother', 'cervix metritis')]} \n",
      "\n",
      "{'LivingStatus': [('Uncle', '0'), ('Sister', '4')], 'Observation': [('Daughter', 'cancer'), ('Father', 'salmonella infection'), ('Father', 'kanamycin allergy'), ('Uncle', 'aneurysm'), ('Sister', 'gynatresias'), ('Sister', 'osteoporosis')]} \n",
      "\n",
      "{'LivingStatus': [('Brother', '4')], 'Observation': [('Sibling', 'bird pox'), ('Brother', 'nails soft')]} \n",
      "\n",
      "{'LivingStatus': [('Son', '4'), ('Sister', '4'), ('Brother', '4'), ('Father', '4'), ('Uncle', '0'), ('Mother', '4')], 'Observation': [('Aunt', 'waardenburg'), ('Aunt', 'lung cancer'), ('Aunt', 'dwarfism'), ('Grandmother', 'blood disease'), ('Grandfather', 'fainting'), ('Mother', 'cancers anal'), ('Mother', 'heart murmur')]} \n",
      "\n",
      "{'LivingStatus': [('Grandmother', '0'), ('Grandfather', '0'), ('Grandmother', '0'), ('Uncle', '4'), ('Father', '4'), ('Cousin', '2'), ('Cousin', '4'), ('Sister', '4')], 'Observation': [('Grandfather', 'gangliosidosis'), ('Grandmother', 'phycomycosis'), ('Aunt', 'surface dyslexia'), ('Grandfather', 'meningitis recurrent'), ('Grandfather', 'foot ulcer'), ('Mother', 'papillary carcinoma'), ('Child', 'paranasal sinus cancer'), ('Child', 'hemophilia'), ('Father', 'pachygyria'), ('Father', 'hemophilia'), ('Aunt', 'pineoblastoma')]} \n",
      "\n",
      "{'LivingStatus': [('Mother', '0'), ('Father', '0'), ('Grandfather', '0'), ('Grandmother', '0'), ('Aunt', '2'), ('Cousin', '0'), ('Grandfather', '0'), ('Grandmother', '0'), ('Sister', '0'), ('Daughter', '4')], 'Observation': [('Mother', 'cysticercosis'), ('Mother', 'hysterectomy'), ('Father', 'puerperal salpingitis'), ('Grandfather', 'gastric tumor'), ('Grandmother', 'hysterectomy'), ('Aunt', 'urethral cancer'), ('Aunt', 'heart disease'), ('Aunt', 'lesch nyhan syndrome'), ('Aunt', 'hysterectomy'), ('Cousin', 'ileocolitis'), ('Cousin', 'haglunds'), ('Grandfather', 'thiamine deficiencies'), ('Sister', 'factor S deficiency'), ('Brother', 'cancer'), ('Son', 'ekbom syndrome'), ('Son', 'laryngeal sarcomatoid carcinoma'), ('Son', 'sinus testis'), ('Son', 'oral glyceryl trinitrate allergy')]} \n",
      "\n",
      "{'LivingStatus': [('Brother', '4'), ('Sister', '4'), ('Mother', '4'), ('Grandmother', '4'), ('Grandfather', '0'), ('Uncle', '4'), ('Grandfather', '0')], 'Observation': [('Mother', 'hepatic coma'), ('Grandmother', ' lactrodectism'), ('Grandfather', 'smoker'), ('Grandfather', 'sirenomelia'), ('Grandmother', 'skin cancer'), ('Grandmother', 'nonsmoker'), ('Grandfather', 'asthma'), ('Aunt', 'pancreas mass')]} \n",
      "\n",
      "{'LivingStatus': [('Brother', '4'), ('Mother', '4'), ('Father', '4'), ('Uncle', '0'), ('Daughter', '4'), ('Son', '4')], 'Observation': [('Uncle', 'cystic fibrosis in '), ('Aunt', 'fibrous cavernitides'), ('Cousin', ' diabetes')]} \n",
      "\n",
      "{'LivingStatus': [('Sister', '4'), ('Brother', '4'), ('Mother', '4')], 'Observation': [('Sister', 'enamel caries'), ('Mother', 'miscarriages'), ('Grandmother', 'cholera')]} \n",
      "\n",
      "{'Observation': [('Aunt', ' paranasal sinus cancer'), ('Cousin', 'cholera'), ('Brother', 'low platelets'), ('Brother', 'roaring'), ('Brother', 'hemophilia'), ('Brother', 'suicide')]} \n",
      "\n",
      "{'Observation': [('Son', ' cancer')]} \n",
      "\n",
      "{'LivingStatus': [('Brother', '4'), ('Sister', '0'), ('Mother', '0'), ('Father', '2')], 'Observation': [('Sister', 'due to an leukemia'), ('Mother', 'PAP')]} \n",
      "\n",
      "{'LivingStatus': [('Grandmother', '0'), ('Cousin', '0')], 'Observation': [('Grandfather', 'thyroid problems '), ('Grandmother', 'lipoidemia'), ('Father', 'stressors'), ('Grandmother', ' infiltrating ductal carcinoma'), ('Grandmother', 'hemophilia'), ('Uncle', 'alcohol'), ('Uncle', 'drugs'), ('Grandfather', 'nail disease'), ('Mother', 'chronic pain'), ('Mother', 'skin'), ('Mother', 'brain problems')]} \n",
      "\n",
      "{'LivingStatus': [('Grandfather', '0'), ('Grandmother', '0'), ('Grandfather', '0')], 'Observation': [('Mother', 'vulvar corbus'), ('Aunt', 'low platelets'), ('Aunt', 'enamel caries'), ('Aunt', 'nickel eczema'), ('Uncle', 'asthma'), ('Grandfather', 'corbus'), ('Grandmother', 'dwarfism'), ('Grandmother', 'brain corbus'), ('Cousin', ' schizophrenia'), ('Cousin', 'hypothyroidism'), ('Uncle', 'lung corbus'), ('Uncle', 'acute chorea'), ('Grandfather', 'desmoplastic'), ('Grandfather', 'learning disabilities')]} \n",
      "\n",
      "{'LivingStatus': [('Son', '4'), ('Brother', '4'), ('Grandmother', '0'), ('Grandfather', '0'), ('Grandmother', '2'), ('Grandfather', '2'), ('Daughter', '4'), ('Mother', '0'), ('Aunt', '0'), ('Aunt', '0'), ('Uncle', '0')], 'Observation': [('Brother', 'uvulitis'), ('Sister', 'malaria'), ('Sister', ' a Rube'), ('Grandmother', ' a nevus ben'), ('Grandfather', 'or timolol alle'), ('Grandfather', 'er ma'), ('Father', ' a anal tum'), ('Grandmother', 'of mental disorder caffe'), ('Grandfather', 'of syndrome fr'), ('Mother', 'th thymus atro'), ('Aunt', 'th skrjabinemo'), ('Aunt', 'of noe'), ('Aunt', 'th anemia gene'), ('Aunt', 'of aspirin ab'), ('Aunt', 'of orbital va'), ('Aunt', 'ad leprosy neu'), ('Uncle', 'of hypermne')]} \n",
      "\n",
      "{'LivingStatus': [('Grandfather', '0'), ('Father', '0'), ('Grandfather', '0'), ('Grandmother', '0'), ('Daughter', '4'), ('Uncle', '0'), ('Brother', '4'), ('Aunt', '0')], 'Observation': [('Grandfather', 'cholera'), ('Father', 'allergies'), ('Father', 'cholera'), ('Father', 'cerebral palsy'), ('Grandfather', 'mucous colon'), ('Grandmother', 'acne comedonal'), ('Uncle', 'stressors'), ('Uncle', 'dextrocardia'), ('Cousin', 'xeroma'), ('Sister', 'yaba pox'), ('Sister', 'angiolipomas'), ('Brother', 'peanut allergies'), ('Aunt', 'peritoneal cancer')]} \n",
      "\n",
      "{'LivingStatus': [('Aunt', '0'), ('Uncle', '0')], 'Observation': [('Mother', 'ulcer bladder'), ('Aunt', 'extramembranous glomerulopathy'), ('Aunt', 'alcohol use'), ('Cousin', 'heart murmur'), ('Grandfather', 'hypothyroidism'), ('Grandfather', 'smoking'), ('Father', 'hypermnesia'), ('Father', 'type 2 diabetes'), ('Uncle', 'fainting')]} \n",
      "\n",
      "{'LivingStatus': [('Aunt', '0'), ('Grandfather', '0'), ('Sister', '0')], 'Observation': [('Aunt', 'uterine cancer'), ('Grandfather', 'cancer'), ('Father', 'cancers'), ('Sister', 'encephalitis periaxialis'), ('Sister', 'seizures')]} \n",
      "\n",
      "{'LivingStatus': [('Child', '4'), ('Grandfather', '0'), ('Aunt', '0'), ('Grandmother', '0'), ('Cousin', '0')], 'Observation': [('Father', 'factor S deficiency'), ('Father', 'peribronchial pneumonia.'), ('Aunt', 'corbus'), ('Aunt', 'planus lichen'), ('Grandmother', 'heart issues'), ('Cousin', 'cancer'), ('Mother', 'cyesiophobia')]} \n",
      "\n",
      "{'LivingStatus': [('Mother', '0'), ('Grandmother', '0'), ('Grandmother', '0'), ('Daughter', '4'), ('Son', '4'), ('Sister', '4'), ('Grandfather', '0'), ('Grandfather', '0'), ('Aunt', '2'), ('Cousin', '2'), ('Father', '0'), ('Uncle', '0'), ('Aunt', '0')], 'Observation': [('Mother', 'low platelets'), ('Mother', 'acute disorder'), ('Grandmother', 'hypothyroidism'), ('Grandmother', 'lameness'), ('Grandfather', 'hypertension'), ('Grandfather', 'asthma'), ('Grandfather', 'heart issues'), ('Aunt', 'pineoblastoma'), ('Cousin', 'cholera'), ('Cousin', 'complications after childbirth'), ('Father', 'smoker'), ('Father', 'thalassemia'), ('Uncle', 'angelman syndrome'), ('Uncle', 'oligodendroglioma'), ('Aunt', 'acute schizophrenic')]} \n",
      "\n",
      "{'LivingStatus': [('Son', '4'), ('Brother', '4'), ('Mother', '4'), ('Father', '4'), ('Sister', '4')], 'Observation': [('Sister', 'miscarriage')]} \n",
      "\n",
      "{'LivingStatus': [('Mother', '0'), ('Grandmother', '0'), ('Grandfather', '0'), ('Grandmother', '0'), ('Cousin', '0')], 'Observation': [('Sibling', 'apeded'), ('Father', 'hyperthermia '), ('Father', 'fungal infection'), ('Father', 'umbilical cord anomaly'), ('Father', 'hemochromatosis'), ('Father', 'pineal syndrome'), ('Son', 'wolman'), ('Son', 'deficiency pyridoxamine'), ('Son', 'cittotaeniosis'), ('Mother', 'comas hepatic'), ('Grandmother', 'osselets'), ('Grandmother', 'cancer'), ('Cousin', 'heart attacks')]} \n",
      "\n",
      "{'LivingStatus': [('Son', '4'), ('Brother', '4'), ('Sister', '4')], 'Observation': [('Sister', 'adrenal disorder'), ('Mother', 'smoker'), ('Mother', 'ovariocele'), ('Father', 'smoker')]} \n",
      "\n",
      "{'LivingStatus': [('Son', '4'), ('Daughter', '4')], 'Observation': [('Son', 'myocardial damage'), ('Daughter', 'biliary tumour'), ('Daughter', 'nutritional cirrhosis'), ('Daughter', 'domperidone allergy'), ('Daughter', 'entropion'), ('Daughter', 'giant colon'), ('Daughter', 'nervous diarrhea'), ('Daughter', 'coronary artery disease'), ('Daughter', 'emphysema'), ('Daughter', 'mentally-handicapped deaf'), ('Daughter', 'hepatopulmonary syndromes')]} \n",
      "\n",
      "{'LivingStatus': [('Cousin', '0'), ('Mother', '4'), ('Grandmother', '0'), ('Daughter', '2'), ('Aunt', '0'), ('Uncle', '4'), ('Grandfather', '0'), ('Grandmother', '0')], 'Observation': [('Cousin', 'staccato speech'), ('Mother', 'pineal tumor'), ('Grandmother', 'acromioclavicular infection'), ('Grandmother', 'heart attack'), ('Grandmother', 'congestive heart failure'), ('Father', 'psychosis manic'), ('Father', 'fecalith appendix'), ('Father', 'uterus myoma'), ('Father', 'emotional crisis'), ('Father', 'fetish'), ('Brother', 'oesophageal neoplasm metastatic'), ('Aunt', 'smoker'), ('Aunt', 'skin cancer'), ('Aunt', 'cardiac problems infarction'), ('Grandfather', 'skin cancer'), ('Grandfather', 'sternal neoplasm'), ('Grandmother', 'albright disease')]} \n",
      "\n",
      "{'LivingStatus': [('Child', '4'), ('Father', '0'), ('Mother', '0')], 'Observation': [('Daughter', 'chorea syndromes'), ('Daughter', 'lufts disease'), ('Father', 'coma insulin'), ('Father', 'submucosal cleft palate'), ('Father', 'colon cancer'), ('Father', 'dermal'), ('Sibling', 'kidney problems'), ('Aunt', 'uterine cancer'), ('Mother', 'depression'), ('Mother', 'alzheimer disease'), ('Mother', 'myriapodiasis'), ('Mother', 'umbilical cord anomaly'), ('Mother', 'hypertension'), ('Mother', 'colon spasm'), ('Mother', 'edema cornea'), ('Sister', 'grawitz tumor'), ('Sister', 'neoplasm of the urethra'), ('Sister', 'porphyria acute')]} \n",
      "\n",
      "{'LivingStatus': [('Uncle', '2'), ('Grandfather', '0')], 'Observation': [('Father', 'groin melanoma'), ('Uncle', 'groin melanoma'), ('Grandfather', 'low platelets'), ('Daughter', 'clubfoot')]} \n",
      "\n",
      "{'LivingStatus': [('Brother', '4'), ('Grandmother', '2'), ('Mother', '0'), ('Uncle', '0')], 'Observation': [('Grandmother', 'carrier for acromioclavicular infection'), ('Grandmother', 'carrier of acromioclavicular infection'), ('Mother', 'acromioclavicular infection'), ('Aunt', 'ACI carrier'), ('Uncle', 'acromioclavicular infection')]} \n",
      "\n",
      "{'LivingStatus': [('Mother', '4'), ('Father', '4'), ('Cousin', '4'), ('Son', '4'), ('Sister', '4'), ('Brother', '4')]} \n",
      "\n",
      "{'LivingStatus': [('Daughter', '4'), ('Son', '4'), ('Grandfather', '0'), ('Brother', '0'), ('Mother', '4'), ('Grandmother', '0')], 'Observation': [('Father', ' corbus '), ('Father', 'reflux duodenal'), ('Grandmother', 'muscle tissue neoplasms'), ('Cousin', 'phorias '), ('Grandfather', 'heller'), ('Grandfather', 'skin disease'), ('Grandfather', 'deviation sex'), ('Brother', 'legs ulcers'), ('Mother', 'vitreous syneresis'), ('Mother', 'myocarditis'), ('Aunt', 'behcet arthritides'), ('Aunt', 'pigbel'), ('Aunt', 'gaze apraxia'), ('Aunt', 'viral illness'), ('Aunt', 'halzoun'), ('Aunt', 'salmonella pneumonia'), ('Uncle', 'pigbel'), ('Uncle', 'halzoun'), ('Grandmother', 'perthes'), ('Aunt', 'atrophic hair'), ('Aunt', 'bile nephrosis'), ('Aunt', 'fryns syndrome'), ('Uncle', 'thinking reduced'), ('Uncle', 'smoker'), ('Uncle', 'timber tongue'), ('Uncle', 'tarsal coalition'), ('Uncle', 'carcinofibroma')]} \n",
      "\n",
      "{'LivingStatus': [('Aunt', '4'), ('Uncle', '4')], 'Observation': [('Grandmother', 'brain cancer ')]} \n",
      "\n",
      "{'LivingStatus': [('Brother', '4'), ('Sister', '2'), ('Aunt', '0')], 'Observation': [('Mother', 'heart disease'), ('Father', 'abscessdental'), ('Father', 'asthmamalaria'), ('Father', 'heart issues'), ('Father', 'thyroid problems'), ('Father', 'seizureabsence'), ('Father', 'dyslexia'), ('Father', 'hyperlipidemia'), ('Father', 'blood clots'), ('Father', 'edema retina'), ('Sister', 'alcoholism'), ('Aunt', 'heart disease')]} \n",
      "\n",
      "{'LivingStatus': [('Sister', '4'), ('Grandmother', '0'), ('Daughter', '4'), ('Uncle', '0'), ('Grandfather', '0')], 'Observation': [('Grandmother', ' low platelet'), ('Mother', 'low platelets'), ('Mother', 'multiple sclerosis'), ('Mother', 'alzheimer disease'), ('Uncle', 'smoker'), ('Uncle', 'hypermnesia'), ('Uncle', 'heart disease'), ('Grandfather', ' alcohol us')]} \n",
      "\n",
      "{'LivingStatus': [('Daughter', '4'), ('Sister', '4'), ('Mother', '0'), ('Aunt', '0'), ('Uncle', '4'), ('Cousin', '4'), ('Grandfather', '0'), ('Father', '0'), ('Uncle', '0'), ('Brother', '0'), ('Grandmother', '0'), ('Aunt', '0'), ('Cousin', '4')], 'Observation': [('Mother', 'ischemia brain'), ('Mother', 'asthma'), ('Aunt', 'cholera'), ('Uncle', 'stroke'), ('Grandfather', 'cancer'), ('Father', 'schizophrenia'), ('Uncle', 'pancreatic metastases'), ('Brother', 'hypothyroidism'), ('Aunt', 'cardiac bypass surgery')]} \n",
      "\n",
      "{'LivingStatus': [('Son', '4'), ('Daughter', '4'), ('Aunt', '0'), ('Grandmother', '0'), ('Aunt', '0')], 'Observation': [('Uncle', ' syndromes fraxe'), ('Father', 'sponge kidney medullary'), ('Mother', 'indiana fever'), ('Mother', 'otitis media acute seromucinous'), ('Mother', 'pneumonitis toxoplasmal '), ('Aunt', ' hypomnesia'), ('Aunt', 'pleura exudate'), ('Grandmother', 'sjogrens'), ('Aunt', 'mikulicz')]} \n",
      "\n",
      "{'LivingStatus': [('Mother', '0')], 'Observation': [('Mother', 'blood pressure'), ('Daughter', 'colonoscopy'), ('Child', 'colonoscopy')]} \n",
      "\n",
      "{'LivingStatus': [('Uncle', '0'), ('Uncle', '0')], 'Observation': [('Mother', 'heart issues'), ('Cousin', 'pelvic cancer'), ('Aunt', 'heart issues'), ('Grandmother', 'pelvic cancer'), ('Uncle', 'cancer of the brain'), ('Uncle', 'type 2 diabetes '), ('Aunt', 'pelvic cancer'), ('Uncle', 'cancer of his leg '), ('Uncle', 'testicular cancer')]} \n",
      "\n",
      "{'LivingStatus': [('Sister', '4'), ('Son', '4'), ('Daughter', '4'), ('Brother', '4'), ('Father', '0')], 'Observation': [('Mother', 'hemophilia'), ('Father', 'smoker'), ('Father', 'diabetes mellitus')]} \n",
      "\n",
      "{'LivingStatus': [('Grandfather', '2'), ('Grandmother', '2'), ('Sibling', '2'), ('Cousin', '2')], 'Observation': [('Father', 'chronic pulmonary disease'), ('Uncle', 'depressed'), ('Grandfather', 'smoker'), ('Grandfather', 'depressed'), ('Grandmother', 'smoker')]} \n",
      "\n",
      "{'LivingStatus': [('Sister', '2'), ('Son', '4'), ('Mother', '0'), ('Father', '0'), ('Aunt', '2'), ('Cousin', '2'), ('Grandmother', '2'), ('Grandfather', '0'), ('Uncle', '0'), ('Aunt', '0'), ('Grandmother', '0'), ('Grandfather', '0')], 'Observation': [('Mother', 'peptic ulcers'), ('Mother', 'hypothyroidism'), ('Father', 'skin cancer'), ('Father', 'smoker'), ('Aunt', 'renal disease'), ('Cousin', 'cholera '), ('Grandmother', 'hypothyroidism'), ('Grandfather', 'asthma heart'), ('Uncle', 'alzheimer disease'), ('Uncle', 'jamaican syndrome'), ('Aunt', 'shortness of breath'), ('Aunt', 'an accident'), ('Grandmother', 'seizures'), ('Grandfather', 'stroke'), ('Grandfather', 'hypertension')]} \n",
      "\n",
      "{'LivingStatus': [('Mother', '0'), ('Aunt', '0'), ('Grandmother', '0')], 'Observation': [('Mother', 'cystitides'), ('Mother', 'thyroid toxic'), ('Aunt', 'spinal tumor'), ('Aunt', 'dermanyssosis'), ('Grandmother', 'heart disease')]} \n",
      "\n",
      "{'LivingStatus': [('Brother', '2'), ('Sister', '2'), ('Aunt', '0'), ('Grandmother', '0'), ('Aunt', '0'), ('Grandparent', '0')], 'Observation': [('Daughter', 'dystocia'), ('Brother', 'cardiac bypass surgery'), ('Sister', 'stroke'), ('Sister', 'thyromegaly'), ('Sister', 'heart attack'), ('Mother', 'medicatiions'), ('Mother', 'heart issues'), ('Father', 'pelvic cancer'), ('Uncle', 'asthma'), ('Aunt', 'dyslexia'), ('Aunt', 'smoker'), ('Aunt', 'GE reflux'), ('Aunt', 'carcinoma bladder'), ('Grandmother', 'heart disease'), ('Uncle', 'cancer')]} \n",
      "\n",
      "{'LivingStatus': [('Mother', '2'), ('Aunt', '4'), ('Father', '4'), ('Uncle', '0'), ('Cousin', '4'), ('Brother', '4'), ('Daughter', '2'), ('Son', '4'), ('Grandmother', '0'), ('Uncle', '0'), ('Cousin', '4'), ('Grandfather', '4'), ('Aunt', '4')], 'Observation': [('Grandmother', 'hyoid myoclonus'), ('Grandmother', 'nephrosis cholemic'), ('Grandmother', 'wind sucking'), ('Grandfather', 'infectionbitespider'), ('Grandfather', 'fsc lymphoma'), ('Grandmother', 'cyclic schizophrenia'), ('Grandmother', 'high cholesterol'), ('Grandmother', 'hallucinosis'), ('Grandmother', 'renal pelvis tumour'), ('Uncle', 'histoplasma capsulatum infection'), ('Uncle', 'retina disorder'), ('Uncle', 'histoplasma capsulatum infection')]} \n",
      "\n",
      "{'LivingStatus': [('Father', '2'), ('Sister', '2'), ('Mother', '2')]} \n",
      "\n",
      "{'LivingStatus': [('Mother', '0')], 'Observation': [('Aunt', 'low platelets'), ('Mother', 'fall')]} \n",
      "\n",
      "{'Observation': [('Grandmother', 'heart issues'), ('Grandfather', 'type 2 diabetes'), ('Grandfather', 'hypertension'), ('Aunt', 'hypertension')]} \n",
      "\n",
      "{'LivingStatus': [('Son', '2'), ('Sister', '4'), ('Brother', '4'), ('Father', '0'), ('Grandmother', '0'), ('Grandfather', '0')], 'Observation': [('Mother', 'CCHF'), ('Father', 'cancers'), ('Aunt', 'cysticercosis'), ('Grandmother', 'heart disease'), ('Grandfather', 'heart problems')]} \n",
      "\n",
      "{'LivingStatus': [('Uncle', '4'), ('Cousin', '4'), ('Mother', '4'), ('Grandfather', '4'), ('Aunt', '4'), ('Uncle', '2'), ('Cousin', '2')], 'Observation': [('Mother', 'severe nosebleed'), ('Mother', 'thalassemia'), ('Father', 'larynx carcinoma'), ('Sibling', 'ischemia'), ('Sibling', 'post traumatic eczema'), ('Sibling', 'splenic sequestration'), ('Uncle', 'stomach cancer'), ('Uncle', 'hypothyroidism'), ('Grandfather', 'type 2 diabetes '), ('Grandmother', 'fainting'), ('Grandmother', 'esophago pharyngeal diverticula')]} \n",
      "\n"
     ]
    }
   ],
   "source": [
    "# {doc_id: {'LivingStatus': [(fm, 0-4)],\n",
    "#           'Observation': [(fm, disease)]\n",
    "#          }\n",
    "# }\n",
    "relations = collections.defaultdict(dict)\n",
    "with open(FILE, 'r') as f:\n",
    "    for line in f.readlines():\n",
    "        doc_id, fm, _, relation, content = line.strip('\\n').split('\\t')\n",
    "        relations[doc_id][relation] = relations.get(doc_id, {}).get(relation, []) + [(fm, content)]\n",
    "for doc_id in relations:\n",
    "    print(relations[doc_id], '\\n')"
   ]
  },
  {
   "cell_type": "code",
   "execution_count": 3,
   "metadata": {},
   "outputs": [
    {
     "name": "stdout",
     "output_type": "stream",
     "text": [
      "{9: 6, 1: 8, 7: 5, 4: 8, 19: 1, 10: 4, 3: 9, 11: 8, 2: 9, 14: 4, 5: 8, 0: 4, 12: 3, 8: 4, 16: 1, 17: 3, 20: 1, 6: 3, 15: 4, 18: 2, 13: 2, 27: 1}\n",
      "The total number of relationship in all docs is: 739\n",
      "The avg number of relationship in all docs is: 7.540816326530612\n"
     ]
    }
   ],
   "source": [
    "from collections import Counter\n",
    "obs_nums = {} # {obs_number_in_a_file: frequency_of_this_number}\n",
    "for doc_id in relations:\n",
    "    obs_count = len(relations.get(doc_id).get('Observation', []))\n",
    "    obs_nums[obs_count] = obs_nums.get(obs_count, 0) + 1\n",
    "print(obs_nums)\n",
    "\n",
    "total_relationship_num, total_doc_num = 0, 0\n",
    "for num_of_rela, freq in obs_nums.items():\n",
    "    total_relationship_num += num_of_rela * freq\n",
    "    total_doc_num += freq\n",
    "print('The total number of relationship in all docs is:', total_relationship_num)\n",
    "print('The avg number of relationship in all docs is:', total_relationship_num/total_doc_num)"
   ]
  },
  {
   "cell_type": "code",
   "execution_count": 4,
   "metadata": {},
   "outputs": [
    {
     "data": {
      "image/png": "[encoded data removed]",
      "text/plain": [
       "<Figure size 1008x504 with 1 Axes>"
      ]
     },
     "metadata": {},
     "output_type": "display_data"
    }
   ],
   "source": [
    "import matplotlib.pyplot as plt\n",
    "%matplotlib inline\n",
    "plt.figure(figsize=(14,7))\n",
    "plt.bar(list(obs_nums.keys()), list(obs_nums.values()), tick_label=list(obs_nums.keys()))\n",
    "plt.title('Frequency of Number of observations per doc', fontsize=16)\n",
    "plt.xlabel('Number of relationships in one doc', fontsize=14)\n",
    "plt.ylabel('Frequency', fontsize=14)\n",
    "plt.show()"
   ]
  },
  {
   "cell_type": "markdown",
   "metadata": {},
   "source": [
    "# Distance of entities in relations"
   ]
  },
  {
   "cell_type": "code",
   "execution_count": 5,
   "metadata": {},
   "outputs": [],
   "source": [
    "import pickle as pkl\n",
    "from os.path import join\n",
    "\n",
    "DIR = '../objects'\n",
    "\n",
    "with open(join(DIR, 'sents.pkl'), 'rb') as pkl_f:\n",
    "    sents = pkl.load(pkl_f)"
   ]
  },
  {
   "cell_type": "code",
   "execution_count": 6,
   "metadata": {},
   "outputs": [
    {
     "name": "stdout",
     "output_type": "stream",
     "text": [
      "{0: 522, 1: 110, 2: 33, 3: 22, -1: 47, 6: 2, 7: 2, 5: 1}\n"
     ]
    }
   ],
   "source": [
    "def get_sent_id_of_ent(sents, ent):\n",
    "    ids = []\n",
    "    for i in range(len(sents)):\n",
    "        if ent in sents[i]:\n",
    "            ids.append(i)\n",
    "    return ids\n",
    "\n",
    "def min_dist_of_lists(l1, l2):\n",
    "    dists = [abs(d1 - d2) for d1 in l1 for d2 in l2]\n",
    "    return min(dists) if dists else -1\n",
    "\n",
    "min_dist_freqs = {} # {dist: freq}\n",
    "#for doc_id, doc_relations in relation_not_in_a_sent.items():\n",
    "for doc_id, doc_relations in relations.items():\n",
    "    doc_sents = list(map(lambda sent: sent.lower(), sents[doc_id]))\n",
    "    for relation in doc_relations.get('Observation', []):\n",
    "        fm_sent_ids = get_sent_id_of_ent(doc_sents, relation[0].lower())\n",
    "        obs_sent_ids = get_sent_id_of_ent(doc_sents, relation[1].lower())\n",
    "        dist = min_dist_of_lists(fm_sent_ids, obs_sent_ids)\n",
    "        min_dist_freqs[dist] = min_dist_freqs.get(dist, 0) + 1\n",
    "print(min_dist_freqs)"
   ]
  },
  {
   "cell_type": "code",
   "execution_count": 7,
   "metadata": {},
   "outputs": [
    {
     "name": "stdout",
     "output_type": "stream",
     "text": [
      "70.63599458728011%\n",
      "522 out of 739 relations are inside one sentence.\n"
     ]
    },
    {
     "data": {
      "image/png": "[encoded data removed]",
      "text/plain": [
       "<Figure size 1008x504 with 1 Axes>"
      ]
     },
     "metadata": {},
     "output_type": "display_data"
    }
   ],
   "source": [
    "print(str(min_dist_freqs[0] / total_relationship_num * 100) + \"%\")\n",
    "print(str(min_dist_freqs[0]) + \" out of \" + str(total_relationship_num) + \" relations are inside one sentence.\")\n",
    "plt.figure(figsize=(14,7))\n",
    "dist_of_relation_not_in_a_sent = min_dist_freqs.pop(0)\n",
    "plt.bar(list(min_dist_freqs.keys()), list(min_dist_freqs.values()), tick_label=list(min_dist_freqs.keys()))\n",
    "plt.title('Distribution of sentence distance of family members and observations in relations', fontsize=16)\n",
    "plt.xlabel('Sentence distance of family member and observation in one relation', fontsize=14)\n",
    "plt.ylabel('Frequency', fontsize=14)\n",
    "plt.show()"
   ]
  },
  {
   "cell_type": "markdown",
   "metadata": {},
   "source": [
    "| in one sentence | adjacent sentences | one sent in between | two sents in between | total |\n",
    "|----|:---:|:---:|:---:|:---:|\n",
    "|522(70.64%) | (110)14.88% | (33)4.47% | (22)2.98% | (687)92.96% |\n",
    "\n",
    "There are also 40/739 = 6.36% relationships can't directly find from original texts."
   ]
  },
  {
   "cell_type": "code",
   "execution_count": null,
   "metadata": {},
   "outputs": [],
   "source": []
  }
 ],
 "metadata": {
  "kernelspec": {
   "display_name": "Python 3",
   "language": "python",
   "name": "python3"
  },
  "language_info": {
   "codemirror_mode": {
    "name": "ipython",
    "version": 3
   },
   "file_extension": ".py",
   "mimetype": "text/x-python",
   "name": "python",
   "nbconvert_exporter": "python",
   "pygments_lexer": "ipython3",
   "version": "3.6.4"
  }
 },
 "nbformat": 4,
 "nbformat_minor": 2
}
