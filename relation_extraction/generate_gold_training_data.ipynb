{
 "cells": [
  {
   "cell_type": "code",
   "execution_count": 1,
   "metadata": {},
   "outputs": [],
   "source": [
    "import xml.etree.ElementTree\n",
    "from os import listdir\n",
    "from os.path import join\n",
    "import functools\n",
    "import random\n",
    "import numpy as np\n",
    "import pickle as pkl\n",
    "import matplotlib.pyplot as plt\n",
    "\n",
    "WORK_DIR = \"../Data/bioc-FH-training/\"\n",
    "PROCESSED_DIR = \"../Data/processed/\"\n",
    "OBJECTS_DIR = '../objects/'\n",
    "SUB2_DATA_DIR = \"../Data/subtask2/\""
   ]
  },
  {
   "cell_type": "code",
   "execution_count": 2,
   "metadata": {},
   "outputs": [],
   "source": [
    "# get all data file names\n",
    "file_list  = listdir(WORK_DIR)\n",
    "file_names = set()\n",
    "\n",
    "for file in file_list:\n",
    "    if file != '' and file.endswith('txt'):\n",
    "        file_names.add(file.split('.')[0])\n",
    "\n",
    "assert(len(file_names) == 99)"
   ]
  },
  {
   "cell_type": "code",
   "execution_count": 3,
   "metadata": {},
   "outputs": [],
   "source": [
    "with open(join(OBJECTS_DIR, 'train_texts.pkl'), 'rb') as text_f:\n",
    "    texts = pkl.load(text_f)\n",
    "\n",
    "with open(join(OBJECTS_DIR, 'train_corpus.pkl'), 'rb') as pkl_f:\n",
    "    corpus = pkl.load(pkl_f)\n",
    "    \n",
    "text_files = list(corpus.keys())\n",
    "train_size = 72\n",
    "valid_files = text_files[train_size:]"
   ]
  },
  {
   "cell_type": "code",
   "execution_count": 4,
   "metadata": {},
   "outputs": [
    {
     "name": "stdout",
     "output_type": "stream",
     "text": [
      "[(329, 349, 'FamilyMember', 'Maternal grandfather', {'SideOfFamily': 'Maternal'}, '33'), (368, 375, 'LivingStatus', 'healthy', {'Alive': 'Yes', 'Healthy': 'Yes', 'ID': None}, '12'), (378, 398, 'FamilyMember', 'Maternal grandmother', {'SideOfFamily': 'Maternal'}, '35'), (435, 441, 'FamilyMember', 'Mother', {'SideOfFamily': 'NA'}, '14'), (458, 474, 'Observation', 'severe nosebleed', {'Negation': 'No'}, '15')]\n"
     ]
    }
   ],
   "source": [
    "# get corrected entities with format\n",
    "# (start_posi, end_posi, type, content, id_in_xml)\n",
    "with open(join(OBJECTS_DIR, 'entities_corrected.pkl'), 'rb') as f:\n",
    "    entities = pkl.load(f)\n",
    "print(entities['doc_97'][:5])"
   ]
  },
  {
   "cell_type": "code",
   "execution_count": 5,
   "metadata": {},
   "outputs": [],
   "source": [
    "with open(join(OBJECTS_DIR, 'train_sents.pkl'), 'rb') as f:\n",
    "    sents = pkl.load(f)"
   ]
  },
  {
   "cell_type": "markdown",
   "metadata": {},
   "source": [
    "# Get relation chains from annotated xml files"
   ]
  },
  {
   "cell_type": "code",
   "execution_count": 6,
   "metadata": {},
   "outputs": [],
   "source": [
    "def get_entity(entities, id):\n",
    "    for entity in entities:\n",
    "        if entity[-1] == id:\n",
    "            return entity\n",
    "    return None"
   ]
  },
  {
   "cell_type": "code",
   "execution_count": 7,
   "metadata": {},
   "outputs": [
    {
     "name": "stdout",
     "output_type": "stream",
     "text": [
      "[(1013, 1018, 1038, 1045, {'SoF': 'Paternal'}, 'FM_LS'), (1063, 1069, 1081, 1088, {'SoF': 'Paternal'}, 'FM_LS'), (435, 441, 458, 474, {'SoF': 'NA'}, 'FM_OBS'), (435, 441, 479, 490, {'SoF': 'NA'}, 'FM_OBS'), (435, 441, 542, 549, {'SoF': 'NA'}, 'FM_LS'), (908, 914, 935, 951, {'SoF': 'NA'}, 'FM_OBS'), (1091, 1099, 1121, 1129, {'SoF': 'NA'}, 'FM_OBS'), (1091, 1099, 1138, 1159, {'SoF': 'NA'}, 'FM_OBS'), (1091, 1099, 1184, 1205, {'SoF': 'NA'}, 'FM_OBS'), (329, 349, 368, 375, {'SoF': 'Maternal'}, 'FM_LS'), (552, 565, 585, 592, {'SoF': 'NA'}, 'FM_LS'), (595, 610, 622, 636, {'SoF': 'NA'}, 'FM_OBS'), (595, 610, 641, 655, {'SoF': 'NA'}, 'FM_OBS'), (595, 610, 666, 673, {'SoF': 'NA'}, 'FM_LS'), (680, 702, 717, 724, {'SoF': 'Maternal'}, 'FM_LS'), (726, 746, 766, 781, {'SoF': 'Paternal'}, 'FM_OBS'), (812, 832, 857, 888, {'SoF': 'Paternal'}, 'FM_OBS'), (812, 832, 897, 905, {'SoF': 'Paternal'}, 'FM_OBS')]\n"
     ]
    }
   ],
   "source": [
    "entity_pairs = {}\n",
    "negative_pairs = {}\n",
    "\n",
    "for file_name in file_names:\n",
    "    file_path = WORK_DIR + file_name + '.xml'\n",
    "    root = xml.etree.ElementTree.parse(file_path).getroot()\n",
    "    annotations = root.findall('annotations')[0]\n",
    "\n",
    "    # Get all `relation` annotation\n",
    "    for relation in annotations.findall('relation'):\n",
    "        properties = relation.find('properties')\n",
    "        fm_id = properties.find('FamilyMembers').text\n",
    "        \n",
    "        if not fm_id: # FamilyMembers is empty\n",
    "            continue\n",
    "        else:\n",
    "            fm = get_entity(entities[file_name], fm_id)\n",
    "            SoF = fm[4]['SideOfFamily']\n",
    "        \n",
    "        for entity in entities[file_name]:\n",
    "            have_relation = False\n",
    "            for property_ in properties.findall('Properties'):\n",
    "                if entity[-1] == property_.text:\n",
    "                    have_relation = True\n",
    "                    break\n",
    "\n",
    "            if have_relation:\n",
    "                relation_type = ''\n",
    "                if entity[2] == 'Observation':\n",
    "                    if entity[4]['Negation'] == 'Yes':\n",
    "                        relation_type = 'FM_OBS_N'\n",
    "                    else:\n",
    "                        relation_type = 'FM_OBS'\n",
    "                elif entity[2] == 'LivingStatus':\n",
    "                    relation_type = 'FM_LS'\n",
    "\n",
    "                if relation_type:\n",
    "                    entity_pair = (fm[0], fm[1], entity[0], entity[1],\n",
    "                                   {\"SoF\": SoF}, relation_type)\n",
    "                    entity_pairs[file_name] = entity_pairs.get(file_name, []) + [entity_pair]\n",
    "            elif entity[2] == 'Observation' and fm[1] < entity[1]:\n",
    "                negative_pair = (fm[0], fm[1], entity[0], entity[1], {\"SoF\": SoF}, 'OTHERS')\n",
    "                negative_pairs[file_name] = negative_pairs.get(file_name, []) + [negative_pair]\n",
    "print(entity_pairs['doc_97'])"
   ]
  },
  {
   "cell_type": "markdown",
   "metadata": {},
   "source": [
    "# Generating positive training data\n",
    "Concate the two sentences where FM and OBS are in"
   ]
  },
  {
   "cell_type": "code",
   "execution_count": 8,
   "metadata": {},
   "outputs": [],
   "source": [
    "def get_sent(sents, span_end):\n",
    "    span = 0\n",
    "    for sent_id, sent in enumerate(sents):\n",
    "        span += len(sent) + 2 # 2 for default 2 white spaces between sents\n",
    "        if span >= span_end:\n",
    "            return sent_id, sent\n",
    "    return None, None"
   ]
  },
  {
   "cell_type": "code",
   "execution_count": 9,
   "metadata": {},
   "outputs": [],
   "source": [
    "def entity_pairs2data(doc, ent_pairs):\n",
    "    \"\"\" from entity pairs to training data \"\"\"\n",
    "    num_single_sent, diff = 0, []\n",
    "    instances = []\n",
    "    \n",
    "    for entity in ent_pairs:\n",
    "        ent1_start, ent1_end, ent2_start, ent2_end, attributes, label = entity\n",
    "        ent1 = texts[doc][ent1_start:ent1_end]\n",
    "        ent2 = texts[doc][ent2_start:ent2_end]\n",
    "\n",
    "        sent1_id, sent1 = get_sent(sents[doc], ent1_end)\n",
    "        sent2_id, sent2 = get_sent(sents[doc], ent2_end)\n",
    "        \n",
    "        if attributes['SoF'] == 'Maternal':\n",
    "            fm_replace = \"@MatenalRelative$\"\n",
    "        elif attributes['SoF'] == 'Paternal':\n",
    "            fm_replace = \"@PatenalRelative$\"\n",
    "        else:\n",
    "            fm_replace = \"@Relative$\"\n",
    "\n",
    "        if label == 'FM_LS':\n",
    "            sec_replace = \"@Status$\"\n",
    "        else:\n",
    "            sec_replace = \"@Disease$\"\n",
    "\n",
    "        \n",
    "        if sent1 and sent2:\n",
    "            type(sent1_id)\n",
    "            type(sent2_id)\n",
    "            if sent1_id != sent2_id:\n",
    "                sent1 = sent1.replace(ent1, fm_replace)\n",
    "                sent2 = sent2.replace(ent2, sec_replace)\n",
    "                if sent1_id > sent2_id:\n",
    "                    print(\"swapped:\", sent1, sent2)\n",
    "                    sent1_id, sent2_id = sent2_id, sent1_id\n",
    "                    sent1, sent2 = sent2, sent1\n",
    "\n",
    "                if sent2_id - sent1_id > 1:\n",
    "                    train_sent = ' '.join([sent1] + sents[doc][sent1_id + 1:sent2_id] + [sent2])\n",
    "#                 elif sent2_id - sent1_id >= 5:\n",
    "#                     train_sent = ' '.join([sent1] + sents[doc][sent1_id + 1] \\\n",
    "#                                     + sents[doc][sent2_id - 1] + [sent2])\n",
    "                else:\n",
    "                    train_sent = ' '.join([sent1, sent2])\n",
    "\n",
    "                # instance: ([doc, sent_ids], sent1_to_sent2, label)\n",
    "                instances.append(('_'.join([doc, str(sent1_id), str(sent2_id)]),\n",
    "                                  train_sent,\n",
    "                                  label,\n",
    "                                  ent1,\n",
    "                                  ent2,\n",
    "                                  sent2_id - sent1_id,\n",
    "                                 ))\n",
    "                diff.append(sent2_id - sent1_id)\n",
    "            else:\n",
    "                sent1 = sent1.replace(ent1, fm_replace).replace(ent2, sec_replace)\n",
    "\n",
    "                num_single_sent += 1\n",
    "                instances.append(('_'.join([doc, str(sent1_id)]),\n",
    "                                  sent1,\n",
    "                                  label,\n",
    "                                  ent1,\n",
    "                                  ent2,\n",
    "                                  sent2_id - sent1_id\n",
    "                                 ))\n",
    "        else:\n",
    "            print('*'*10)\n",
    "\n",
    "    return num_single_sent, diff, instances"
   ]
  },
  {
   "cell_type": "code",
   "execution_count": null,
   "metadata": {
    "scrolled": false
   },
   "outputs": [],
   "source": [
    "positive_data = {}\n",
    "diffs, single_sent = [], 0\n",
    "num_ent_pairs = 0\n",
    "\n",
    "\n",
    "for doc, ent_pairs in entity_pairs.items():\n",
    "#     print(texts[doc])\n",
    "    new_single_sent, diff, posi_instances = entity_pairs2data(doc, ent_pairs)\n",
    "    num_ent_pairs += len(ent_pairs)\n",
    "\n",
    "    if diff:\n",
    "        diffs += diff\n",
    "    single_sent += new_single_sent\n",
    "\n",
    "    positive_data[doc] = positive_data.get(doc, []) + posi_instances\n",
    "\n",
    "positive_data['doc_97']"
   ]
  },
  {
   "cell_type": "code",
   "execution_count": 11,
   "metadata": {},
   "outputs": [
    {
     "name": "stdout",
     "output_type": "stream",
     "text": [
      "In single sent: 864 , across sents: 316\n"
     ]
    },
    {
     "data": {
      "image/png": "[encoded data removed]",
      "text/plain": [
       "<Figure size 864x432 with 2 Axes>"
      ]
     },
     "metadata": {
      "needs_background": "light"
     },
     "output_type": "display_data"
    },
    {
     "name": "stdout",
     "output_type": "stream",
     "text": [
      "Counter({1: 198, 2: 70, 3: 22, 4: 14, 5: 4, 9: 3, 10: 2, 6: 2, 8: 1})\n"
     ]
    }
   ],
   "source": [
    "from collections import Counter\n",
    "print(\"In single sent:\", single_sent, \", across sents:\", len(diffs))\n",
    "fig, axs = plt.subplots(1, 2, figsize=(12, 6))\n",
    "\n",
    "names = ['single_sent', 'across_sents']\n",
    "values = [single_sent, len(diffs)]\n",
    "axs[0].bar(names, values)\n",
    "\n",
    "axs[1].hist(diffs)\n",
    "\n",
    "plt.show()\n",
    "print(Counter(diffs))"
   ]
  },
  {
   "cell_type": "markdown",
   "metadata": {},
   "source": [
    "# Generating negative training data"
   ]
  },
  {
   "cell_type": "code",
   "execution_count": 12,
   "metadata": {
    "scrolled": false
   },
   "outputs": [
    {
     "name": "stdout",
     "output_type": "stream",
     "text": [
      "Number of negative data candidates: 3872\n"
     ]
    }
   ],
   "source": [
    "neg_candidates = sum(map(len, negative_pairs.values()))\n",
    "print(\"Number of negative data candidates:\", neg_candidates)\n",
    "len_posi = single_sent + len(diffs)\n",
    "negative_data = {}\n",
    "\n",
    "neg_single_sent, neg_diffs = 0, []\n",
    "\n",
    "for doc, ent_pairs in negative_pairs.items():\n",
    "    num_to_gen = round(len(ent_pairs) / neg_candidates * len_posi)\n",
    "    _, _, nega_instances = entity_pairs2data(doc, ent_pairs)\n",
    "    \n",
    "    samples = []\n",
    "    for sample in nega_instances:\n",
    "        # larger the sentence distance, smaller the prob been selected\n",
    "        if sample[-1] == 0:\n",
    "            samples.append(sample)\n",
    "            neg_single_sent += 1\n",
    "        elif np.random.rand() < 0.65 ** sample[-1]:\n",
    "            samples.append(sample)\n",
    "            \n",
    "            neg_diffs.append(sample[-1])\n",
    "\n",
    "    negative_data[doc] = samples"
   ]
  },
  {
   "cell_type": "code",
   "execution_count": 13,
   "metadata": {},
   "outputs": [
    {
     "name": "stdout",
     "output_type": "stream",
     "text": [
      "For negative data:\n",
      "In single sent: 37 , across sents: 638\n"
     ]
    },
    {
     "data": {
      "image/png": "[encoded data removed]",
      "text/plain": [
       "<Figure size 864x432 with 2 Axes>"
      ]
     },
     "metadata": {
      "needs_background": "light"
     },
     "output_type": "display_data"
    }
   ],
   "source": [
    "print(\"For negative data:\\nIn single sent:\", neg_single_sent, \", across sents:\", len(neg_diffs))\n",
    "fig, axs = plt.subplots(1, 2, figsize=(12, 6))\n",
    "\n",
    "names = ['single_sent', 'across_sents']\n",
    "values = [neg_single_sent, len(neg_diffs)]\n",
    "axs[0].bar(names, values)\n",
    "\n",
    "axs[1].hist(neg_diffs)\n",
    "\n",
    "plt.show()"
   ]
  },
  {
   "cell_type": "code",
   "execution_count": null,
   "metadata": {
    "scrolled": false
   },
   "outputs": [],
   "source": [
    "negative_data"
   ]
  },
  {
   "cell_type": "markdown",
   "metadata": {},
   "source": [
    "# shuffling and split data"
   ]
  },
  {
   "cell_type": "code",
   "execution_count": 15,
   "metadata": {},
   "outputs": [],
   "source": [
    "data = []\n",
    "for doc, posi in positive_data.items():\n",
    "    try:\n",
    "        data += posi + negative_data[doc]\n",
    "    except KeyError:\n",
    "        pass\n",
    "random.shuffle(data)"
   ]
  },
  {
   "cell_type": "code",
   "execution_count": 16,
   "metadata": {},
   "outputs": [],
   "source": [
    "amount = len(data)\n",
    "train_ratio = 0.8\n",
    "validation = 1 - train_ratio\n",
    "\n",
    "data = {'train': data[:int(train_ratio*amount)], 'valid': data[int(train_ratio*amount):]}\n",
    "with open(join(\"../Data\", 're_data.pkl'), 'wb') as f:\n",
    "    pkl.dump(data, f)"
   ]
  },
  {
   "cell_type": "code",
   "execution_count": 17,
   "metadata": {},
   "outputs": [],
   "source": [
    "def write_data(data, file):\n",
    "    f = open(join(\"../Data\", file), 'w')\n",
    "    \n",
    "    for item in data:\n",
    "        # content: [id, sent1, label, fm, obs,diff]\n",
    "        content = [item[0], item[1], item[2], item[3], item[4]]\n",
    "        f.write('\\t'.join(content) + '\\n')\n",
    "        \n",
    "    f.close()\n",
    "\n",
    "write_data(data['train'], 're_train_data.txt')\n",
    "write_data(data['valid'], 're_valid_data.txt')"
   ]
  }
 ],
 "metadata": {
  "kernelspec": {
   "display_name": "Python 3",
   "language": "python",
   "name": "python3"
  },
  "language_info": {
   "codemirror_mode": {
    "name": "ipython",
    "version": 3
   },
   "file_extension": ".py",
   "mimetype": "text/x-python",
   "name": "python",
   "nbconvert_exporter": "python",
   "pygments_lexer": "ipython3",
   "version": "3.6.8"
  }
 },
 "nbformat": 4,
 "nbformat_minor": 2
}
