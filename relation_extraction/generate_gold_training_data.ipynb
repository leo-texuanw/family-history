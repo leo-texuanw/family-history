{
 "cells": [
  {
   "cell_type": "code",
   "execution_count": 1,
   "metadata": {},
   "outputs": [],
   "source": [
    "import xml.etree.ElementTree\n",
    "from os import listdir\n",
    "from os.path import join\n",
    "import functools\n",
    "import random\n",
    "import numpy as np\n",
    "import pickle as pkl\n",
    "import matplotlib.pyplot as plt\n",
    "\n",
    "WORK_DIR = \"../Data/bioc-FH-training/\"\n",
    "PROCESSED_DIR = \"../Data/processed/\"\n",
    "OBJECTS_DIR = '../objects/'\n",
    "SUB2_DATA_DIR = \"../Data/subtask2/\""
   ]
  },
  {
   "cell_type": "code",
   "execution_count": 2,
   "metadata": {},
   "outputs": [],
   "source": [
    "# get all data file names\n",
    "file_list  = listdir(WORK_DIR)\n",
    "file_names = set()\n",
    "\n",
    "for file in file_list:\n",
    "    if file != '' and file.endswith('txt'):\n",
    "        file_names.add(file.split('.')[0])\n",
    "\n",
    "assert(len(file_names) == 99)"
   ]
  },
  {
   "cell_type": "code",
   "execution_count": 3,
   "metadata": {},
   "outputs": [],
   "source": [
    "with open(join(OBJECTS_DIR, 'texts.pkl'), 'rb') as text_f:\n",
    "    texts = pkl.load(text_f)\n",
    "\n",
    "with open(join(OBJECTS_DIR, 'corpus.pkl'), 'rb') as pkl_f:\n",
    "    corpus = pkl.load(pkl_f)\n",
    "    \n",
    "text_files = list(corpus.keys())\n",
    "train_size = 72\n",
    "valid_files = text_files[train_size:]"
   ]
  },
  {
   "cell_type": "code",
   "execution_count": 4,
   "metadata": {},
   "outputs": [
    {
     "name": "stdout",
     "output_type": "stream",
     "text": [
      "[(329, 349, 'FamilyMember', 'Maternal grandfather', {'SideOfFamily': 'Maternal'}, '33'), (368, 375, 'LivingStatus', 'healthy', {'Alive': 'Yes', 'Healthy': 'Yes', 'ID': None}, '12'), (378, 398, 'FamilyMember', 'Maternal grandmother', {'SideOfFamily': 'Maternal'}, '35'), (435, 441, 'FamilyMember', 'Mother', {'SideOfFamily': 'NA'}, '14'), (458, 474, 'Observation', 'severe nosebleed', {'Negation': 'No'}, '15')]\n"
     ]
    }
   ],
   "source": [
    "# get corrected entities with format\n",
    "# (start_posi, end_posi, type, content, id_in_xml)\n",
    "with open(join(OBJECTS_DIR, 'entities_corrected.pkl'), 'rb') as f:\n",
    "    entities = pkl.load(f)\n",
    "print(entities['doc_97'][:5])"
   ]
  },
  {
   "cell_type": "code",
   "execution_count": 5,
   "metadata": {},
   "outputs": [],
   "source": [
    "with open(join(OBJECTS_DIR, 'sents.pkl'), 'rb') as f:\n",
    "    sents = pkl.load(f)"
   ]
  },
  {
   "cell_type": "markdown",
   "metadata": {},
   "source": [
    "# Get relation chains from annotated xml files"
   ]
  },
  {
   "cell_type": "code",
   "execution_count": 6,
   "metadata": {},
   "outputs": [],
   "source": [
    "def get_entity(entities, id):\n",
    "    for entity in entities:\n",
    "        if entity[-1] == id:\n",
    "            return entity\n",
    "    return None"
   ]
  },
  {
   "cell_type": "code",
   "execution_count": 7,
   "metadata": {},
   "outputs": [
    {
     "name": "stdout",
     "output_type": "stream",
     "text": [
      "[(435, 441, 458, 474, {'SoF': 'NA'}, 'FM_OBS'), (435, 441, 479, 490, {'SoF': 'NA'}, 'FM_OBS'), (908, 914, 935, 951, {'SoF': 'NA'}, 'FM_OBS'), (1091, 1099, 1121, 1129, {'SoF': 'NA'}, 'FM_OBS'), (1091, 1099, 1138, 1159, {'SoF': 'NA'}, 'FM_OBS'), (1091, 1099, 1184, 1205, {'SoF': 'NA'}, 'FM_OBS'), (595, 610, 622, 636, {'SoF': 'NA'}, 'FM_OBS'), (595, 610, 641, 655, {'SoF': 'NA'}, 'FM_OBS'), (726, 746, 766, 781, {'SoF': 'Paternal'}, 'FM_OBS'), (812, 832, 857, 888, {'SoF': 'Paternal'}, 'FM_OBS'), (812, 832, 897, 905, {'SoF': 'Paternal'}, 'FM_OBS')]\n"
     ]
    }
   ],
   "source": [
    "entity_pairs = {}\n",
    "negative_pairs = {}\n",
    "\n",
    "for file_name in file_names:\n",
    "    file_path = WORK_DIR + file_name + '.xml'\n",
    "    root = xml.etree.ElementTree.parse(file_path).getroot()\n",
    "    annotations = root.findall('annotations')[0]\n",
    "\n",
    "    # Get all `relation` annotation\n",
    "    for relation in annotations.findall('relation'):\n",
    "        properties = relation.find('properties')\n",
    "        fm_id = properties.find('FamilyMembers').text\n",
    "        \n",
    "        if not fm_id: # FamilyMembers is empty\n",
    "            continue\n",
    "        else:\n",
    "            fm = get_entity(entities[file_name], fm_id)\n",
    "            SoF = fm[4]['SideOfFamily']\n",
    "        \n",
    "        # TODO: logic error here.\n",
    "        # make outer loop on entity, inner property, not found -> others\n",
    "        for entity in entities[file_name]:\n",
    "            have_relation = False\n",
    "            for property_ in properties.findall('Properties'):\n",
    "                if entity[-1] == property_.text:\n",
    "                    have_relation = True\n",
    "                    break\n",
    "\n",
    "            if have_relation:\n",
    "                relation_type = ''\n",
    "                if entity[2] == 'Observation':\n",
    "                    if entity[4]['Negation'] == 'Yes':\n",
    "                        relation_type = 'FM_OBS_N'\n",
    "                    else:\n",
    "                        relation_type = 'FM_OBS'\n",
    "    #                     elif entity[2] == 'LivingStatus':\n",
    "    #                         relation_type = 'FM_LS'\n",
    "\n",
    "                if relation_type:\n",
    "                    entity_pair = (fm[0], fm[1], entity[0], entity[1],\n",
    "                                   {\"SoF\": SoF}, relation_type)\n",
    "                    entity_pairs[file_name] = entity_pairs.get(file_name, []) + [entity_pair]\n",
    "            elif entity[2] == 'Observation' and fm[1] < entity[1]:\n",
    "                negative_pair = (fm[0], fm[1], entity[0], entity[1], {\"SoF\": SoF}, 'OTHERS')\n",
    "                negative_pairs[file_name] = negative_pairs.get(file_name, []) + [negative_pair]\n",
    "print(entity_pairs['doc_97'])"
   ]
  },
  {
   "cell_type": "markdown",
   "metadata": {},
   "source": [
    "# Generating positive training data\n",
    "Concate the two sentences where FM and OBS are in"
   ]
  },
  {
   "cell_type": "code",
   "execution_count": 8,
   "metadata": {},
   "outputs": [],
   "source": [
    "def get_sent(sents, span_end):\n",
    "    span = 0\n",
    "    for sent_id, sent in enumerate(sents):\n",
    "        span += len(sent) + 2 # 2 for default 2 white spaces between sents\n",
    "        if span >= span_end:\n",
    "            return sent_id, sent\n",
    "    return None, None"
   ]
  },
  {
   "cell_type": "code",
   "execution_count": 9,
   "metadata": {},
   "outputs": [],
   "source": [
    "def entity_pairs2data(doc, ent_pairs):\n",
    "    \"\"\" from entity pairs to training data \"\"\"\n",
    "    num_single_sent, diff = 0, []\n",
    "    instances = []\n",
    "    \n",
    "    for entity in ent_pairs:\n",
    "        ent1_start, ent1_end, ent2_start, ent2_end, attributes, label = entity\n",
    "        ent1 = texts[doc][ent1_start:ent1_end]\n",
    "        ent2 = texts[doc][ent2_start:ent2_end]\n",
    "\n",
    "        sent1_id, sent1 = get_sent(sents[doc], ent1_end)\n",
    "        sent2_id, sent2 = get_sent(sents[doc], ent2_end)\n",
    "\n",
    "        if sent1 and sent2:\n",
    "            if sent1_id != sent2_id:\n",
    "                sent1 = sent1.replace(ent1, \"@Relative$\")\n",
    "                sent2 = sent2.replace(ent2, \"@Disease$\")\n",
    "                if sent1_id > sent2_id:\n",
    "                    print(\"swapped:\", sent1, sent2)\n",
    "                    sent1_id, sent2_id = sent2_id, sent1_id\n",
    "                    sent1, sent2 = sent2, sent1\n",
    "\n",
    "                if sent2_id - sent1_id > 1:\n",
    "                    train_sent = ' '.join([sent1] + sents[doc][sent1_id + 1:sent2_id] + [sent2])\n",
    "#                 elif sent2_id - sent1_id >= 5:\n",
    "#                     train_sent = ' '.join([sent1] + sents[doc][sent1_id + 1] + sents[doc][sent2_id - 1] + [sent2])\n",
    "                else:\n",
    "                    train_sent = ' '.join([sent1, sent2])\n",
    "\n",
    "                # instance: ([doc, sent_ids], sent1_to_sent2, label)\n",
    "                instances.append(('_'.join([doc, str(sent1_id), str(sent2_id)]),\n",
    "                                  train_sent,\n",
    "                                  label,\n",
    "                                  ent1.replace(' ', '_'),\n",
    "                                  ent2.replace(' ', '_'),\n",
    "                                  sent2_id - sent1_id\n",
    "                                 ))\n",
    "                diff.append(sent2_id - sent1_id)\n",
    "            else:\n",
    "                sent1 = sent1.replace(ent1, \"@Relative$\").replace(ent2, \"@Disease$\")\n",
    "\n",
    "                num_single_sent += 1\n",
    "                instances.append(('_'.join([doc, str(sent1_id)]),\n",
    "                                  sent1,\n",
    "                                  label,\n",
    "                                  ent1.replace(' ', '_'),\n",
    "                                  ent2.replace(' ', '_'),\n",
    "                                  sent2_id - sent1_id\n",
    "                                 ))\n",
    "        else:\n",
    "            print('*'*10)\n",
    "\n",
    "    return num_single_sent, diff, instances"
   ]
  },
  {
   "cell_type": "code",
   "execution_count": 10,
   "metadata": {
    "scrolled": true
   },
   "outputs": [
    {
     "name": "stdout",
     "output_type": "stream",
     "text": [
      "swapped: A @Relative$ died at age 71 of skin cancer. Another maternal aunt, age 71, has had a arthroscopy and had one to two @Disease$ at age 70.\n",
      "swapped: Three other @Relative$, ages 55, 59, and 71, are living with no history of stroke. A sister was diagnosed with @Disease$ at age 46 and died at age 56.\n",
      "swapped: Three other @Relative$, ages 55, 59, and 71, are living with no history of stroke. She had a @Disease$.\n",
      "swapped: Another @Relative$ first cousin, a male, age 58, was diagnosed with choreic dysphonia at age 38. A paternal first cousin, a female, age 37, was diagnosed with @Disease$.\n"
     ]
    },
    {
     "data": {
      "text/plain": [
       "[('doc_97_6',\n",
       "  '@Relative$ (II.4) has some @Disease$ and thalassemia as a child but nothing unusual.',\n",
       "  'FM_OBS',\n",
       "  'Mother',\n",
       "  'severe_nosebleed',\n",
       "  0),\n",
       " ('doc_97_6',\n",
       "  '@Relative$ (II.4) has some severe nosebleed and @Disease$ as a child but nothing unusual.',\n",
       "  'FM_OBS',\n",
       "  'Mother',\n",
       "  'thalassemia',\n",
       "  0),\n",
       " ('doc_97_14',\n",
       "  '@Relative$ (II.6), age 51, had @Disease$ as a child but nothing out of the range of normal.',\n",
       "  'FM_OBS',\n",
       "  'Father',\n",
       "  'larynx_carcinoma',\n",
       "  0),\n",
       " ('doc_97_17',\n",
       "  '@Relative$ (III.4), age 29, has @Disease$ and had post traumatic eczema.',\n",
       "  'FM_OBS',\n",
       "  'Siblings',\n",
       "  'ischemia',\n",
       "  0),\n",
       " ('doc_97_17',\n",
       "  '@Relative$ (III.4), age 29, has ischemia and had @Disease$.',\n",
       "  'FM_OBS',\n",
       "  'Siblings',\n",
       "  'post_traumatic_eczema',\n",
       "  0),\n",
       " ('doc_97_17_18',\n",
       "  \"@Relative$ (III.4), age 29, has ischemia and had post traumatic eczema. She doesn't get lower @Disease$.\",\n",
       "  'FM_OBS',\n",
       "  'Siblings',\n",
       "  'splenic_sequestration',\n",
       "  1),\n",
       " ('doc_97_9',\n",
       "  '@Relative$ (II.2) had @Disease$ and hypothyroidism.',\n",
       "  'FM_OBS',\n",
       "  'Maternal_uncles',\n",
       "  'stomach_cancer',\n",
       "  0),\n",
       " ('doc_97_9',\n",
       "  '@Relative$ (II.2) had stomach cancer and @Disease$.',\n",
       "  'FM_OBS',\n",
       "  'Maternal_uncles',\n",
       "  'hypothyroidism',\n",
       "  0),\n",
       " ('doc_97_12',\n",
       "  '@Relative$ (I.4), age 65, had @Disease$ diagnosed about 8 years ago.',\n",
       "  'FM_OBS',\n",
       "  'Paternal_grandfather',\n",
       "  'type_2_diabetes',\n",
       "  0),\n",
       " ('doc_97_13',\n",
       "  '@Relative$ (I.5), age 66, had some @Disease$ and has fainting.',\n",
       "  'FM_OBS',\n",
       "  'Paternal_grandmother',\n",
       "  'esophago_pharyngeal_diverticula',\n",
       "  0),\n",
       " ('doc_97_13',\n",
       "  '@Relative$ (I.5), age 66, had some esophago pharyngeal diverticula and has @Disease$.',\n",
       "  'FM_OBS',\n",
       "  'Paternal_grandmother',\n",
       "  'fainting',\n",
       "  0)]"
      ]
     },
     "execution_count": 10,
     "metadata": {},
     "output_type": "execute_result"
    }
   ],
   "source": [
    "positive_data = {}\n",
    "diffs, single_sent = [], 0\n",
    "num_ent_pairs = 0\n",
    "\n",
    "\n",
    "for doc, ent_pairs in entity_pairs.items():\n",
    "#     print(texts[doc])\n",
    "    new_single_sent, diff, posi_instances = entity_pairs2data(doc, ent_pairs)\n",
    "    num_ent_pairs += len(ent_pairs)\n",
    "\n",
    "    if diff:\n",
    "        diffs += diff\n",
    "    single_sent += new_single_sent\n",
    "\n",
    "    positive_data[doc] = positive_data.get(doc, []) + posi_instances\n",
    "\n",
    "positive_data['doc_97']"
   ]
  },
  {
   "cell_type": "code",
   "execution_count": 11,
   "metadata": {},
   "outputs": [
    {
     "name": "stdout",
     "output_type": "stream",
     "text": [
      "In single sent: 515 , across sents: 240\n"
     ]
    },
    {
     "data": {
      "image/png": "[encoded data removed]",
      "text/plain": [
       "<Figure size 864x432 with 2 Axes>"
      ]
     },
     "metadata": {
      "needs_background": "light"
     },
     "output_type": "display_data"
    },
    {
     "name": "stdout",
     "output_type": "stream",
     "text": [
      "Counter({1: 153, 2: 55, 3: 18, 4: 8, 10: 2, 6: 1, 5: 1, 9: 1, 8: 1})\n"
     ]
    }
   ],
   "source": [
    "from collections import Counter\n",
    "print(\"In single sent:\", single_sent, \", across sents:\", len(diffs))\n",
    "fig, axs = plt.subplots(1, 2, figsize=(12, 6))\n",
    "\n",
    "names = ['single_sent', 'across_sents']\n",
    "values = [single_sent, len(diffs)]\n",
    "axs[0].bar(names, values)\n",
    "\n",
    "axs[1].hist(diffs)\n",
    "\n",
    "plt.show()\n",
    "print(Counter(diffs))"
   ]
  },
  {
   "cell_type": "markdown",
   "metadata": {},
   "source": [
    "# Generating negative training data"
   ]
  },
  {
   "cell_type": "code",
   "execution_count": 12,
   "metadata": {
    "scrolled": true
   },
   "outputs": [
    {
     "name": "stdout",
     "output_type": "stream",
     "text": [
      "Number of negative data candidates: 3872\n",
      "('doc_12_5', 'The @Relative$ (I.2) died of presumed @Disease$, age not known.', 'OTHERS', 'paternal_grandmother', 'asthma', 0)\n",
      "('doc_14_1', '@Relative$ deceased at 72, with history of melanoma ear, @Disease$ (diverticulitis), possibly myofascitis, also with sigmoiditis.', 'OTHERS', 'Mom', 'GI_problems', 0)\n",
      "('doc_14_1', '@Relative$ deceased at 72, with history of melanoma ear, GI problems (@Disease$), possibly myofascitis, also with sigmoiditis.', 'OTHERS', 'Mom', 'diverticulitis', 0)\n",
      "('doc_161_1', 'Mrs. Patrice has a @Relative$ who is 60 years old and apparently has @Disease$.', 'OTHERS', 'maternal_uncle', 'atr_astigmatism', 0)\n",
      "('doc_10_4', 'Mei has a healthy 50-year-old @Relative$ who has two healthy children and a healthy 47-year-old sister who has five healthy children and who has one @Disease$.', 'OTHERS', 'brother', 'hypermnesia', 0)\n",
      "('doc_176_3', 'His @Relative$ has esophageal infections and @Disease$ has does his mother.', 'OTHERS', 'dad', 'COPD', 0)\n",
      "('doc_54_13', 'This aunt had @Relative$, who are healthy, and a daughter who died of @Disease$ at age 3.', 'OTHERS', 'two_sons', 'staccato_speech', 0)\n",
      "('doc_54_22', \"The patient's @Relative$ died at 97 of albright disease, and the patient's maternal grandfather died at age 83 of @Disease$.\", 'OTHERS', 'paternal_grandmother', 'sternal_neoplasm', 0)\n",
      "('doc_21_4', 'Her @Relative$ is healthy at age 59 and her mother is healthy at age 60 with a history of @Disease$ due to cancers anal.', 'OTHERS', 'father', 'heart_murmur', 0)\n",
      "('doc_21_4', 'Her @Relative$ is healthy at age 59 and her mother is healthy at age 60 with a history of heart murmur due to @Disease$.', 'OTHERS', 'father', 'cancers_anal', 0)\n",
      "('doc_21_7', \"Her paternal @Relative$ had blood disease in her 50's and her paternal grandfather also had @Disease$.\", 'OTHERS', 'grandmother', 'fainting', 0)\n",
      "('doc_26_10', \"Clelia's @Relative$ died at 83 of a asthma resulting from surgery to remove a @Disease$.\", 'OTHERS', 'paternal_grandfather', 'lip_fissure', 0)\n",
      "('doc_44_16', \"Katharina's @Relative$ died in her 60's of lameness, and her paternal grandfather died in his 50's of a @Disease$ or heart issues.\", 'OTHERS', 'paternal_grandmother', 'asthma', 0)\n",
      "('doc_44_16', \"Katharina's @Relative$ died in her 60's of lameness, and her paternal grandfather died in his 50's of a asthma or @Disease$.\", 'OTHERS', 'paternal_grandmother', 'heart_issues', 0)\n",
      "('doc_44_8', 'This aunt has five healthy @Relative$ and one daughter, age 67, who had a @Disease$ due to complications after childbirth.', 'OTHERS', 'sons', 'cholera', 0)\n",
      "('doc_44_8', 'This aunt has five healthy @Relative$ and one daughter, age 67, who had a cholera due to @Disease$.', 'OTHERS', 'sons', 'complications_after_childbirth', 0)\n",
      "('doc_101_9', 'Ms. Loreen maternal history is significant for @Relative$ with hypothyroidism at age 45 and a maternal grandfather with @Disease$ at age 56.', 'OTHERS', 'maternal_grandmother', 'hyperthermia', 0)\n",
      "('doc_169_6', 'A @Relative$ with no history of asthma has a daughter who was diagnosed with @Disease$ at age 53.', 'OTHERS', 'maternal_uncle', 'schizophrenia', 0)\n",
      "('doc_81_8', 'This aunt has five healthy @Relative$ and one daughter, age 62, who had a @Disease$ due to complications after childbirth.', 'OTHERS', 'sons', 'cholera', 0)\n",
      "('doc_81_16', \"Katharina’s @Relative$ died in her 40's of seizures, and her paternal grandfather died in his 50's of a @Disease$ or hypertension.\", 'OTHERS', 'paternal_grandmother', 'stroke', 0)\n",
      "('doc_81_16', \"Katharina’s @Relative$ died in her 40's of seizures, and her paternal grandfather died in his 50's of a stroke or @Disease$.\", 'OTHERS', 'paternal_grandmother', 'hypertension', 0)\n",
      "('doc_74_8', 'She and her husband have 2 children, a @Relative$, age 48 (she is unsure as to whether or not he has had colon screening), and a daughter, age 42, who recently had a normal @Disease$.', 'OTHERS', 'son', 'colonoscopy', 0)\n",
      "('doc_138_0', 'Significant for a @Relative$ who is a prophylactic mastectomy, and paternal uncle who has @Disease$.', 'OTHERS', 'paternal_grandfather', 'Marfan_syndrome', 0)\n",
      "('doc_170_19', 'The paternal @Relative$ died at older ages of natural causes, and the paternal grandfather died in his middle ages of complications related to @Disease$.', 'OTHERS', 'grandmother', 'gynecologic_tumor', 0)\n",
      "('doc_170_8', 'Mrs. Vicky has five @Relative$ (ages 30-35) and one brother (age 62), none of whom have a history of @Disease$.', 'OTHERS', 'sisters', 'cancer', 0)\n",
      "('doc_170_8', 'Mrs. Vicky has five sisters (ages 30-35) and one @Relative$ (age 62), none of whom have a history of @Disease$.', 'OTHERS', 'brother', 'cancer', 0)\n",
      "('doc_43_1', 'The @Relative$, age 65, and has not had @Disease$ except for peribronchial pneumonia.', 'OTHERS', 'father', 'cancer', 0)\n",
      "('doc_4_15', \"The patient's maternal @Relative$ died in her 40s of a nevus benign, and her maternal grandfather died in his 70s of either @Disease$ or timolol allergy.\", 'OTHERS', 'grandmother', 'maids', 0)\n",
      "('doc_4_15', \"The patient's maternal @Relative$ died in her 40s of a nevus benign, and her maternal grandfather died in his 70s of either maids or @Disease$.\", 'OTHERS', 'grandmother', 'timolol_allergy', 0)\n",
      "('doc_4_22', \"The patient's paternal @Relative$ died at age 90 of mental disorder caffeine, and her paternal grandfather died at 74 of @Disease$.\", 'OTHERS', 'grandmother', 'syndrome_fraxe', 0)\n",
      "('doc_136_7', 'There is a maternal half-aunt who has three healthy @Relative$ and has had three @Disease$, for which no reason was given.', 'OTHERS', 'children', 'heart_issues', 0)\n",
      "('doc_80_6', 'He has a 45-year-old @Relative$, used be depressed, who has two healthy daughters and a 47-year-old @Relative$ reported to be an @Disease$ with one healthy son.', 'OTHERS', 'brother', 'alcoholic', 0)\n",
      "('doc_80_7', 'His @Relative$ is alive at age 71, reported to be a @Disease$ and a recovering depressed, and his mother is alive at age 70, reported to be a @Disease$.', 'OTHERS', 'father', 'smoker', 0)\n",
      "('doc_80_6', 'He has a 45-year-old brother, used be depressed, who has two healthy @Relative$ and a 47-year-old brother reported to be an @Disease$ with one healthy son.', 'OTHERS', 'daughters', 'alcoholic', 0)\n",
      "('doc_37_6', 'A @Relative$ with no history of asthma has a daughter who was diagnosed with @Disease$ at age 45.', 'OTHERS', 'maternal_uncle', 'schizophrenia', 0)\n",
      "('doc_49_4', 'Kay has a healthy 50-year-old @Relative$ who has six healthy children and a healthy 53-year-old sister who has four healthy children and who has one @Disease$.', 'OTHERS', 'brother', 'miscarriage', 0)\n",
      "('doc_11_18', \"The patient's @Relative$, ages 27, 32, 17, and 6, have had no @Disease$.\", 'OTHERS', 'sons', 'cholera', 0)\n"
     ]
    }
   ],
   "source": [
    "neg_candidates = sum(map(len, negative_pairs.values()))\n",
    "print(\"Number of negative data candidates:\", neg_candidates)\n",
    "len_posi = single_sent + len(diffs)\n",
    "negative_data = {}\n",
    "\n",
    "neg_single_sent, neg_diffs = 0, []\n",
    "\n",
    "for doc, ent_pairs in negative_pairs.items():\n",
    "    num_to_gen = round(len(ent_pairs) / neg_candidates * len_posi)\n",
    "    _, _, nega_instances = entity_pairs2data(doc, ent_pairs)\n",
    "    \n",
    "    samples = []\n",
    "    for sample in nega_instances:\n",
    "        # larger the sentence distance, smaller the prob been selected\n",
    "        if sample[-1] == 0:\n",
    "            samples.append(sample)\n",
    "            neg_single_sent += 1\n",
    "            print(sample)\n",
    "        elif np.random.rand() < 0.65 ** sample[-1]:\n",
    "            samples.append(sample)\n",
    "            \n",
    "            neg_diffs.append(sample[-1])\n",
    "\n",
    "    negative_data[doc] = samples"
   ]
  },
  {
   "cell_type": "code",
   "execution_count": 13,
   "metadata": {},
   "outputs": [
    {
     "name": "stdout",
     "output_type": "stream",
     "text": [
      "For negative data:\n",
      "In single sent: 37 , across sents: 646\n"
     ]
    },
    {
     "data": {
      "image/png": "[encoded data removed]",
      "text/plain": [
       "<Figure size 864x432 with 2 Axes>"
      ]
     },
     "metadata": {
      "needs_background": "light"
     },
     "output_type": "display_data"
    }
   ],
   "source": [
    "print(\"For negative data:\\nIn single sent:\", neg_single_sent, \", across sents:\", len(neg_diffs))\n",
    "fig, axs = plt.subplots(1, 2, figsize=(12, 6))\n",
    "\n",
    "names = ['single_sent', 'across_sents']\n",
    "values = [neg_single_sent, len(neg_diffs)]\n",
    "axs[0].bar(names, values)\n",
    "\n",
    "axs[1].hist(neg_diffs)\n",
    "\n",
    "plt.show()"
   ]
  },
  {
   "cell_type": "code",
   "execution_count": null,
   "metadata": {
    "scrolled": false
   },
   "outputs": [],
   "source": [
    "negative_data"
   ]
  },
  {
   "cell_type": "markdown",
   "metadata": {},
   "source": [
    "# shuffling and split data"
   ]
  },
  {
   "cell_type": "code",
   "execution_count": 15,
   "metadata": {},
   "outputs": [],
   "source": [
    "data = []\n",
    "for doc, posi in positive_data.items():\n",
    "    try:\n",
    "        data += posi + negative_data[doc]\n",
    "    except KeyError:\n",
    "        pass\n",
    "random.shuffle(data)"
   ]
  },
  {
   "cell_type": "code",
   "execution_count": 16,
   "metadata": {},
   "outputs": [],
   "source": [
    "amount = len(data)\n",
    "train_ratio = 0.8\n",
    "validation = 1 - train_ratio\n",
    "\n",
    "data = {'train': data[:int(train_ratio*amount)], 'valid': data[int(train_ratio*amount):]}\n",
    "with open(join(OBJECTS_DIR, 're_data.pkl'), 'wb') as f:\n",
    "    pkl.dump(data, f)"
   ]
  },
  {
   "cell_type": "code",
   "execution_count": 17,
   "metadata": {},
   "outputs": [],
   "source": [
    "def write_data(data, file):\n",
    "    f = open(join(OBJECTS_DIR, file), 'w')\n",
    "    \n",
    "    for item in data:\n",
    "        # content: [id, sent1, label, fm, obs,diff]\n",
    "        content = [item[0], item[1], item[2], item[3], item[4]]\n",
    "        f.write('\\t'.join(content) + '\\n')\n",
    "        \n",
    "    f.close()\n",
    "\n",
    "write_data(data['train'], 're_train_data.txt')\n",
    "write_data(data['valid'], 're_valid_data.txt')"
   ]
  }
 ],
 "metadata": {
  "kernelspec": {
   "display_name": "Python 3",
   "language": "python",
   "name": "python3"
  },
  "language_info": {
   "codemirror_mode": {
    "name": "ipython",
    "version": 3
   },
   "file_extension": ".py",
   "mimetype": "text/x-python",
   "name": "python",
   "nbconvert_exporter": "python",
   "pygments_lexer": "ipython3",
   "version": "3.6.8"
  }
 },
 "nbformat": 4,
 "nbformat_minor": 2
}
