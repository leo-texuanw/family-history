{
 "cells": [
  {
   "cell_type": "code",
   "execution_count": null,
   "metadata": {},
   "outputs": [],
   "source": [
    "import sys\n",
    "from os import listdir, makedirs\n",
    "from os.path import join, exists\n",
    "\n",
    "import numpy as np\n",
    "import torch\n",
    "import spacy\n",
    "import codecs\n",
    "import xmltodict\n",
    "import pickle\n",
    "from tqdm import tqdm\n",
    "from allennlp.modules.elmo import Elmo, batch_to_ids"
   ]
  },
  {
   "cell_type": "code",
   "execution_count": null,
   "metadata": {},
   "outputs": [],
   "source": [
    "WORK_DIR = \"../Data/bioc_FH_training/\"\n",
    "\n",
    "torch.set_num_threads(8)"
   ]
  },
  {
   "cell_type": "code",
   "execution_count": null,
   "metadata": {},
   "outputs": [],
   "source": [
    "def read_xml(path, f):\n",
    "    \"\"\"\n",
    "    Get Observations and FamaliMembers from xml file.\n",
    "    \"\"\"\n",
    "    \n",
    "    with open(join(path, f),'r') as f:\n",
    "        content = f.read()\n",
    "        content = xmltodict.parse(content)\n",
    "\n",
    "    Obs, Fam = [], []\n",
    "    for entity in content['data']['annotations']['entity']: # get `entity`s from xml\n",
    "        spans = []\n",
    "        for span in entity['span'].split(';'):\n",
    "            spans.append(span.split(','))\n",
    "\n",
    "        if entity['type'] == 'Observation':\n",
    "            Obs.extend(spans)\n",
    "        elif entity['type'] == 'FamilyMember':\n",
    "            Fam.extend(spans)\n",
    "\n",
    "    return {'OBS': Obs, 'FAM': Fam}"
   ]
  },
  {
   "cell_type": "code",
   "execution_count": null,
   "metadata": {},
   "outputs": [],
   "source": [
    "nlp = spacy.load('en_core_web_lg')\n",
    "\n",
    "options_file = \"https://s3-us-west-2.amazonaws.com/allennlp/models/elmo/2x4096_512_2048cnn_2xhighway/elmo_2x4096_512_2048cnn_2xhighway_options.json\"\n",
    "weight_file = \"https://s3-us-west-2.amazonaws.com/allennlp/models/elmo/2x4096_512_2048cnn_2xhighway/elmo_2x4096_512_2048cnn_2xhighway_weights.hdf5\"\n",
    "elmo = Elmo(options_file, weight_file, 2, dropout=0)"
   ]
  },
  {
   "cell_type": "code",
   "execution_count": null,
   "metadata": {},
   "outputs": [],
   "source": [
    "def get_token_ent_type(token, entities):\n",
    "    \"\"\"\n",
    "    Get the entity type of a token.\n",
    "    \"\"\"\n",
    "\n",
    "    for type_, entities_ in entities.items():\n",
    "        for entity in entities_:\n",
    "            if token.idx >= int(entity[0]) and token.idx + len(token) <= int(entity[1]):\n",
    "                # if a token is in the span of a annotation with a type, then the token will be of that type\n",
    "                print(token, type_)\n",
    "                return type_"
   ]
  },
  {
   "cell_type": "code",
   "execution_count": null,
   "metadata": {},
   "outputs": [],
   "source": [
    "def get_doc_label(doc, entities):\n",
    "    \"\"\"\n",
    "    Get labels of all tokens in a document.\n",
    "    Each token is labeled as [entity_type, POS_type, dependency]\n",
    "    \"\"\"\n",
    "    \n",
    "    doc_label = []\n",
    "    \n",
    "    for sent in doc.sents:\n",
    "        sent_label = []\n",
    "\n",
    "        for token in sent:\n",
    "            ent_type = get_token_ent_type(token, entities)\n",
    "            if ent_type:\n",
    "                token.ent_type_ = ent_type\n",
    "            else:\n",
    "                print(token, 'O')\n",
    "\n",
    "            if not token.ent_type_ in entd.keys():\n",
    "                entd[token.ent_type_] = len(entd)\n",
    "\n",
    "            if not token.pos_ in posd.keys():\n",
    "                posd[token.pos_] = len(posd)\n",
    "\n",
    "            if not token.dep_ in depd.keys():\n",
    "                depd[token.dep_] = len(depd)\n",
    "\n",
    "            sent_label.append([entd[token.ent_type_],posd[token.pos_],depd[token.dep_]])\n",
    "\n",
    "        doc_label.append(sent_label)\n",
    "        \n",
    "    return doc_label"
   ]
  },
  {
   "cell_type": "code",
   "execution_count": null,
   "metadata": {},
   "outputs": [],
   "source": [
    "txtfiles = [f for f in listdir(WORK_DIR) if f.endswith('.txt')]\n",
    "xmlfiles = [f[:-3]+'xml' for f in txtfiles]\n",
    "\n",
    "corpus = []\n",
    "labels = []\n",
    "\n",
    "entd = dict()\n",
    "posd = dict()\n",
    "depd = dict()\n",
    "entd['<PAD>'] = len(entd)\n",
    "posd['<PAD>'] = len(posd)\n",
    "depd['<PAD>'] = len(depd)\n",
    "\n",
    "for findex, txtfile in enumerate(txtfiles):\n",
    "    \n",
    "    entities = read_xml(WORK_DIR, xmlfiles[findex])\n",
    "    #print(entities) ###\n",
    "    \n",
    "    with open(join(WORK_DIR, txtfile),'r') as f:\n",
    "        content = f.read()\n",
    "        doc = nlp(content)\n",
    "\n",
    "    labels.append(get_doc_label(doc, entities))\n",
    "\n",
    "    doc_sent = list(map(lambda sent: list(map(lambda x: x.text, sent)), doc.sents)) # sents to a list of lists of tokens\n",
    "    corpus.append(doc_sent)\n",
    "    doc_emb = elmo(batch_to_ids(doc_sent)) # generate embemdding !! - list of lists [[embd_of_word, ], ]\n",
    "    assert doc_emb['mask'].sum().item() == len(doc)\n",
    "    with open(join(WORK_DIR, txtfile[:-3] + 'pkl'), 'wb') as f:\n",
    "        pickle.dump(doc_emb, f)"
   ]
  },
  {
   "cell_type": "code",
   "execution_count": null,
   "metadata": {},
   "outputs": [],
   "source": [
    "print('labels:', labels[0][0])\n",
    "print('\\ncorpus:', corpus[0][0])"
   ]
  },
  {
   "cell_type": "code",
   "execution_count": null,
   "metadata": {},
   "outputs": [],
   "source": [
    "np.save(join(WORK_DIR, 'label'), np.array(labels))\n",
    "with open(join(WORK_DIR, 'dict.pkl'),'wb') as f:\n",
    "    pickle.dump([entd, posd, depd], f)"
   ]
  },
  {
   "cell_type": "code",
   "execution_count": null,
   "metadata": {},
   "outputs": [],
   "source": [
    "doc_emb['elmo_representations'][0][0][0].size()"
   ]
  },
  {
   "cell_type": "code",
   "execution_count": null,
   "metadata": {},
   "outputs": [],
   "source": [
    "print(entd)\n",
    "# print(posd)\n",
    "# print(depd)"
   ]
  },
  {
   "cell_type": "code",
   "execution_count": null,
   "metadata": {},
   "outputs": [],
   "source": []
  }
 ],
 "metadata": {
  "kernelspec": {
   "display_name": "Python 3",
   "language": "python",
   "name": "python3"
  },
  "language_info": {
   "codemirror_mode": {
    "name": "ipython",
    "version": 3
   },
   "file_extension": ".py",
   "mimetype": "text/x-python",
   "name": "python",
   "nbconvert_exporter": "python",
   "pygments_lexer": "ipython3",
   "version": "3.6.4"
  }
 },
 "nbformat": 4,
 "nbformat_minor": 2
}
