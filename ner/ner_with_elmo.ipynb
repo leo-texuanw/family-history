{
 "cells": [
  {
   "cell_type": "code",
   "execution_count": 1,
   "metadata": {},
   "outputs": [],
   "source": [
    "import torch\n",
    "import torch.nn as nn\n",
    "import torch.optim as optim\n",
    "import torch.nn.functional as F\n",
    "from torch.autograd import Variable\n",
    "from torch.nn.utils import clip_grad_norm_\n",
    "\n",
    "from sklearn.metrics import accuracy_score, precision_score, recall_score, f1_score\n",
    "from tensorboardX import SummaryWriter\n",
    "from multiprocessing import Pool\n",
    "\n",
    "import os\n",
    "import math\n",
    "from os import listdir, makedirs\n",
    "from os.path import join\n",
    "\n",
    "import numpy as np\n",
    "import pickle\n",
    "from tqdm import tqdm"
   ]
  },
  {
   "cell_type": "code",
   "execution_count": 2,
   "metadata": {},
   "outputs": [],
   "source": [
    "WORK_DIR = '../Data/bioc-FH-training/'\n",
    "PROCESSED_DATA_DIR = '../Data/processed/'\n",
    "LOG_DIR  = '../log/bioc_FH_training/'\n",
    "OBJECTS_DIR = '../objects/'\n",
    "\n",
    "lmap = lambda fun, it: list(map(lambda x: fun(x), it))"
   ]
  },
  {
   "cell_type": "code",
   "execution_count": 3,
   "metadata": {},
   "outputs": [],
   "source": [
    "class Attention(nn.Module):\n",
    "    \n",
    "    def __init__(self,d_h):\n",
    "        super(Attention, self).__init__()\n",
    "        self.W_q=nn.Linear(in_features=d_h,out_features=d_h,bias=True)\n",
    "        self.W_k=nn.Linear(in_features=d_h,out_features=d_h,bias=True)\n",
    "        self.W_v=nn.Linear(in_features=d_h,out_features=d_h,bias=True)\n",
    "        \n",
    "    def forward(self,q,k,v,mask):\n",
    "        Q=self.W_q(q)\n",
    "        K=self.W_k(k)\n",
    "        V=self.W_v(v)\n",
    "        O=torch.matmul(Q,torch.transpose(K,-2,-1))/ math.sqrt(Q.size(-1))\n",
    "        O=O.masked_fill(mask==0,-1e9)\n",
    "        E=F.softmax(O,dim=-1)\n",
    "        R=torch.matmul(E,v)\n",
    "#        G=F.sigmoid(self.W_g(R))*R\n",
    "        return R"
   ]
  },
  {
   "cell_type": "code",
   "execution_count": 4,
   "metadata": {},
   "outputs": [],
   "source": [
    "# -*- coding:utf-8 -*-\n",
    "\n",
    "class RNN(nn.Module):\n",
    "    def __init__(self, d_x, d_h, d_ent, d_pos, d_dep, cell=nn.GRU, rnn_layers=3, ffn_layers=5, dp=0.5):\n",
    "        super(RNN, self).__init__()\n",
    "        self.dropout = nn.Dropout(p=dp)\n",
    "        #self.embedding = nn.Embedding(_weight=torch.tensor(emb,dtype=torch.float32),\n",
    "        #                              num_embeddings=embedding.shape[0],\n",
    "        #                              embedding_dim=embedding.shape[1])\n",
    "        self.rnn_layers = rnn_layers\n",
    "        self.d_h=d_h\n",
    "        self.rnn = cell(input_size=d_x, hidden_size=d_h, num_layers=rnn_layers, batch_first=True, dropout=dp,bidirectional=True)\n",
    "        self.ent_attn = Attention(d_h=d_h)\n",
    "        self.pos_attn = Attention(d_h=d_h)\n",
    "        self.dep_attn = Attention(d_h=d_h)\n",
    "        \n",
    "        self.hidden_ents = nn.ModuleList([nn.Linear(in_features=d_h, out_features=d_h) for _ in range(ffn_layers)])\n",
    "        self.hidden_poss = nn.ModuleList([nn.Linear(in_features=d_h, out_features=d_h) for _ in range(ffn_layers)])\n",
    "        self.hidden_deps = nn.ModuleList([nn.Linear(in_features=d_h, out_features=d_h) for _ in range(ffn_layers)])\n",
    "        \n",
    "        self.lm_ents = nn.ModuleList([nn.LayerNorm(d_h) for _ in range(ffn_layers)])\n",
    "        self.lm_poss = nn.ModuleList([nn.LayerNorm(d_h) for _ in range(ffn_layers)])\n",
    "        self.lm_deps = nn.ModuleList([nn.LayerNorm(d_h) for _ in range(ffn_layers)])\n",
    "        \n",
    "        self.f_ent_out = nn.Linear(in_features=d_h, out_features=d_ent)\n",
    "        self.f_pos_out = nn.Linear(in_features=d_h, out_features=d_pos)\n",
    "        self.f_dep_out = nn.Linear(in_features=d_h, out_features=d_dep)\n",
    "        \n",
    "        for param in self.parameters(): # initialize parameters\n",
    "            if param.dim() > 1:\n",
    "                nn.init.xavier_uniform_(param)\n",
    "    \n",
    "    def forward(self, x, mask, hidden=None):\n",
    "        rnn_out, _ = self.rnn(x, hidden)\n",
    "        rnn_out = rnn_out[:, :, :self.d_h] + rnn_out[:, :, self.d_h:]\n",
    "        \n",
    "        ent_out_attn = self.ent_attn(q=rnn_out, k=rnn_out, v=rnn_out, mask=mask)\n",
    "        ent_out = ent_out_attn\n",
    "        for hl, lm in zip(self.hidden_ents, self.lm_ents):\n",
    "            ent_out = self.dropout(lm(F.leaky_relu(hl(ent_out))))\n",
    "        ent_out = self.f_ent_out(ent_out)  # todo for add attention: ent_out_attn\n",
    "        \n",
    "        pos_out_attn = self.pos_attn(q=rnn_out,k=rnn_out,v=rnn_out,mask=mask)\n",
    "        pos_out = pos_out_attn\n",
    "        for hl, lm in zip(self.hidden_poss, self.lm_poss):\n",
    "            pos_out = self.dropout(lm(F.leaky_relu(hl(pos_out))))\n",
    "        pos_out = self.f_pos_out(pos_out_attn + pos_out)\n",
    "        \n",
    "        dep_out_attn = self.dep_attn(q=rnn_out,k=rnn_out,v=rnn_out,mask=mask)\n",
    "        dep_out = dep_out_attn\n",
    "        for hl, lm in zip(self.hidden_deps, self.lm_deps):\n",
    "            dep_out = self.dropout(lm(F.leaky_relu(hl(dep_out))))\n",
    "        dep_out = self.f_dep_out(dep_out_attn + dep_out)\n",
    "        \n",
    "        return ent_out, pos_out, dep_out"
   ]
  },
  {
   "cell_type": "code",
   "execution_count": 5,
   "metadata": {},
   "outputs": [],
   "source": [
    "class Classifier(object):\n",
    "    def __init__(self, model, dp=0.5,lr=1e-3):\n",
    "        super(Classifier, self).__init__()\n",
    "        self.model = model\n",
    "        self.optimizer = optim.Adam(self.model.parameters(), lr=lr)\n",
    "    \n",
    "    def train(self, X, mask, y_ent, y_pos, y_dep):\n",
    "        x = torch.tensor(X, dtype=torch.float)\n",
    "        attn_mask = (mask > 0).unsqueeze(1).repeat(1, mask.size(1), 1)\n",
    "        loss_mask = mask\n",
    "        y_true_ent = torch.tensor(y_ent, dtype=torch.long)\n",
    "        y_true_pos = torch.tensor(y_pos, dtype=torch.long)\n",
    "        y_true_dep = torch.tensor(y_dep, dtype=torch.long)\n",
    "        self.model.train(True)\n",
    "        self.optimizer.zero_grad()\n",
    "        y_hat_ent,y_hat_pos,y_hat_dep = self.model(x,attn_mask)\n",
    "        \n",
    "        loss_ent = self.maskNLLLoss(y_hat_ent, y_true_ent, loss_mask)\n",
    "        loss_pos = self.maskNLLLoss(y_hat_pos, y_true_pos, loss_mask)\n",
    "        loss_dep = self.maskNLLLoss(y_hat_dep, y_true_dep, loss_mask)\n",
    "        reg_lambda=1e-4\n",
    "        l2_reg = 0\n",
    "        \n",
    "        for W in self.model.named_parameters(): # regularizer\n",
    "            if \"weight\" in W[0]:\n",
    "                l2_reg = l2_reg + W[1].norm(2)\n",
    "        loss=loss_ent+loss_pos+loss_dep+l2_reg * reg_lambda\n",
    "        loss.backward()\n",
    "        clip_grad_norm_(self.model.parameters(), 1) # gradient clip -> avoid gradient explosion\n",
    "        self.optimizer.step()\n",
    "        y_hat_ent = y_hat_ent.topk(1)[1].squeeze(-1).detach().cpu()\n",
    "        y_hat_pos = y_hat_pos.topk(1)[1].squeeze(-1).detach().cpu()\n",
    "        y_hat_dep = y_hat_dep.topk(1)[1].squeeze(-1).detach().cpu()\n",
    "        return loss_ent.item(), loss_pos.item(), loss_dep.item(), y_hat_ent.numpy(), y_hat_pos.numpy(), y_hat_dep.numpy()\n",
    "    \n",
    "    def test(self, X, mask, y_ent, y_pos, y_dep):\n",
    "        self.model.eval()\n",
    "        with torch.no_grad():\n",
    "            x = torch.tensor(X, dtype=torch.float)\n",
    "            attn_mask = (mask > 0).unsqueeze(1).repeat(1, mask.size(1), 1)\n",
    "            loss_mask = mask\n",
    "            y_true_ent = torch.tensor(y_ent, dtype=torch.long)\n",
    "            y_true_pos = torch.tensor(y_pos, dtype=torch.long)\n",
    "            y_true_dep = torch.tensor(y_dep, dtype=torch.long)\n",
    "            y_hat_ent,y_hat_pos,y_hat_dep = self.model(x,attn_mask)\n",
    "            \n",
    "            loss_ent = self.maskNLLLoss(y_hat_ent, y_true_ent, loss_mask)\n",
    "            loss_pos = self.maskNLLLoss(y_hat_pos, y_true_pos, loss_mask)\n",
    "            loss_dep = self.maskNLLLoss(y_hat_dep, y_true_dep, loss_mask)\n",
    "            \n",
    "            y_hat_ent = y_hat_ent.topk(1)[1].squeeze(-1).detach().cpu()\n",
    "            y_hat_pos = y_hat_pos.topk(1)[1].squeeze(-1).detach().cpu()\n",
    "            y_hat_dep = y_hat_dep.topk(1)[1].squeeze(-1).detach().cpu()\n",
    "            \n",
    "            return loss_ent.cpu().item(), loss_pos.cpu().item(), loss_dep.cpu().item(), y_hat_ent.numpy(), y_hat_pos.numpy(), y_hat_dep.numpy()\n",
    "    \n",
    "    def inference(self, X, mask):\n",
    "        self.model.eval()\n",
    "        with torch.no_grad():\n",
    "            x = torch.tensor(X, dtype=torch.float)\n",
    "            attn_mask = (mask > 0).unsqueeze(1).repeat(1, mask.size(1), 1)\n",
    "            y_hat_ent,y_hat_pos,y_hat_dep = self.model(x,attn_mask)\n",
    "            y_hat_ent = y_hat_ent.topk(1)[1].squeeze(-1).detach().cpu()\n",
    "            y_hat_pos = y_hat_pos.topk(1)[1].squeeze(-1).detach().cpu()\n",
    "            y_hat_dep = y_hat_dep.topk(1)[1].squeeze(-1).detach().cpu()\n",
    "            return y_hat_ent.numpy().flatten(), y_hat_pos.numpy(), y_hat_dep.numpy()\n",
    "    \n",
    "    def maskNLLLoss(self, logits, target, mask):\n",
    "        logits=F.softmax(logits,dim=-1)\n",
    "        crossEntropy = -torch.log(logits.gather(-1,target[:,:,None])).squeeze(-1)\n",
    "        loss = crossEntropy.masked_select(mask).mean()\n",
    "        return loss\n",
    "    \n",
    "    def load_model(self, model_path='./Model'):\n",
    "        self.model = torch.load(model_path + '/model.pkl')\n",
    "    \n",
    "    def save_model(self, model_path='./Model'):\n",
    "        if not os.path.exists(model_path):\n",
    "            os.mkdir(model_path)\n",
    "        torch.save(self.model, model_path + '/model.pkl')\n",
    "\n",
    "def build_conv(n_gram=[1,3,5],in_channels=[300,300,300], out_channels=[50,50,50]):\n",
    "    convs=nn.ModuleList([nn.Conv1d(in_channels=d_in,out_channels=d_out,kernel_size=n,padding=p,stride=1) for p,(d_in, d_out, n) in enumerate(zip(in_channels,out_channels,n_gram))])\n",
    "    return convs\n",
    "        \n",
    "def pad(sents,dim=5):\n",
    "    padded=[]\n",
    "    max_leng=max(lmap(lambda x:x.shape[0],sents))\n",
    "    for s in sents:\n",
    "        if s.shape[0]<=max_leng:\n",
    "            padded.append(np.concatenate((s,np.zeros((max_leng-s.shape[0],dim),dtype=np.int32))))\n",
    "    return np.array(padded)\n",
    "\n",
    "def unpad(y_true, y_hat):\n",
    "    y_true = np.concatenate(y_true)\n",
    "    y_hat = np.concatenate(y_hat)\n",
    "    idx = (y_true != 0)\n",
    "    y_true = y_true[idx]\n",
    "    y_hat = y_hat[idx]\n",
    "    return y_true, y_hat\n",
    "\n",
    "def mask_unpad(mask, y_hat):\n",
    "    y_hat = np.concatenate(y_hat)\n",
    "    idx = (mask != 0)\n",
    "    mask = mask[idx]\n",
    "    y_hat = y_hat[idx]\n",
    "    return y_hat"
   ]
  },
  {
   "cell_type": "markdown",
   "metadata": {},
   "source": [
    "# Training"
   ]
  },
  {
   "cell_type": "code",
   "execution_count": 6,
   "metadata": {},
   "outputs": [
    {
     "name": "stdout",
     "output_type": "stream",
     "text": [
      "{'<PAD>': 0, 'O': 1, 'FM': 2, 'OBS': 3, 'Maternal': 4, 'LS-0': 5, 'Paternal': 6, 'LS-4': 7, 'LS-2': 8}\n"
     ]
    }
   ],
   "source": [
    "with open(OBJECTS_DIR + 'label_dict.pkl','rb') as f:\n",
    "    ent, pos, dep = pickle.load(f)\n",
    "\n",
    "d_ent=len(ent)\n",
    "d_pos=len(pos)\n",
    "d_dep=len(dep)\n",
    "\n",
    "print(ent)"
   ]
  },
  {
   "cell_type": "code",
   "execution_count": 7,
   "metadata": {},
   "outputs": [
    {
     "name": "stderr",
     "output_type": "stream",
     "text": [
      "/home/texuanw/softwares/anaconda3/lib/python3.6/site-packages/torch/nn/modules/rnn.py:54: UserWarning: dropout option adds dropout after all but last recurrent layer, so non-zero dropout expects num_layers greater than 1, but got dropout=0.5 and num_layers=1\n",
      "  \"num_layers={}\".format(dropout, num_layers))\n"
     ]
    }
   ],
   "source": [
    "model=RNN(d_x=1024,d_h=100,d_ent=d_ent,d_pos=d_pos,d_dep=d_dep,rnn_layers=1,ffn_layers=2)"
   ]
  },
  {
   "cell_type": "code",
   "execution_count": 8,
   "metadata": {},
   "outputs": [],
   "source": [
    "clf = Classifier(model=model,lr=1e-3)"
   ]
  },
  {
   "cell_type": "code",
   "execution_count": 9,
   "metadata": {},
   "outputs": [],
   "source": [
    "with open(join(OBJECTS_DIR, 'corpus.pkl'), 'rb') as pkl_f:\n",
    "    corpus = pickle.load(pkl_f)\n",
    "    \n",
    "with open(OBJECTS_DIR + 'corpus_labels.pkl','rb') as f:\n",
    "    labels = pickle.load(f)"
   ]
  },
  {
   "cell_type": "code",
   "execution_count": 10,
   "metadata": {
    "scrolled": false
   },
   "outputs": [],
   "source": [
    "writer = SummaryWriter(log_dir=LOG_DIR)\n",
    "train_size = 72\n",
    "\n",
    "text_files = list(corpus.keys())\n",
    "\n",
    "def read_emb_f(f):\n",
    "    with open(PROCESSED_DATA_DIR + f + '.emb.pkl', 'rb') as emb_f:\n",
    "        embedding = pickle.load(emb_f)\n",
    "    return embedding\n",
    "\n",
    "pool = Pool(processes=24) \n",
    "emb_files = pool.map(read_emb_f, text_files)\n",
    "\n",
    "train_corpus = []\n",
    "for idx, title in enumerate(text_files[:train_size]):\n",
    "    train_corpus.append((emb_files[idx], labels[title]))\n",
    "\n",
    "test_corpus = []\n",
    "for idx, title in enumerate(text_files[train_size:]):\n",
    "    test_corpus.append((emb_files[idx+train_size], labels[title]))"
   ]
  },
  {
   "cell_type": "code",
   "execution_count": 11,
   "metadata": {
    "scrolled": true
   },
   "outputs": [],
   "source": [
    "# print(\"len emb_files\", len(emb_files))\n",
    "# print(\"len emb_files[0]\", len(emb_files[0]))\n",
    "# print(emb_files[0]['elmo_representations'][0][0])\n",
    "# print(len(emb_files[0]['elmo_representations'][0][0]))\n",
    "# print(len(emb_files[3]['elmo_representations'][0][0][0]))"
   ]
  },
  {
   "cell_type": "code",
   "execution_count": 12,
   "metadata": {},
   "outputs": [],
   "source": [
    "batch_size=32  # 64 got great performance"
   ]
  },
  {
   "cell_type": "code",
   "execution_count": null,
   "metadata": {
    "scrolled": true
   },
   "outputs": [],
   "source": [
    "for e in tqdm(range(20)): \n",
    "    np.random.shuffle(train_corpus)\n",
    "    for fi, f in enumerate(train_corpus):\n",
    "        \n",
    "        emb_corpus = f[0]\n",
    "        label = lmap(lambda x: np.array(x), f[1])\n",
    "        label = pad(label, dim=3)\n",
    "        dl = []\n",
    "        i = 0\n",
    "        while i < label.shape[0]:\n",
    "            if label.shape[0] == 0: break\n",
    "            x = emb_corpus['elmo_representations'][0][i:i + batch_size]\n",
    "            mask =  emb_corpus['mask'].type(torch.uint8)[i:i + batch_size]\n",
    "            y = label[i:i + batch_size]\n",
    "            l1,l2,l3,y1,y2,y3=clf.train(x,mask,y_ent=y[:,:,0],y_pos=y[:,:,1],y_dep=y[:,:,2])\n",
    "            i += batch_size\n",
    "            dl.append(l1+l2+l3)\n",
    "        writer.add_scalar('train loss',np.mean(dl),e*len(train_corpus)+fi)\n",
    "        #print(f'train epoch: {e}, doc: {fi}, loss: {np.mean(dl):.2f}')\n",
    "    # print('-'*18)\n",
    "\n",
    "    tall, pall = [], []\n",
    "    for fi, f in enumerate(test_corpus):\n",
    "        emb_corpus = f[0]\n",
    "        label = lmap(lambda x: np.array(x), f[1])\n",
    "        label = pad(label,dim=3)\n",
    "        pent = []\n",
    "        ppos = []\n",
    "        pdep = []\n",
    "        tent = []\n",
    "        tpos = []\n",
    "        tdep = []\n",
    "        dl = []\n",
    "        i=0\n",
    "        while i<label.shape[0]:\n",
    "            if label.shape[0]==0:break\n",
    "            x = emb_corpus['elmo_representations'][0][i:i+batch_size]\n",
    "            mask =  emb_corpus['mask'].type(torch.uint8)[i:i+batch_size]\n",
    "            y = label[i:i+batch_size]\n",
    "            l1,l2,l3,y1,y2,y3=clf.test(x,mask,y_ent=y[:,:,0],y_pos=y[:,:,1],y_dep=y[:,:,2])\n",
    "            i += batch_size\n",
    "            dl.append(l1+l2+l3)\n",
    "            pent.append(y1.flatten())\n",
    "            ppos.append(y2.flatten())\n",
    "            pdep.append(y3.flatten())\n",
    "            tent.append(y[:,:,0].flatten())\n",
    "            tpos.append(y[:,:,1].flatten())\n",
    "            tdep.append(y[:,:,2].flatten())\n",
    "        tent, pent = unpad(tent,pent)\n",
    "        tpos, ppos = unpad(tpos,ppos)\n",
    "        tdep, pdep = unpad(tdep,pdep)\n",
    "        \n",
    "        acc = accuracy_score(y_true=tent,y_pred=pent) + \\\n",
    "              accuracy_score(y_true=tpos,y_pred=ppos) + \\\n",
    "              accuracy_score(y_true=tdep,y_pred=pdep)\n",
    "        \n",
    "\n",
    "        # tent = (tent==ent['OBS']) * tent / ent['OBS']\n",
    "        # pent = (pent==ent['OBS']) * pent / ent['OBS']\n",
    "        \n",
    "        tall.extend(tent)\n",
    "        pall.extend(pent)\n",
    "        lp = precision_score(y_true=tent, y_pred=pent, average=None)\n",
    "        lr = recall_score(y_true=tent, y_pred=pent, average=None)\n",
    "        lf1 = f1_score(y_true=tent, y_pred=pent, average=None)\n",
    "        \n",
    "        writer.add_scalar('test loss', np.mean(dl),e*len(test_corpus)+fi)\n",
    "        writer.add_scalar('test acc', acc,e*len(test_corpus)+fi)\n",
    "        writer.add_scalar('loc precision', np.mean(lp), e*len(test_corpus)+fi)\n",
    "        writer.add_scalar('loc recall',np.mean(lr),e*len(test_corpus)+fi)\n",
    "        writer.add_scalar('loc f1-score',np.mean(lf1),e*len(test_corpus)+fi)\n",
    "        \n",
    "    print(f'test epoch: {e}, doc: {fi}, loss: {np.mean(dl)}, acc: {acc}')\n",
    "    print(\"precision:\", lp)\n",
    "    print(\"recall:\", lr)\n",
    "    print(\"f1-score:\", lf1)\n",
    "    print('-'*18)"
   ]
  },
  {
   "cell_type": "markdown",
   "metadata": {},
   "source": [
    "# Testing"
   ]
  },
  {
   "cell_type": "code",
   "execution_count": 14,
   "metadata": {},
   "outputs": [
    {
     "name": "stdout",
     "output_type": "stream",
     "text": [
      "Number of test files: 27\n"
     ]
    },
    {
     "name": "stderr",
     "output_type": "stream",
     "text": [
      "/home/texuanw/softwares/anaconda3/lib/python3.6/site-packages/ipykernel_launcher.py:60: UserWarning: To copy construct from a tensor, it is recommended to use sourceTensor.clone().detach() or sourceTensor.clone().detach().requires_grad_(True), rather than torch.tensor(sourceTensor).\n"
     ]
    }
   ],
   "source": [
    "test_labels = []\n",
    "result = []\n",
    "print(\"Number of test files:\", len(test_corpus))\n",
    "\n",
    "for fi,f in enumerate(test_corpus):\n",
    "    emb_corpus = f[0]\n",
    "    label = lmap(lambda x: np.array(x), f[1])\n",
    "    pad_label = pad(label, dim=3)\n",
    "    pent = []\n",
    "    ppos = []\n",
    "    pdep = []\n",
    "    \n",
    "    tent = []\n",
    "    tpos = []\n",
    "    tdep = []\n",
    "    i=0\n",
    "    while i<pad_label.shape[0]:\n",
    "        if pad_label.shape[0]==0: break\n",
    "        x = emb_corpus['elmo_representations'][0][i:i+batch_size]\n",
    "        mask =  emb_corpus['mask'].type(torch.uint8)[i:i+batch_size]\n",
    "        y = pad_label[i:i+batch_size]\n",
    "        y1,y2,y3=clf.inference(x,mask)\n",
    "        i+=batch_size\n",
    "        pent.append(y1.flatten())\n",
    "        ppos.append(y2.flatten())\n",
    "        pdep.append(y3.flatten())\n",
    "        tent.append(y[:,:,0].flatten())\n",
    "        tpos.append(y[:,:,1].flatten())\n",
    "        tdep.append(y[:,:,2].flatten())\n",
    "    mask = emb_corpus['mask'].numpy().flatten()\n",
    "    pent = mask_unpad(mask,pent)\n",
    "    ppos = mask_unpad(mask,ppos)\n",
    "    pdep = mask_unpad(mask,pdep)\n",
    "    # pent = (pent==ent['OBS'])*pent/ent['OBS']\n",
    "    result += list(pent)\n",
    "    test_labels.append(label)\n",
    "np.save(OBJECTS_DIR+'ner_elmo_result', result)"
   ]
  },
  {
   "cell_type": "markdown",
   "metadata": {},
   "source": [
    "# Postprocess"
   ]
  },
  {
   "cell_type": "code",
   "execution_count": 15,
   "metadata": {},
   "outputs": [],
   "source": [
    "import sys\n",
    "import argparse\n",
    "import spacy\n",
    "import pickle\n",
    "import codecs\n",
    "from tqdm import tqdm\n",
    "import numpy as np\n",
    "import torch\n",
    "from os import listdir, makedirs\n",
    "from os.path import join, exists\n",
    "\n",
    "# nlp = spacy.load('en_core_web_lg')"
   ]
  },
  {
   "cell_type": "code",
   "execution_count": 16,
   "metadata": {},
   "outputs": [],
   "source": [
    "true_test_labels = []\n",
    "for doc_labels in test_labels:\n",
    "    for sent_labels in doc_labels:\n",
    "        for word_label in sent_labels:\n",
    "            true_test_labels.append(word_label[0])"
   ]
  },
  {
   "cell_type": "code",
   "execution_count": 17,
   "metadata": {},
   "outputs": [],
   "source": [
    "classes = list(ent)"
   ]
  },
  {
   "cell_type": "code",
   "execution_count": null,
   "metadata": {
    "scrolled": false
   },
   "outputs": [],
   "source": [
    "test_files = text_files[train_size:]\n",
    "\n",
    "docs_pred_labels = np.load(OBJECTS_DIR + 'ner_elmo_result.npy', allow_pickle=True)\n",
    "\n",
    "i = 0\n",
    "ner_result = {}\n",
    "for index, txt_file in enumerate(test_files):\n",
    "    fms, obs = set(), set() # a set for each txt_file\n",
    "    \n",
    "    for sent in corpus[txt_file]:\n",
    "#         sent_fms, sent_obs = [], [] # TODO \n",
    "        last_class, last_content = \"\", []\n",
    "        for tid, token in enumerate(sent):\n",
    "            if classes[docs_pred_labels[i]] != classes[true_test_labels[i]]:\n",
    "                print('\\t\\t'.join([token,\n",
    "                                   classes[docs_pred_labels[i]],\n",
    "                                   classes[true_test_labels[i]]]))\n",
    "            pred_class = classes[docs_pred_labels[i]]\n",
    "            i += 1\n",
    "            if pred_class in [\"FM\", \"Paternal\", \"Maternal\"]:\n",
    "                if token.capitalize().rstrip('s') in [\"Father\", \"Mother\", \"Parent\",\n",
    "                    \"Sister\", \"Brother\", \"Daughter\", \"Son\", \"Child\", \"Grandmother\", \\\n",
    "                    \"Grandfather\", \"Grandparent\", \"Cousin\", \"Sibling\", \\\n",
    "                    \"Aunt\", \"Uncle\"]:\n",
    "                \n",
    "                    if pred_class == 'FM':\n",
    "                        fms.add((\"FamilyMember\", token.capitalize().rstrip('s'), \"NA\"))\n",
    "                    else:\n",
    "                        fms.add((\"FamilyMember\", token.capitalize().rstrip('s'), pred_class))\n",
    "                elif token.lower() == 'dad':\n",
    "                    fms.add((\"FamilyMember\", \"Father\", \"NA\"))\n",
    "                elif token.lower() == 'mom':\n",
    "                    fms.add((\"FamilyMember\", \"Mother\", \"NA\"))\n",
    "                elif token.lower() not in [\"paternal\", \"maternal\"]:\n",
    "                    print(\"ignore: \", token, pred_class)\n",
    "            elif pred_class == last_class and pred_class == \"OBS\":\n",
    "                last_content += [token]\n",
    "            else:\n",
    "                if last_class == 'OBS' and last_content:\n",
    "                    obs.add((\"Observation\", \" \".join(last_content)))\n",
    "\n",
    "                if pred_class == \"OBS\":\n",
    "                    last_class, last_content = pred_class, [token]\n",
    "                else:\n",
    "                    last_class, last_content = \"\", []\n",
    "    ner_result[txt_file] = list(fms) + list(obs)\n",
    "#     print(ner_result)"
   ]
  },
  {
   "cell_type": "code",
   "execution_count": 29,
   "metadata": {},
   "outputs": [],
   "source": [
    "with open(join(OBJECTS_DIR, 'subtask1_result.tsv'), 'w') as f:\n",
    "    for txt_file, content in ner_result.items():\n",
    "        for items in content:\n",
    "            f.write(\"\\t\".join([txt_file] + list(items)))\n",
    "            f.write(\"\\n\")"
   ]
  },
  {
   "cell_type": "code",
   "execution_count": 20,
   "metadata": {},
   "outputs": [],
   "source": [
    "import pandas as pd\n",
    "import seaborn as sn\n",
    "from matplotlib import pyplot as plt\n",
    "from sklearn.metrics import confusion_matrix"
   ]
  },
  {
   "cell_type": "code",
   "execution_count": 21,
   "metadata": {},
   "outputs": [
    {
     "data": {
      "image/png": "[encoded data removed]",
      "text/plain": [
       "<Figure size 720x576 with 2 Axes>"
      ]
     },
     "metadata": {
      "needs_background": "light"
     },
     "output_type": "display_data"
    }
   ],
   "source": [
    "cm = confusion_matrix(y_true=true_test_labels, y_pred=result)\n",
    "cm = cm.astype('float') / cm.sum(axis=1)[:, np.newaxis]\n",
    "df_cm = pd.DataFrame(cm, index=classes[1:], columns=classes[1:])\n",
    "plt.figure(figsize=(10,8))\n",
    "ax = sn.heatmap(df_cm, annot=True, fmt='.2f',cmap=sn.color_palette(\"Blues\", n_colors=10))\n",
    "ax.set(ylabel='True label', xlabel='Predicted label')\n",
    "ax.xaxis.tick_top()"
   ]
  },
  {
   "cell_type": "code",
   "execution_count": 22,
   "metadata": {},
   "outputs": [
    {
     "name": "stdout",
     "output_type": "stream",
     "text": [
      "[0.97741673 0.71812081 0.84897025 0.77777778 0.91358025 0.7625\n",
      " 0.67961165 0.33333333]\n",
      "[0.97662338 0.72789116 0.88123515 0.72413793 0.93670886 0.70114943\n",
      " 0.79545455 0.125     ]\n",
      "[0.97701989 0.72297297 0.86480186 0.75       0.925      0.73053892\n",
      " 0.73298429 0.18181818]\n"
     ]
    }
   ],
   "source": [
    "p = precision_score(y_true=true_test_labels, y_pred=result, average=None)\n",
    "r = recall_score(y_true=true_test_labels, y_pred=result, average=None)\n",
    "f1 = f1_score(y_true=true_test_labels, y_pred=result, average=None)\n",
    "print(p)\n",
    "print(r)\n",
    "print(f1)\n",
    "# print(f'precision: {p:.2f}, recall: {r:.2f}, f1-score: {f1:.2f}')"
   ]
  },
  {
   "cell_type": "code",
   "execution_count": 23,
   "metadata": {},
   "outputs": [
    {
     "data": {
      "text/plain": [
       "Counter({1: 6160, 2: 147, 3: 421, 4: 116, 6: 87, 5: 79, 7: 88, 8: 24})"
      ]
     },
     "execution_count": 23,
     "metadata": {},
     "output_type": "execute_result"
    }
   ],
   "source": [
    "from collections import Counter\n",
    "Counter(tall)"
   ]
  },
  {
   "cell_type": "code",
   "execution_count": 24,
   "metadata": {},
   "outputs": [
    {
     "data": {
      "text/plain": [
       "Counter({1: 6155, 3: 437, 4: 108, 2: 149, 6: 80, 5: 81, 7: 103, 8: 9})"
      ]
     },
     "execution_count": 24,
     "metadata": {},
     "output_type": "execute_result"
    }
   ],
   "source": [
    "Counter(pall)"
   ]
  },
  {
   "cell_type": "code",
   "execution_count": null,
   "metadata": {},
   "outputs": [],
   "source": []
  }
 ],
 "metadata": {
  "kernelspec": {
   "display_name": "Python 3",
   "language": "python",
   "name": "python3"
  },
  "language_info": {
   "codemirror_mode": {
    "name": "ipython",
    "version": 3
   },
   "file_extension": ".py",
   "mimetype": "text/x-python",
   "name": "python",
   "nbconvert_exporter": "python",
   "pygments_lexer": "ipython3",
   "version": "3.6.8"
  }
 },
 "nbformat": 4,
 "nbformat_minor": 2
}
