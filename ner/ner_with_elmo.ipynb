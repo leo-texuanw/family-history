{
 "cells": [
  {
   "cell_type": "code",
   "execution_count": 1,
   "metadata": {},
   "outputs": [],
   "source": [
    "import torch\n",
    "import torch.nn as nn\n",
    "import torch.optim as optim\n",
    "import torch.nn.functional as F\n",
    "from torch.nn.utils import clip_grad_norm_\n",
    "\n",
    "from sklearn.metrics import accuracy_score, precision_score, recall_score, f1_score\n",
    "from tensorboardX import SummaryWriter\n",
    "from multiprocessing import Pool\n",
    "\n",
    "import os\n",
    "import math\n",
    "from os import listdir\n",
    "from os.path import join\n",
    "\n",
    "import numpy as np\n",
    "import pickle\n",
    "from tqdm import tqdm"
   ]
  },
  {
   "cell_type": "code",
   "execution_count": 2,
   "metadata": {},
   "outputs": [],
   "source": [
    "WORK_DIR = '../Data/bioc-FH-training/'\n",
    "PROCESSED_TRAIN_DATA_DIR = '../Data/processed/'\n",
    "PROCESSED_TEST_DATA_DIR = '../Data/processed_test_data/'\n",
    "LOG_DIR  = '../log/bioc_FH_training/'\n",
    "OBJECTS_DIR = '../objects/'\n",
    "\n",
    "lmap = lambda fun, it: list(map(lambda x: fun(x), it))"
   ]
  },
  {
   "cell_type": "code",
   "execution_count": 3,
   "metadata": {},
   "outputs": [],
   "source": [
    "class Attention(nn.Module):\n",
    "    \n",
    "    def __init__(self,d_h):\n",
    "        super(Attention, self).__init__()\n",
    "        self.W_q=nn.Linear(in_features=d_h,out_features=d_h,bias=True)\n",
    "        self.W_k=nn.Linear(in_features=d_h,out_features=d_h,bias=True)\n",
    "        self.W_v=nn.Linear(in_features=d_h,out_features=d_h,bias=True)\n",
    "        \n",
    "    def forward(self,q,k,v,mask):\n",
    "        Q=self.W_q(q)\n",
    "        K=self.W_k(k)\n",
    "        V=self.W_v(v)\n",
    "        O=torch.matmul(Q,torch.transpose(K,-2,-1))/ math.sqrt(Q.size(-1))\n",
    "        O=O.masked_fill(mask==0,-1e9)\n",
    "        E=F.softmax(O,dim=-1)\n",
    "        R=torch.matmul(E,v)\n",
    "#        G=F.sigmoid(self.W_g(R))*R\n",
    "        return R"
   ]
  },
  {
   "cell_type": "code",
   "execution_count": 4,
   "metadata": {},
   "outputs": [],
   "source": [
    "# -*- coding:utf-8 -*-\n",
    "\n",
    "class RNN(nn.Module):\n",
    "    def __init__(self, d_x, d_h, d_ent, d_pos, d_dep, cell=nn.GRU, rnn_layers=3, ffn_layers=5, dp=0.5):\n",
    "        super(RNN, self).__init__()\n",
    "        self.dropout = nn.Dropout(p=dp)\n",
    "        #self.embedding = nn.Embedding(_weight=torch.tensor(emb,dtype=torch.float32),\n",
    "        #                              num_embeddings=embedding.shape[0],\n",
    "        #                              embedding_dim=embedding.shape[1])\n",
    "        self.rnn_layers = rnn_layers\n",
    "        self.d_h=d_h\n",
    "        self.rnn = cell(input_size=d_x, hidden_size=d_h, num_layers=rnn_layers, batch_first=True, dropout=dp,bidirectional=True)\n",
    "        self.ent_attn = Attention(d_h=d_h)\n",
    "        self.pos_attn = Attention(d_h=d_h)\n",
    "        self.dep_attn = Attention(d_h=d_h)\n",
    "        \n",
    "        self.hidden_ents = nn.ModuleList([nn.Linear(in_features=d_h, out_features=d_h) for _ in range(ffn_layers)])\n",
    "        self.hidden_poss = nn.ModuleList([nn.Linear(in_features=d_h, out_features=d_h) for _ in range(ffn_layers)])\n",
    "        self.hidden_deps = nn.ModuleList([nn.Linear(in_features=d_h, out_features=d_h) for _ in range(ffn_layers)])\n",
    "        \n",
    "        self.lm_ents = nn.ModuleList([nn.LayerNorm(d_h) for _ in range(ffn_layers)])\n",
    "        self.lm_poss = nn.ModuleList([nn.LayerNorm(d_h) for _ in range(ffn_layers)])\n",
    "        self.lm_deps = nn.ModuleList([nn.LayerNorm(d_h) for _ in range(ffn_layers)])\n",
    "        \n",
    "        self.f_ent_out = nn.Linear(in_features=d_h, out_features=d_ent)\n",
    "        self.f_pos_out = nn.Linear(in_features=d_h, out_features=d_pos)\n",
    "        self.f_dep_out = nn.Linear(in_features=d_h, out_features=d_dep)\n",
    "        \n",
    "        for param in self.parameters(): # initialize parameters\n",
    "            if param.dim() > 1:\n",
    "                nn.init.xavier_uniform_(param)\n",
    "    \n",
    "    def forward(self, x, mask, hidden=None):\n",
    "        rnn_out, _ = self.rnn(x, hidden)\n",
    "        rnn_out = rnn_out[:, :, :self.d_h] + rnn_out[:, :, self.d_h:]\n",
    "        \n",
    "        ent_out_attn = self.ent_attn(q=rnn_out, k=rnn_out, v=rnn_out, mask=mask)\n",
    "        ent_out = ent_out_attn\n",
    "        for hl, lm in zip(self.hidden_ents, self.lm_ents):\n",
    "            ent_out = self.dropout(lm(F.leaky_relu(hl(ent_out))))\n",
    "        ent_out = self.f_ent_out(ent_out)  # todo for add attention: ent_out_attn\n",
    "        \n",
    "        pos_out_attn = self.pos_attn(q=rnn_out,k=rnn_out,v=rnn_out,mask=mask)\n",
    "        pos_out = pos_out_attn\n",
    "        for hl, lm in zip(self.hidden_poss, self.lm_poss):\n",
    "            pos_out = self.dropout(lm(F.leaky_relu(hl(pos_out))))\n",
    "        pos_out = self.f_pos_out(pos_out_attn + pos_out)\n",
    "        \n",
    "        dep_out_attn = self.dep_attn(q=rnn_out,k=rnn_out,v=rnn_out,mask=mask)\n",
    "        dep_out = dep_out_attn\n",
    "        for hl, lm in zip(self.hidden_deps, self.lm_deps):\n",
    "            dep_out = self.dropout(lm(F.leaky_relu(hl(dep_out))))\n",
    "        dep_out = self.f_dep_out(dep_out_attn + dep_out)\n",
    "        \n",
    "        return ent_out, pos_out, dep_out"
   ]
  },
  {
   "cell_type": "code",
   "execution_count": 5,
   "metadata": {},
   "outputs": [],
   "source": [
    "class Classifier(object):\n",
    "    def __init__(self, model, dp=0.5,lr=1e-3):\n",
    "        super(Classifier, self).__init__()\n",
    "        self.model = model\n",
    "        self.optimizer = optim.Adam(self.model.parameters(), lr=lr)\n",
    "    \n",
    "    def train(self, X, mask, y_ent, y_pos, y_dep):\n",
    "        x = torch.tensor(X, dtype=torch.float)\n",
    "        attn_mask = (mask > 0).unsqueeze(1).repeat(1, mask.size(1), 1)\n",
    "        loss_mask = mask\n",
    "        y_true_ent = torch.tensor(y_ent, dtype=torch.long)\n",
    "        y_true_pos = torch.tensor(y_pos, dtype=torch.long)\n",
    "        y_true_dep = torch.tensor(y_dep, dtype=torch.long)\n",
    "        self.model.train(True)\n",
    "        self.optimizer.zero_grad()\n",
    "        y_hat_ent,y_hat_pos,y_hat_dep = self.model(x,attn_mask)\n",
    "        \n",
    "        loss_ent = self.maskNLLLoss(y_hat_ent, y_true_ent, loss_mask)\n",
    "        loss_pos = self.maskNLLLoss(y_hat_pos, y_true_pos, loss_mask)\n",
    "        loss_dep = self.maskNLLLoss(y_hat_dep, y_true_dep, loss_mask)\n",
    "        reg_lambda=1e-4\n",
    "        l2_reg = 0\n",
    "        \n",
    "        for W in self.model.named_parameters(): # regularizer\n",
    "            if \"weight\" in W[0]:\n",
    "                l2_reg = l2_reg + W[1].norm(2)\n",
    "        loss=loss_ent+loss_pos+loss_dep+l2_reg * reg_lambda\n",
    "        loss.backward()\n",
    "        clip_grad_norm_(self.model.parameters(), 1) # gradient clip -> avoid gradient explosion\n",
    "        self.optimizer.step()\n",
    "        y_hat_ent = y_hat_ent.topk(1)[1].squeeze(-1).detach().cpu()\n",
    "        y_hat_pos = y_hat_pos.topk(1)[1].squeeze(-1).detach().cpu()\n",
    "        y_hat_dep = y_hat_dep.topk(1)[1].squeeze(-1).detach().cpu()\n",
    "        return loss_ent.item(), loss_pos.item(), loss_dep.item(), y_hat_ent.numpy(), y_hat_pos.numpy(), y_hat_dep.numpy()\n",
    "    \n",
    "    def test(self, X, mask, y_ent, y_pos, y_dep):\n",
    "        self.model.eval()\n",
    "        with torch.no_grad():\n",
    "            x = torch.tensor(X, dtype=torch.float)\n",
    "            attn_mask = (mask > 0).unsqueeze(1).repeat(1, mask.size(1), 1)\n",
    "            loss_mask = mask\n",
    "            y_true_ent = torch.tensor(y_ent, dtype=torch.long)\n",
    "            y_true_pos = torch.tensor(y_pos, dtype=torch.long)\n",
    "            y_true_dep = torch.tensor(y_dep, dtype=torch.long)\n",
    "            y_hat_ent,y_hat_pos,y_hat_dep = self.model(x,attn_mask)\n",
    "            \n",
    "            loss_ent = self.maskNLLLoss(y_hat_ent, y_true_ent, loss_mask)\n",
    "            loss_pos = self.maskNLLLoss(y_hat_pos, y_true_pos, loss_mask)\n",
    "            loss_dep = self.maskNLLLoss(y_hat_dep, y_true_dep, loss_mask)\n",
    "            \n",
    "            y_hat_ent = y_hat_ent.topk(1)[1].squeeze(-1).detach().cpu()\n",
    "            y_hat_pos = y_hat_pos.topk(1)[1].squeeze(-1).detach().cpu()\n",
    "            y_hat_dep = y_hat_dep.topk(1)[1].squeeze(-1).detach().cpu()\n",
    "            \n",
    "            return loss_ent.cpu().item(), loss_pos.cpu().item(), loss_dep.cpu().item(), y_hat_ent.numpy(), y_hat_pos.numpy(), y_hat_dep.numpy()\n",
    "    \n",
    "    def inference(self, X, mask):\n",
    "        self.model.eval()\n",
    "        with torch.no_grad():\n",
    "            x = torch.tensor(X, dtype=torch.float)\n",
    "            attn_mask = (mask > 0).unsqueeze(1).repeat(1, mask.size(1), 1)\n",
    "            y_hat_ent,y_hat_pos,y_hat_dep = self.model(x,attn_mask)\n",
    "            y_hat_ent = y_hat_ent.topk(1)[1].squeeze(-1).detach().cpu()\n",
    "            y_hat_pos = y_hat_pos.topk(1)[1].squeeze(-1).detach().cpu()\n",
    "            y_hat_dep = y_hat_dep.topk(1)[1].squeeze(-1).detach().cpu()\n",
    "            return y_hat_ent.numpy().flatten(), y_hat_pos.numpy(), y_hat_dep.numpy()\n",
    "    \n",
    "    def maskNLLLoss(self, logits, target, mask):\n",
    "        logits=F.softmax(logits,dim=-1)\n",
    "        crossEntropy = -torch.log(logits.gather(-1,target[:,:,None])).squeeze(-1)\n",
    "        loss = crossEntropy.masked_select(mask).mean()\n",
    "        return loss\n",
    "    \n",
    "    def load_model(self, model_path='./Model'):\n",
    "        self.model = torch.load(model_path + '/model.pkl')\n",
    "    \n",
    "    def save_model(self, model_path='./Model'):\n",
    "        if not os.path.exists(model_path):\n",
    "            os.mkdir(model_path)\n",
    "        torch.save(self.model, model_path + '/model.pkl')\n",
    "\n",
    "def build_conv(n_gram=[1,3,5],in_channels=[300,300,300], out_channels=[50,50,50]):\n",
    "    convs=nn.ModuleList([nn.Conv1d(in_channels=d_in,out_channels=d_out,kernel_size=n,padding=p,stride=1) for p,(d_in, d_out, n) in enumerate(zip(in_channels,out_channels,n_gram))])\n",
    "    return convs\n",
    "        \n",
    "def pad(sents,dim=5):\n",
    "    padded=[]\n",
    "    max_leng=max(lmap(lambda x:x.shape[0],sents))\n",
    "    for s in sents:\n",
    "        if s.shape[0]<=max_leng:\n",
    "            padded.append(np.concatenate((s,np.zeros((max_leng-s.shape[0],dim),dtype=np.int32))))\n",
    "    return np.array(padded)\n",
    "\n",
    "def unpad(y_true, y_hat):\n",
    "    y_true = np.concatenate(y_true)\n",
    "    y_hat = np.concatenate(y_hat)\n",
    "    idx = (y_true != 0)\n",
    "    y_true = y_true[idx]\n",
    "    y_hat = y_hat[idx]\n",
    "    return y_true, y_hat\n",
    "\n",
    "def mask_unpad(mask, y_hat):\n",
    "    y_hat = np.concatenate(y_hat)\n",
    "    idx = (mask != 0)\n",
    "    mask = mask[idx]\n",
    "    y_hat = y_hat[idx]\n",
    "    return y_hat"
   ]
  },
  {
   "cell_type": "markdown",
   "metadata": {},
   "source": [
    "# Training"
   ]
  },
  {
   "cell_type": "code",
   "execution_count": 6,
   "metadata": {},
   "outputs": [
    {
     "name": "stdout",
     "output_type": "stream",
     "text": [
      "{'<PAD>': 0, 'FM': 1, 'O': 2, 'LS-2': 3, 'OBS': 4, 'LS-0': 5, 'Maternal': 6, 'Paternal': 7, 'LS-4': 8}\n"
     ]
    }
   ],
   "source": [
    "with open(OBJECTS_DIR + 'label_dict.pkl','rb') as f:\n",
    "    ent, pos, dep = pickle.load(f)\n",
    "\n",
    "d_ent=len(ent)\n",
    "d_pos=len(pos)\n",
    "d_dep=len(dep)\n",
    "\n",
    "print(ent)"
   ]
  },
  {
   "cell_type": "code",
   "execution_count": 7,
   "metadata": {},
   "outputs": [
    {
     "name": "stderr",
     "output_type": "stream",
     "text": [
      "/home/texuanw/softwares/anaconda3/lib/python3.6/site-packages/torch/nn/modules/rnn.py:54: UserWarning: dropout option adds dropout after all but last recurrent layer, so non-zero dropout expects num_layers greater than 1, but got dropout=0.5 and num_layers=1\n",
      "  \"num_layers={}\".format(dropout, num_layers))\n"
     ]
    }
   ],
   "source": [
    "model=RNN(d_x=1024,d_h=100,d_ent=d_ent,d_pos=d_pos,d_dep=d_dep,rnn_layers=1,ffn_layers=2)"
   ]
  },
  {
   "cell_type": "code",
   "execution_count": 8,
   "metadata": {},
   "outputs": [],
   "source": [
    "clf = Classifier(model=model,lr=1e-3)"
   ]
  },
  {
   "cell_type": "code",
   "execution_count": 9,
   "metadata": {},
   "outputs": [],
   "source": [
    "with open(join(OBJECTS_DIR, 'train_corpus.pkl'), 'rb') as pkl_f:\n",
    "    corpus = pickle.load(pkl_f)\n",
    "    \n",
    "with open(OBJECTS_DIR + 'train_corpus_labels.pkl','rb') as f:\n",
    "    labels = pickle.load(f)"
   ]
  },
  {
   "cell_type": "code",
   "execution_count": 10,
   "metadata": {
    "scrolled": false
   },
   "outputs": [],
   "source": [
    "writer = SummaryWriter(log_dir=LOG_DIR)\n",
    "train_size = 72\n",
    "\n",
    "text_files = list(corpus.keys())\n",
    "\n",
    "def read_emb_f(path2file):\n",
    "    with open(path2file + '.emb.pkl', 'rb') as emb_f:\n",
    "        embedding = pickle.load(emb_f)\n",
    "    return embedding\n",
    "\n",
    "pool = Pool(processes=24) \n",
    "emb_files = pool.map(read_emb_f, [PROCESSED_TRAIN_DATA_DIR + text_file for text_file in text_files])\n",
    "\n",
    "train_data = []\n",
    "for idx, title in enumerate(text_files[:train_size]):\n",
    "    train_data.append((emb_files[idx], labels[title]))\n",
    "\n",
    "valid_data = []\n",
    "for idx, title in enumerate(text_files[train_size:]):\n",
    "    valid_data.append((emb_files[idx+train_size], labels[title]))"
   ]
  },
  {
   "cell_type": "code",
   "execution_count": 11,
   "metadata": {},
   "outputs": [],
   "source": [
    "import pandas as pd\n",
    "import seaborn as sn\n",
    "from matplotlib import pyplot as plt\n",
    "from sklearn.metrics import confusion_matrix"
   ]
  },
  {
   "cell_type": "code",
   "execution_count": null,
   "metadata": {
    "scrolled": true
   },
   "outputs": [],
   "source": [
    "batch_size=32  # 64 got great performance\n",
    "\n",
    "for e in tqdm(range(20)):\n",
    "    np.random.shuffle(train_data)\n",
    "    for fi, f in enumerate(train_data):\n",
    "        \n",
    "        emb_corpus = f[0]\n",
    "        label = lmap(lambda x: np.array(x), f[1])\n",
    "        label = pad(label, dim=3)\n",
    "        dl = []\n",
    "        i = 0\n",
    "\n",
    "        while i < label.shape[0]:\n",
    "            if label.shape[0] == 0: break\n",
    "            x = emb_corpus['elmo_representations'][0][i:i + batch_size]\n",
    "            mask =  emb_corpus['mask'].type(torch.uint8)[i:i + batch_size]\n",
    "            y = label[i:i + batch_size]\n",
    "            l1,l2,l3,y1,y2,y3=clf.train(x,mask,y_ent=y[:,:,0],y_pos=y[:,:,1],y_dep=y[:,:,2])\n",
    "            i += batch_size\n",
    "            dl.append(l1+l2+l3)\n",
    "        writer.add_scalar('train loss',np.mean(dl),e*len(train_data)+fi)\n",
    "        #print(f'train epoch: {e}, doc: {fi}, loss: {np.mean(dl):.2f}')\n",
    "    # print('-'*18)\n",
    "\n",
    "    tall, pall = [], []\n",
    "    valid_labels = []\n",
    "    valid_result = []\n",
    "    for fi, f in enumerate(valid_data):\n",
    "        emb_corpus = f[0]\n",
    "        \n",
    "        label = lmap(lambda x: np.array(x), f[1])\n",
    "        valid_labels.append(label)\n",
    "        label = pad(label,dim=3)\n",
    "        \n",
    "        pent, ppos, pdep = [], [], []\n",
    "        tent, tpos, tdep = [], [], []\n",
    "        \n",
    "        dl = []\n",
    "        i=0\n",
    "        while i<label.shape[0]:\n",
    "            if label.shape[0]==0:break\n",
    "            x = emb_corpus['elmo_representations'][0][i:i+batch_size]\n",
    "            mask =  emb_corpus['mask'].type(torch.uint8)[i:i+batch_size]\n",
    "            y = label[i:i+batch_size]\n",
    "            l1,l2,l3,y1,y2,y3=clf.test(x,mask,y_ent=y[:,:,0],y_pos=y[:,:,1],y_dep=y[:,:,2])\n",
    "            i += batch_size\n",
    "            dl.append(l1+l2+l3)\n",
    "            pent.append(y1.flatten())\n",
    "            ppos.append(y2.flatten())\n",
    "            pdep.append(y3.flatten())\n",
    "            tent.append(y[:,:,0].flatten())\n",
    "            tpos.append(y[:,:,1].flatten())\n",
    "            tdep.append(y[:,:,2].flatten())\n",
    "        tent, pent = unpad(tent,pent)\n",
    "        tpos, ppos = unpad(tpos,ppos)\n",
    "        tdep, pdep = unpad(tdep,pdep)\n",
    "        \n",
    "        acc = accuracy_score(y_true=tent,y_pred=pent) + \\\n",
    "              accuracy_score(y_true=tpos,y_pred=ppos) + \\\n",
    "              accuracy_score(y_true=tdep,y_pred=pdep)\n",
    "        \n",
    "        # tent = (tent==ent['OBS']) * tent / ent['OBS']\n",
    "        # pent = (pent==ent['OBS']) * pent / ent['OBS']\n",
    "        \n",
    "        tall.extend(tent)\n",
    "        pall.extend(pent)\n",
    "        valid_result += list(pent)\n",
    "        lp = precision_score(y_true=tent, y_pred=pent, average=None)\n",
    "        lr = recall_score(y_true=tent, y_pred=pent, average=None)\n",
    "        lf1 = f1_score(y_true=tent, y_pred=pent, average=None)\n",
    "        \n",
    "        writer.add_scalar('test loss', np.mean(dl),e*len(valid_data)+fi)\n",
    "        writer.add_scalar('test acc', acc,e*len(valid_data)+fi)\n",
    "        writer.add_scalar('loc precision', np.mean(lp), e*len(valid_data)+fi)\n",
    "        writer.add_scalar('loc recall',np.mean(lr),e*len(valid_data)+fi)\n",
    "        writer.add_scalar('loc f1-score',np.mean(lf1),e*len(valid_data)+fi)\n",
    "        \n",
    "    print(f'test epoch: {e}, doc: {fi}, loss: {np.mean(dl)}, acc: {acc}')\n",
    "    print(\"precision:\", lp)\n",
    "    print(\"recall:\", lr)\n",
    "    print(\"f1-score:\", lf1)\n",
    "    print('-'*18)\n",
    "    \n",
    "np.save(OBJECTS_DIR+'ner_elmo_valid_result', valid_result)"
   ]
  },
  {
   "cell_type": "code",
   "execution_count": 13,
   "metadata": {},
   "outputs": [],
   "source": [
    "classes = list(ent)"
   ]
  },
  {
   "cell_type": "code",
   "execution_count": 14,
   "metadata": {},
   "outputs": [],
   "source": [
    "true_valid_labels = []\n",
    "for doc_labels in valid_labels:\n",
    "    for sent_labels in doc_labels:\n",
    "        for word_label in sent_labels:\n",
    "            true_valid_labels.append(word_label[0])"
   ]
  },
  {
   "cell_type": "code",
   "execution_count": 15,
   "metadata": {
    "scrolled": true
   },
   "outputs": [
    {
     "data": {
      "image/png": "[encoded data removed]",
      "text/plain": [
       "<Figure size 720x576 with 2 Axes>"
      ]
     },
     "metadata": {
      "needs_background": "light"
     },
     "output_type": "display_data"
    }
   ],
   "source": [
    "cm = confusion_matrix(y_true=true_valid_labels, y_pred=valid_result)\n",
    "cm = cm.astype('float') / cm.sum(axis=1)[:, np.newaxis]\n",
    "df_cm = pd.DataFrame(cm, index=classes[1:], columns=classes[1:])\n",
    "plt.figure(figsize=(10,8))\n",
    "ax = sn.heatmap(df_cm, annot=True, fmt='.2f',cmap=sn.color_palette(\"Blues\", n_colors=10))\n",
    "ax.set(ylabel='True label', xlabel='Predicted label')\n",
    "ax.xaxis.tick_top()"
   ]
  },
  {
   "cell_type": "code",
   "execution_count": 16,
   "metadata": {
    "scrolled": true
   },
   "outputs": [
    {
     "name": "stdout",
     "output_type": "stream",
     "text": [
      "[0.67058824 0.98040089 1.         0.83555556 0.78947368 0.67226891\n",
      " 0.88607595 0.64556962]\n",
      "[0.84444444 0.9724595  0.15384615 0.8209607  0.92307692 0.82474227\n",
      " 0.85365854 0.86440678]\n",
      "[0.74754098 0.97641405 0.26666667 0.82819383 0.85106383 0.74074074\n",
      " 0.86956522 0.73913043]\n"
     ]
    }
   ],
   "source": [
    "p = precision_score(y_true=true_valid_labels, y_pred=valid_result, average=None)\n",
    "r = recall_score(y_true=true_valid_labels, y_pred=valid_result, average=None)\n",
    "f1 = f1_score(y_true=true_valid_labels, y_pred=valid_result, average=None)\n",
    "print(p)\n",
    "print(r)\n",
    "print(f1)\n",
    "# print(f'precision: {p:.2f}, recall: {r:.2f}, f1-score: {f1:.2f}')"
   ]
  },
  {
   "cell_type": "code",
   "execution_count": 17,
   "metadata": {},
   "outputs": [
    {
     "data": {
      "text/plain": [
       "Counter({2: 6790, 6: 97, 4: 458, 5: 65, 1: 135, 7: 82, 3: 26, 8: 59})"
      ]
     },
     "execution_count": 17,
     "metadata": {},
     "output_type": "execute_result"
    }
   ],
   "source": [
    "from collections import Counter\n",
    "Counter(tall)"
   ]
  },
  {
   "cell_type": "code",
   "execution_count": 18,
   "metadata": {},
   "outputs": [
    {
     "data": {
      "text/plain": [
       "Counter({2: 6735, 6: 119, 4: 450, 5: 76, 1: 170, 7: 79, 8: 79, 3: 4})"
      ]
     },
     "execution_count": 18,
     "metadata": {},
     "output_type": "execute_result"
    }
   ],
   "source": [
    "Counter(pall)"
   ]
  },
  {
   "cell_type": "markdown",
   "metadata": {},
   "source": [
    "# Testing"
   ]
  },
  {
   "cell_type": "code",
   "execution_count": 19,
   "metadata": {},
   "outputs": [],
   "source": [
    "with open(join(OBJECTS_DIR, 'test_corpus.pkl'), 'rb') as pkl_f:\n",
    "    test_corpus = pickle.load(pkl_f)\n",
    "\n",
    "with open(OBJECTS_DIR + 'test_corpus_labels.pkl','rb') as f:\n",
    "    labels = pickle.load(f)\n",
    "\n",
    "test_text_files = list(test_corpus.keys())\n",
    "\n",
    "test_emb_files = pool.map(read_emb_f, [PROCESSED_TEST_DATA_DIR + text_file for text_file in test_text_files])\n",
    "\n",
    "test_data = []\n",
    "for idx, title in enumerate(test_text_files):\n",
    "    test_data.append((test_emb_files[idx], labels[title]))\n",
    "    "
   ]
  },
  {
   "cell_type": "code",
   "execution_count": null,
   "metadata": {},
   "outputs": [],
   "source": [
    "test_result = []\n",
    "print(\"Number of test files:\", len(test_data))\n",
    "\n",
    "for fi, f in enumerate(test_data):\n",
    "    emb_corpus = f[0]\n",
    "    label = lmap(lambda x: np.array(x), f[1])\n",
    "    pad_label = pad(label, dim=3)\n",
    "    \n",
    "    pent = []\n",
    "    ppos = []\n",
    "    pdep = []\n",
    "    \n",
    "    i=0\n",
    "    while i<pad_label.shape[0]:\n",
    "        if pad_label.shape[0]==0: break\n",
    "        x = emb_corpus['elmo_representations'][0][i:i+batch_size]\n",
    "        mask =  emb_corpus['mask'].type(torch.uint8)[i:i+batch_size]\n",
    "\n",
    "        y1,y2,y3=clf.inference(x,mask)\n",
    "        i+=batch_size\n",
    "        pent.append(y1.flatten())\n",
    "        ppos.append(y2.flatten())\n",
    "        pdep.append(y3.flatten())\n",
    "        \n",
    "    mask = emb_corpus['mask'].numpy().flatten()\n",
    "    pent = mask_unpad(mask,pent)\n",
    "    ppos = mask_unpad(mask,ppos)\n",
    "    pdep = mask_unpad(mask,pdep)\n",
    "    # pent = (pent==ent['OBS'])*pent/ent['OBS']\n",
    "    test_result += list(pent)\n",
    "    \n",
    "np.save(OBJECTS_DIR+'ner_elmo_test_result', test_result)"
   ]
  },
  {
   "cell_type": "code",
   "execution_count": null,
   "metadata": {
    "scrolled": true
   },
   "outputs": [],
   "source": [
    "def collect_ner_result(text_files, corpus, stage=\"valid\"):\n",
    "    i = 0\n",
    "    ner_result = {}\n",
    "    ner4subtask2 = {}\n",
    "\n",
    "    docs_pred_labels = np.load(OBJECTS_DIR + f'ner_elmo_{stage}_result.npy', allow_pickle=True)\n",
    "    for index, txt_file in enumerate(text_files):\n",
    "        fms, obs = set(), set() # a set for each txt_file\n",
    "        doc_ner = []\n",
    "        for sent in corpus[txt_file]:\n",
    "    #         sent_fms, sent_obs = [], [] # TODO \n",
    "            last_class, last_content = \"\", []\n",
    "            sent_ner = []\n",
    "\n",
    "            for tid, token in enumerate(sent):\n",
    "                if stage == \"valid\" and classes[docs_pred_labels[i]] != classes[true_valid_labels[i]]:\n",
    "                    print('\\t\\t'.join([token,\n",
    "                                       classes[docs_pred_labels[i]],\n",
    "                                       classes[true_valid_labels[i]]]))\n",
    "                pred_class = classes[docs_pred_labels[i]]\n",
    "                i += 1\n",
    "                if pred_class in [\"FM\", \"Paternal\", \"Maternal\"]:\n",
    "                    sent_ner.append(pred_class)\n",
    "                    if token.capitalize().rstrip('s') in [\"Father\", \"Mother\", \"Parent\",\n",
    "                        \"Sister\", \"Brother\", \"Daughter\", \"Son\", \"Child\", \"Grandmother\", \\\n",
    "                        \"Grandfather\", \"Grandparent\", \"Cousin\", \"Sibling\", \\\n",
    "                        \"Aunt\", \"Uncle\"]:\n",
    "\n",
    "                        if pred_class == 'FM':\n",
    "                            fms.add((\"FamilyMember\", token.capitalize().rstrip('s'), \"NA\"))\n",
    "                        else:\n",
    "                            fms.add((\"FamilyMember\", token.capitalize().rstrip('s'),\n",
    "                                     pred_class))\n",
    "                    elif token.lower() == 'dad':\n",
    "                        fms.add((\"FamilyMember\", \"Father\", \"NA\"))\n",
    "                    elif token.lower() == 'mom':\n",
    "                        fms.add((\"FamilyMember\", \"Mother\", \"NA\"))\n",
    "                    else:\n",
    "                        # print(\"ignore:\", token, pred_class)\n",
    "                        sent_ner[-1] = \"O\"\n",
    "                elif pred_class == last_class and pred_class == \"OBS\":\n",
    "                    last_content += [token]\n",
    "                    sent_ner.append(\"OBS\")\n",
    "                elif pred_class.startswith(\"LS\"):\n",
    "                    sent_ner.append(pred_class)\n",
    "                else:\n",
    "                    if last_class == 'OBS' and last_content:\n",
    "                        obs.add((\"Observation\", \" \".join(last_content)))\n",
    "\n",
    "                    if pred_class == \"OBS\":\n",
    "                        last_class, last_content = pred_class, [token]\n",
    "                        sent_ner.append(\"OBS\")\n",
    "                    else:\n",
    "                        last_class, last_content = \"\", []\n",
    "                        sent_ner.append(\"O\")\n",
    "            doc_ner.append(sent_ner)\n",
    "        ner4subtask2[txt_file] = doc_ner\n",
    "        ner_result[txt_file] = list(fms) + list(obs)\n",
    "    #     print(ner_result)\n",
    "    \n",
    "    with open(join(OBJECTS_DIR, f'subtask1_result_{stage}.tsv'), 'w') as f:\n",
    "        for txt_file, content in ner_result.items():\n",
    "            for items in content:\n",
    "                f.write(\"\\t\".join([txt_file] + list(items)))\n",
    "                f.write(\"\\n\")\n",
    "\n",
    "    return ner4subtask2\n",
    "\n",
    "test_ner4subtask2 = collect_ner_result(test_text_files, test_corpus, \"test\")\n",
    "valid_ner4subtask2 = collect_ner_result(text_files[train_size:], corpus,\"valid\")"
   ]
  },
  {
   "cell_type": "markdown",
   "metadata": {},
   "source": [
    "# Generating training data for subtask2"
   ]
  },
  {
   "cell_type": "code",
   "execution_count": 22,
   "metadata": {},
   "outputs": [],
   "source": [
    "def get_entity_content(sent, tagged_sents, tag):\n",
    "    \"\"\" return a list of named entities from continues words in sent with tag `tag`\n",
    "    \"\"\"\n",
    "    named_entity, last_tag = [], \"\"\n",
    "    ret = []\n",
    "    for word, cur_tag in zip(sent, tagged_sents):\n",
    "        if cur_tag == last_tag and cur_tag == tag:\n",
    "            named_entity.append(word)\n",
    "        elif cur_tag != last_tag:\n",
    "            if named_entity:\n",
    "                ret.append(\" \".join(named_entity))\n",
    "\n",
    "            if cur_tag == tag:\n",
    "                last_tag, named_entity = tag, [word]\n",
    "            else:\n",
    "                last_tag, named_entity = \"\", []\n",
    "            \n",
    "    return ret"
   ]
  },
  {
   "cell_type": "code",
   "execution_count": 23,
   "metadata": {},
   "outputs": [],
   "source": [
    "def replace_named_entity(sent, sent_id, tagged_sent, tag, replacement):\n",
    "    replaced_sents = []\n",
    "    \n",
    "    if tag in tagged_sent:\n",
    "        entities = get_entity_content(sent, tagged_sent, tag)\n",
    "        \n",
    "        for entity in entities:\n",
    "            replaced_sent = \" \".join(sent).replace(entity, '@'+replacement+'$')\n",
    "            if tag.startswith(\"LS-\"):\n",
    "                info4subtask2 = tag\n",
    "            else:\n",
    "                info4subtask2 = entity\n",
    "            replaced_sents.append((sent_id, replaced_sent, info4subtask2, replacement))\n",
    "\n",
    "    return replaced_sents"
   ]
  },
  {
   "cell_type": "code",
   "execution_count": 24,
   "metadata": {},
   "outputs": [],
   "source": [
    "def combine_training_instance(doc, fms_sents, obs_sents, ls_sents, sents):\n",
    "    instances = []\n",
    "    for fm_sent_id, fm_sent, fm, fm_replacement in fms_sents:\n",
    "        \n",
    "        # Generate instances for relation prediction, each instances has two masked entities\n",
    "        # one familymember and one observation or livingstatus\n",
    "        for snd_sents in [obs_sents, ls_sents]:\n",
    "            for ent_sent_id, ent_sent, ent, ent_replacement in snd_sents:\n",
    "                to_predict = False\n",
    "                if fm_sent_id == ent_sent_id:\n",
    "                    to_predict = True\n",
    "                    instance_id = \"_\".join([doc, str(fm_sent_id)])\n",
    "                    instance_sent = fm_sent.replace(ent, \"@\"+ent_replacement+\"$\")\n",
    "                elif 0 < ent_sent_id - fm_sent_id < 3:\n",
    "                    to_predict = True\n",
    "                    middle_sents = []\n",
    "                    for sent in sents[fm_sent_id+1:ent_sent_id]:\n",
    "                        middle_sents.append(\" \".join(sent))\n",
    "\n",
    "                    instance_sent = \" \".join([fm_sent] + middle_sents + [ent_sent])\n",
    "                    instance_id = \"_\".join([doc, str(fm_sent_id), str(ent_sent_id)])\n",
    "                    \n",
    "                if to_predict:\n",
    "                    instance = (instance_id, instance_sent, \"OTHERS\", fm, ent)\n",
    "                    instances.append(instance)\n",
    "\n",
    "    return instances"
   ]
  },
  {
   "cell_type": "code",
   "execution_count": null,
   "metadata": {
    "scrolled": true
   },
   "outputs": [],
   "source": [
    "tag_replacement_map = {\n",
    "    'FM': 'Relative', 'Paternal': 'PaternalRelative', 'Maternal': 'MaternalRelative',\n",
    "    'LS-0': 'Status', 'LS-2': 'Status', 'LS-4': 'Status',\n",
    "    'OBS': 'Disease',\n",
    "}\n",
    "\n",
    "def generate_subtask2_data(ner4subtask2, corpus):\n",
    "    sub2_training_data = [] # store final training instances\n",
    "\n",
    "    for txt_file, tagged_sents in ner4subtask2.items():\n",
    "        # sents with fms and obs, with format (sent_id, sent_content)\n",
    "        fms_sents, obs_sents, ls_sents = [], [], []\n",
    "\n",
    "        for i, sent in enumerate(corpus[txt_file]):\n",
    "            assert(len(sent) == len(tagged_sents[i]))\n",
    "            print(tagged_sents[i])\n",
    "\n",
    "            for tag, replacement in tag_replacement_map.items():\n",
    "                replaced_sents = replace_named_entity(sent, i, tagged_sents[i],\n",
    "                                                      tag, replacement)\n",
    "                if tag in ['FM', 'Paternal', 'Maternal']:\n",
    "                    fms_sents += replaced_sents\n",
    "                elif tag == 'OBS':\n",
    "                    obs_sents += replaced_sents\n",
    "                elif tag.startswith('LS'):\n",
    "                    ls_sents += replaced_sents\n",
    "            # print(fms_sents)\n",
    "            # print(obs_sents)\n",
    "            # print(ls_sents)\n",
    "\n",
    "        sub2_training_data += combine_training_instance(txt_file, fms_sents, obs_sents,\n",
    "                                                        ls_sents, corpus[txt_file])\n",
    "    return sub2_training_data\n",
    "\n",
    "sub2_training_data_from_valid = generate_subtask2_data(valid_ner4subtask2, corpus)"
   ]
  },
  {
   "cell_type": "code",
   "execution_count": null,
   "metadata": {},
   "outputs": [],
   "source": [
    "sub2_training_data_from_test = generate_subtask2_data(test_ner4subtask2, test_corpus)"
   ]
  },
  {
   "cell_type": "code",
   "execution_count": null,
   "metadata": {
    "scrolled": true
   },
   "outputs": [],
   "source": [
    "sub2_training_data_from_valid"
   ]
  },
  {
   "cell_type": "code",
   "execution_count": null,
   "metadata": {},
   "outputs": [],
   "source": [
    "sub2_training_data_from_test"
   ]
  },
  {
   "cell_type": "code",
   "execution_count": 29,
   "metadata": {},
   "outputs": [],
   "source": [
    "def write_instances(path, file_name, sub2_training_data):\n",
    "    with open(join(\"../Data/\", file_name), 'w') as s2test:\n",
    "        for instance in sub2_training_data:\n",
    "            s2test.write(\"\\t\".join(list(instance)))\n",
    "            s2test.write(\"\\n\")\n",
    "write_instances(\"../Data/\", \"subtask2_data_from_valid.txt\", sub2_training_data_from_valid)\n",
    "write_instances(\"../Data/\", \"subtask2_data_from_test.txt\", sub2_training_data_from_test)"
   ]
  },
  {
   "cell_type": "code",
   "execution_count": null,
   "metadata": {},
   "outputs": [],
   "source": []
  }
 ],
 "metadata": {
  "kernelspec": {
   "display_name": "Python 3",
   "language": "python",
   "name": "python3"
  },
  "language_info": {
   "codemirror_mode": {
    "name": "ipython",
    "version": 3
   },
   "file_extension": ".py",
   "mimetype": "text/x-python",
   "name": "python",
   "nbconvert_exporter": "python",
   "pygments_lexer": "ipython3",
   "version": "3.6.8"
  }
 },
 "nbformat": 4,
 "nbformat_minor": 2
}
