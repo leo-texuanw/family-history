{
 "cells": [
  {
   "cell_type": "code",
   "execution_count": 1,
   "metadata": {},
   "outputs": [],
   "source": [
    "import pickle as pkl\n",
    "from os.path import join\n",
    "\n",
    "DIR_OBJECTS = '../../objects'"
   ]
  },
  {
   "cell_type": "code",
   "execution_count": 2,
   "metadata": {},
   "outputs": [],
   "source": [
    "with open(join(DIR_OBJECTS, 'texts.pkl'), 'rb') as pkl_f:\n",
    "    texts = pkl.load(pkl_f)\n",
    "with open(join(DIR_OBJECTS, 'sents.pkl'), 'rb') as pkl_f:\n",
    "    sents = pkl.load(pkl_f)\n",
    "with open(join(DIR_OBJECTS, 'entities_corrected.pkl'), 'rb') as pkl_f:\n",
    "    entities = pkl.load(pkl_f)"
   ]
  },
  {
   "cell_type": "markdown",
   "metadata": {},
   "source": [
    "# Generate PubTator file"
   ]
  },
  {
   "cell_type": "code",
   "execution_count": 3,
   "metadata": {},
   "outputs": [],
   "source": [
    "with open('fh_files.PubTator', 'w') as f:\n",
    "    for file_name, text in texts.items():\n",
    "        file_num = file_name.split('_')[1]\n",
    "        file_title = sents[file_name][0]\n",
    "        f.write('{}|t|{}\\n'.format(file_num, file_title))\n",
    "        f.write('{}|a|{}\\n'.format(file_num, text[len(file_title)+1:]))\n",
    "        for entity in entities[file_name]:\n",
    "            # entity: (start, end, entity_type, entity_content)\n",
    "            f.write('{}\\t{}\\t{}\\t{}\\t{}\\n'.format(file_num, entity[0], entity[1], entity[3], entity[2]))\n",
    "        f.write('\\n')"
   ]
  },
  {
   "cell_type": "markdown",
   "metadata": {},
   "source": [
    "# Separate traning/evaluation/test set"
   ]
  },
  {
   "cell_type": "code",
   "execution_count": 4,
   "metadata": {},
   "outputs": [],
   "source": [
    "import numpy as np\n",
    "\n",
    "train_set = []\n",
    "handout_set = []\n",
    "test_set = []\n",
    "for file_name, _ in texts.items():\n",
    "    file_id = file_name.split('_')[1]\n",
    "    if file_id in ['118']:\n",
    "        continue\n",
    "    rand = np.random.rand()\n",
    "    if rand < 0.7:\n",
    "        train_set.append(file_id)\n",
    "    elif rand < 0.85:\n",
    "        handout_set.append(file_id)\n",
    "    else:\n",
    "        test_set.append(file_id)"
   ]
  },
  {
   "cell_type": "code",
   "execution_count": 5,
   "metadata": {},
   "outputs": [
    {
     "name": "stdout",
     "output_type": "stream",
     "text": [
      "71\n",
      "['167', '145', '4', '86', '34', '29', '139', '16', '124', '92', '80', '154', '21', '42', '93', '79', '158', '91', '43', '49', '24', '41', '36', '18', '176', '2', '23', '57', '9', '85', '157', '161', '164', '115', '59', '138', '6', '97', '17', '111', '101', '136', '132', '58', '31', '126', '67', '166', '14', '35', '177', '94', '76', '155', '53', '95', '52', '142', '148', '56', '62', '37', '44', '19', '147', '173', '26', '28', '7', '105', '152']\n"
     ]
    }
   ],
   "source": [
    "print(len(train_set))\n",
    "print(train_set)\n",
    "with open('train_set.txt', 'w') as f:\n",
    "    for fid in train_set:\n",
    "        f.write('{}\\n'.format(fid))"
   ]
  },
  {
   "cell_type": "code",
   "execution_count": 6,
   "metadata": {},
   "outputs": [
    {
     "name": "stdout",
     "output_type": "stream",
     "text": [
      "11\n",
      "['104', '170', '130', '50', '60', '11', '156', '12', '169', '121', '13']\n"
     ]
    }
   ],
   "source": [
    "print(len(handout_set))\n",
    "print(handout_set)\n",
    "with open('handout_set.txt', 'w') as f:\n",
    "    for fid in handout_set:\n",
    "        f.write('{}\\n'.format(fid))"
   ]
  },
  {
   "cell_type": "code",
   "execution_count": 7,
   "metadata": {},
   "outputs": [
    {
     "name": "stdout",
     "output_type": "stream",
     "text": [
      "16\n",
      "['143', '150', '66', '74', '178', '54', '140', '162', '1', '40', '10', '81', '174', '160', '117', '123']\n"
     ]
    }
   ],
   "source": [
    "print(len(test_set))\n",
    "print(test_set)\n",
    "with open('test_set.txt', 'w') as f:\n",
    "    for fid in test_set:\n",
    "        f.write('{}\\n'.format(fid))"
   ]
  }
 ],
 "metadata": {
  "kernelspec": {
   "display_name": "Python 3",
   "language": "python",
   "name": "python3"
  },
  "language_info": {
   "codemirror_mode": {
    "name": "ipython",
    "version": 3
   },
   "file_extension": ".py",
   "mimetype": "text/x-python",
   "name": "python",
   "nbconvert_exporter": "python",
   "pygments_lexer": "ipython3",
   "version": "3.6.4"
  }
 },
 "nbformat": 4,
 "nbformat_minor": 2
}
