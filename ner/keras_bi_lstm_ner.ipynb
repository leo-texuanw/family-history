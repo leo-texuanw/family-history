{
 "cells": [
  {
   "cell_type": "markdown",
   "metadata": {},
   "source": [
    "**Note:** the recommended standard workflow is\n",
    "\n",
    "- shuffle\n",
    "- repeat (repeat after shuffle so that one epoch = all the examples)\n",
    "- map, using the num_parallel_calls argument to get multithreading for free.\n",
    "- batch or padded_batch\n",
    "- prefetch (will prefetch data on the GPU so that it doesn't suffer from any data starvation – and only use 80% of your expensive GPU).\n"
   ]
  },
  {
   "cell_type": "markdown",
   "metadata": {},
   "source": [
    "# keras\n",
    "https://medium.com/southpigalle/simple-relation-extraction-with-a-bi-lstm-model-part-1-682b670d5e11\n",
    "\n",
    "Input: \n",
    "https://www.kaggle.com/snlpnkj/bidirectional-lstm-keras !!!"
   ]
  },
  {
   "cell_type": "markdown",
   "metadata": {},
   "source": [
    "# TODO\n",
    "- test"
   ]
  },
  {
   "cell_type": "code",
   "execution_count": 1,
   "metadata": {},
   "outputs": [],
   "source": [
    "import sys\n",
    "import json\n",
    "from datetime import datetime\n",
    "from pathlib import Path\n",
    "import numpy as np\n",
    "import pandas as pd\n",
    "import seaborn as sn\n",
    "import pickle as pkl\n",
    "import matplotlib.pyplot as plt\n",
    "\n",
    "import tensorflow as tf\n",
    "from tensorflow.keras import layers\n",
    "from tensorflow.keras.preprocessing.text import Tokenizer\n",
    "from tensorflow.keras.preprocessing.sequence import pad_sequences\n",
    "from tensorflow.keras.models import Sequential\n",
    "from tensorflow.keras.layers import Dense, Dropout, Embedding\n",
    "from tensorflow.keras.layers import LSTM, Bidirectional, TimeDistributed\n",
    "from tensorflow.keras.utils import to_categorical\n",
    "# from keras_contrib.layers import CRF\n",
    "from tensorflow.contrib.crf import crf_decode\n",
    "\n",
    "DATA_DIR = \"../Data/4ner/\"\n",
    "OBJECTS_DIR = '../objects/'\n",
    "PROCESSED_TRAIN_DATA_DIR = '../Data/processed/'\n",
    "PROCESSED_TEST_DATA_DIR = '../Data/processed_test_data/'\n",
    "LOG_DIR  = '../log/bioc_FH_training/'"
   ]
  },
  {
   "cell_type": "code",
   "execution_count": 2,
   "metadata": {},
   "outputs": [],
   "source": [
    "now = datetime.now()\n",
    "RESULT_DIR = Path('results/') / now.strftime(\"%m%d_%H%M%S\")\n",
    "RESULT_DIR.mkdir(exist_ok=True)"
   ]
  },
  {
   "cell_type": "code",
   "execution_count": 3,
   "metadata": {},
   "outputs": [],
   "source": [
    "params = {\n",
    "    'max_features': 25000,  # how many unique words to use\n",
    "    'maxlen': 90,           # max num of words in one training record\n",
    "    'embedding_size': 100,\n",
    "    'lstm_size': 128,\n",
    "    'dropout': 0.5,\n",
    "    'recurrent_dropout': 0.5,\n",
    "    'bi_lstm': True,\n",
    "    'crf': False, # TODO: doesn't work\n",
    "    'batch_size': 32,\n",
    "    'epochs': 14,\n",
    "}\n",
    "\n",
    "with (RESULT_DIR/'params.json').open('w') as f:\n",
    "    json.dump(params, f, indent=4, sort_keys=True)"
   ]
  },
  {
   "cell_type": "code",
   "execution_count": 4,
   "metadata": {
    "scrolled": false
   },
   "outputs": [],
   "source": [
    "def load_ner_data(path, mode, skip=2):\n",
    "    \"\"\" Load training data and tags for NER\n",
    "    Params:\n",
    "        skip == 2: ignore training instance's index and file_name\n",
    "    \"\"\"\n",
    "    \n",
    "    words = Path(path) / f\"{mode}.words.txt\"\n",
    "    tags = Path(path) / f\"{mode}.tags.txt\"\n",
    "    \n",
    "    with Path(words).open('r') as f_words, Path(tags).open('r') as f_tags:\n",
    "        X, y = [], []\n",
    "        for line_words, line_tags in zip(f_words, f_tags):\n",
    "            line_words = line_words.strip().split()\n",
    "            line_tags = line_tags.strip().split()\n",
    "            if skip == 2:\n",
    "                assert len(line_words) == len(line_tags)\n",
    "            X.append(line_words[skip:])\n",
    "            y.append(line_tags[skip:])\n",
    "    return X, y\n",
    "\n",
    "X_ner_train, y_ner_train = load_ner_data(DATA_DIR, 'train_doc')\n",
    "X_ner_valid, y_ner_valid = load_ner_data(DATA_DIR, 'valid_doc')"
   ]
  },
  {
   "cell_type": "code",
   "execution_count": 5,
   "metadata": {},
   "outputs": [],
   "source": [
    "## elmo embedding\n",
    "# with open(join(PROCESSED_DIR, 'doc_156.emb.pkl'),'rb') as f:\n",
    "#     doc = pkl.load(f)"
   ]
  },
  {
   "cell_type": "code",
   "execution_count": 6,
   "metadata": {},
   "outputs": [
    {
     "name": "stdout",
     "output_type": "stream",
     "text": [
      "{'<PAD>': 0, 'FM': 1, 'LS-0': 2, 'LS-2': 3, 'LS-4': 4, 'Maternal': 5, 'O': 6, 'OBS': 7, 'Paternal': 8}\n",
      "4173\n"
     ]
    }
   ],
   "source": [
    "def load_vocab_dict(path, ftype):\n",
    "    file = Path(path) / f\"vocab.{ftype}.txt\"\n",
    "    vdict = {\"<PAD>\": 0}\n",
    "    \n",
    "    with file.open() as f:\n",
    "        for idx, line in enumerate(f):\n",
    "            content = line.strip()\n",
    "            vdict[content] = idx + 1\n",
    "\n",
    "    return vdict\n",
    "\n",
    "tags_dict = load_vocab_dict(DATA_DIR, \"tags\")\n",
    "print(tags_dict)\n",
    "words_index = load_vocab_dict(DATA_DIR, \"words\")\n",
    "print(len(words_index))"
   ]
  },
  {
   "cell_type": "code",
   "execution_count": 7,
   "metadata": {},
   "outputs": [],
   "source": [
    "def sent2seq(words_index, X, tags_dict, y):\n",
    "    \"\"\" Convert sentences to a sequence of indicies in word_index, and\n",
    "        convert tags to its index in tags_dict\n",
    "    \"\"\"\n",
    "    \n",
    "    X_seq, y_seq = [], []\n",
    "    for sent, tags in zip(X, y):\n",
    "        sent_seq, tags_seq = [], []\n",
    "\n",
    "        for word, tag in zip(sent, tags):\n",
    "            if word.strip():     # skip ' '\n",
    "                sent_seq.append(words_index[word])\n",
    "                tags_seq.append(tags_dict[tag])\n",
    "                \n",
    "        assert len(sent_seq) == len(tags_seq)\n",
    "        \n",
    "        X_seq.append(sent_seq)\n",
    "        y_seq.append(np.expand_dims(tags_seq, axis=1))\n",
    "    return X_seq, y_seq"
   ]
  },
  {
   "cell_type": "code",
   "execution_count": 8,
   "metadata": {},
   "outputs": [
    {
     "name": "stdout",
     "output_type": "stream",
     "text": [
      "Train: avg length: 14.5722049689441 \n",
      "max: 63\n",
      "Valid: avg length: 15.791044776119403 \n",
      "max: 54\n"
     ]
    }
   ],
   "source": [
    "X_train_seq, y_train_seq = sent2seq(words_index, X_ner_train, tags_dict, y_ner_train)\n",
    "X_valid_seq, y_valid_seq = sent2seq(words_index, X_ner_valid, tags_dict, y_ner_valid)\n",
    "X_train_seq_len = [len(seq) for seq in X_train_seq]\n",
    "X_valid_seq_len = [len(seq) for seq in X_valid_seq]\n",
    "\n",
    "len_X_train = list(map(len, X_train_seq))\n",
    "len_X_valid = list(map(len, X_valid_seq))\n",
    "print(\"Train: avg length:\", np.mean(len_X_train), \"\\nmax:\", np.max(len_X_train))\n",
    "print(\"Valid: avg length:\", np.mean(len_X_valid), \"\\nmax:\", np.max(len_X_valid))\n",
    "\n",
    "X_train = pad_sequences(X_train_seq, maxlen=params['maxlen'], padding='post')\n",
    "X_valid = pad_sequences(X_valid_seq, maxlen=params['maxlen'], padding='post')\n",
    "y_train = pad_sequences(y_train_seq, maxlen=params['maxlen'], padding='post')\n",
    "y_valid = pad_sequences(y_valid_seq, maxlen=params['maxlen'], padding='post')"
   ]
  },
  {
   "cell_type": "code",
   "execution_count": 9,
   "metadata": {},
   "outputs": [
    {
     "name": "stdout",
     "output_type": "stream",
     "text": [
      "x_train shape: (1288, 90)\n",
      "y_train shape: (1288, 90, 1)\n",
      "X_valid shape: (469, 90)\n",
      "y_valid shape: (469, 90, 1)\n"
     ]
    }
   ],
   "source": [
    "print(\"x_train shape:\", X_train.shape)\n",
    "print(\"y_train shape:\", y_train.shape)\n",
    "print(\"X_valid shape:\", X_valid.shape)\n",
    "print(\"y_valid shape:\", y_valid.shape)\n",
    "# print(X_train[0])\n",
    "# print(y_train[0])"
   ]
  },
  {
   "cell_type": "code",
   "execution_count": 10,
   "metadata": {},
   "outputs": [],
   "source": [
    "EMBEDDING_FILE = Path.home() / f\"tools/glove/glove.6B.{params['embedding_size']}d.txt\""
   ]
  },
  {
   "cell_type": "code",
   "execution_count": 11,
   "metadata": {
    "scrolled": true
   },
   "outputs": [],
   "source": [
    "def get_coefs(word, *arr):\n",
    "    return word, np.asarray(arr, dtype='float32')\n",
    "\n",
    "embeddings_index = dict(get_coefs(*o.strip().split()) for o in open(EMBEDDING_FILE))"
   ]
  },
  {
   "cell_type": "code",
   "execution_count": 12,
   "metadata": {
    "scrolled": true
   },
   "outputs": [
    {
     "name": "stderr",
     "output_type": "stream",
     "text": [
      "/home/texuanw/softwares/anaconda3/lib/python3.6/site-packages/ipykernel_launcher.py:1: FutureWarning: arrays to stack must be passed as a \"sequence\" type such as list or tuple. Support for non-sequence iterables such as generators is deprecated as of NumPy 1.16 and will raise an error in the future.\n",
      "  \"\"\"Entry point for launching an IPython kernel.\n"
     ]
    }
   ],
   "source": [
    "all_embs = np.stack(embeddings_index.values())\n",
    "emb_mean, emb_std = all_embs.mean(), all_embs.std()\n",
    "\n",
    "embedding_matrix = np.random.normal(emb_mean, emb_std,\n",
    "                                    (params['max_features'], params['embedding_size']))\n",
    "for word, i in words_index.items():\n",
    "    if i >= params['max_features']: continue\n",
    "    embedding_vector = embeddings_index.get(word)\n",
    "    if embedding_vector is not None:\n",
    "        embedding_matrix[i] = embedding_vector"
   ]
  },
  {
   "cell_type": "code",
   "execution_count": 13,
   "metadata": {
    "scrolled": true
   },
   "outputs": [
    {
     "name": "stderr",
     "output_type": "stream",
     "text": [
      "WARNING: Logging before flag parsing goes to stderr.\n",
      "W1022 22:47:04.137967 140119862019840 deprecation.py:506] From /home/texuanw/softwares/anaconda3/lib/python3.6/site-packages/tensorflow_core/python/keras/initializers.py:119: calling RandomUniform.__init__ (from tensorflow.python.ops.init_ops) with dtype is deprecated and will be removed in a future version.\n",
      "Instructions for updating:\n",
      "Call initializer instance with the dtype argument instead of passing it to the constructor\n",
      "W1022 22:47:04.161598 140119862019840 deprecation.py:506] From /home/texuanw/softwares/anaconda3/lib/python3.6/site-packages/tensorflow_core/python/ops/resource_variable_ops.py:1633: calling BaseResourceVariable.__init__ (from tensorflow.python.ops.resource_variable_ops) with constraint is deprecated and will be removed in a future version.\n",
      "Instructions for updating:\n",
      "If using Keras pass *_constraint arguments to layers.\n",
      "W1022 22:47:04.301031 140119862019840 deprecation.py:506] From /home/texuanw/softwares/anaconda3/lib/python3.6/site-packages/tensorflow_core/python/ops/init_ops.py:97: calling GlorotUniform.__init__ (from tensorflow.python.ops.init_ops) with dtype is deprecated and will be removed in a future version.\n",
      "Instructions for updating:\n",
      "Call initializer instance with the dtype argument instead of passing it to the constructor\n",
      "W1022 22:47:04.302373 140119862019840 deprecation.py:506] From /home/texuanw/softwares/anaconda3/lib/python3.6/site-packages/tensorflow_core/python/ops/init_ops.py:97: calling Orthogonal.__init__ (from tensorflow.python.ops.init_ops) with dtype is deprecated and will be removed in a future version.\n",
      "Instructions for updating:\n",
      "Call initializer instance with the dtype argument instead of passing it to the constructor\n",
      "W1022 22:47:04.303330 140119862019840 deprecation.py:506] From /home/texuanw/softwares/anaconda3/lib/python3.6/site-packages/tensorflow_core/python/ops/init_ops.py:97: calling Zeros.__init__ (from tensorflow.python.ops.init_ops) with dtype is deprecated and will be removed in a future version.\n",
      "Instructions for updating:\n",
      "Call initializer instance with the dtype argument instead of passing it to the constructor\n",
      "W1022 22:47:04.788843 140119862019840 deprecation.py:323] From /home/texuanw/softwares/anaconda3/lib/python3.6/site-packages/tensorflow_core/python/keras/backend.py:3855: where (from tensorflow.python.ops.array_ops) is deprecated and will be removed in a future version.\n",
      "Instructions for updating:\n",
      "Use tf.where in 2.0, which has the same broadcast rule as np.where\n"
     ]
    },
    {
     "name": "stdout",
     "output_type": "stream",
     "text": [
      "Model: \"sequential\"\n",
      "_________________________________________________________________\n",
      "Layer (type)                 Output Shape              Param #   \n",
      "=================================================================\n",
      "embedding (Embedding)        (None, 90, 100)           2500000   \n",
      "_________________________________________________________________\n",
      "bidirectional (Bidirectional (None, 90, 256)           234496    \n",
      "_________________________________________________________________\n",
      "dense (Dense)                (None, 90, 9)             2313      \n",
      "=================================================================\n",
      "Total params: 2,736,809\n",
      "Trainable params: 2,736,809\n",
      "Non-trainable params: 0\n",
      "_________________________________________________________________\n",
      "None\n"
     ]
    }
   ],
   "source": [
    "embedding = Embedding(params['max_features'],\n",
    "                      params['embedding_size'],\n",
    "                      input_length=params['maxlen'],\n",
    "                      mask_zero=True)\n",
    "\n",
    "class MyCRF(layers.Layer):\n",
    "    def __init__(self, n_tags):\n",
    "        super(MyCRF, self).__init__()\n",
    "        self.crf = CRF(n_tags) # ,sparse_target=False\n",
    "        #self.output_masks = self.crf.output_masks\n",
    "\n",
    "    def compute_mask(self, inputs, mask=None):\n",
    "        # Just pass the received mask from previous layer, to the next layer or \n",
    "        # manipulate it if this layer changes the shape of the input\n",
    "        return mask\n",
    "    \n",
    "    def call(self, inputs, mask=None):\n",
    "        return self.crf(inputs)\n",
    "\n",
    "def model_LSTM(embedding, out_dim, activation='softmax'):\n",
    "    model = Sequential()\n",
    "    # modify as elmo embedding layer,\n",
    "    # with shape (batch_size, seq_len, dim)\n",
    "    model.add(embedding)\n",
    "    lstm = LSTM(params['lstm_size'], return_sequences=True,\n",
    "                input_shape=(params['maxlen'], params['embedding_size']),\n",
    "                dropout=params['dropout'], recurrent_dropout=params['recurrent_dropout'])\n",
    "    if params['bi_lstm']:\n",
    "        lstm = Bidirectional(lstm)\n",
    "    model.add(lstm)\n",
    "    \n",
    "    if params['crf']:\n",
    "        # CRF\n",
    "        model.add(TimeDistributed(Dense(out_dim, activation=\"relu\")))  # a dense layer as suggested by neuralNer\n",
    "        crf_layer = MyCRF(len(tags_dict))\n",
    "        model.add(crf_layer)\n",
    "        model.compile(optimizer='Rmsprop', #  opt for RNN model  # 'adam',\n",
    "                      loss=crf_layer.crf.loss_function,\n",
    "                      metrics=[crf_layer.crf.accuracy])\n",
    "    else:\n",
    "        model.add(Dense(out_dim, activation=activation))\n",
    "        model.compile(optimizer='Rmsprop', #  opt for RNN model  # 'adam',\n",
    "                      loss='sparse_categorical_crossentropy',\n",
    "                      metrics=['acc'])\n",
    "    print(model.summary())\n",
    "    return model\n",
    "\n",
    "\n",
    "model = model_LSTM(embedding, len(tags_dict))"
   ]
  },
  {
   "cell_type": "code",
   "execution_count": null,
   "metadata": {
    "scrolled": false
   },
   "outputs": [],
   "source": [
    "print('Training...')\n",
    "history = model.fit(X_train, y_train,\n",
    "                    batch_size=params['batch_size'],\n",
    "                    epochs=params['epochs'],\n",
    "                    shuffle=True,\n",
    "                    validation_data=[X_valid, y_valid])"
   ]
  },
  {
   "cell_type": "markdown",
   "metadata": {},
   "source": [
    "# Visulizing results of the training"
   ]
  },
  {
   "cell_type": "code",
   "execution_count": 15,
   "metadata": {
    "scrolled": false
   },
   "outputs": [
    {
     "data": {
      "image/png": "[encoded data removed]",
      "text/plain": [
       "<Figure size 576x576 with 2 Axes>"
      ]
     },
     "metadata": {
      "needs_background": "light"
     },
     "output_type": "display_data"
    }
   ],
   "source": [
    "acc = history.history['acc']\n",
    "val_acc = history.history['val_acc']\n",
    "\n",
    "loss = history.history['loss']\n",
    "val_loss = history.history['val_loss']\n",
    "\n",
    "epochs_range = range(params['epochs'])\n",
    "\n",
    "plt.figure(figsize=(8,8))\n",
    "plt.subplot(1,2,1)\n",
    "plt.plot(epochs_range, acc, label='Training Accuracy')\n",
    "plt.plot(epochs_range, val_acc, label='Validation Accuracy')\n",
    "plt.legend(loc='lower right')\n",
    "plt.title('Training and Validation Accuracy')\n",
    "\n",
    "plt.subplot(1,2,2)\n",
    "plt.plot(epochs_range, loss, label='Training Loss')\n",
    "plt.plot(epochs_range, val_loss, label='Validation Loss')\n",
    "plt.legend(loc='upper right')\n",
    "plt.title('Training and Validation Loss')\n",
    "\n",
    "# plt.savefig('./acc-loss.png')\n",
    "plt.show()"
   ]
  },
  {
   "cell_type": "code",
   "execution_count": null,
   "metadata": {
    "scrolled": false
   },
   "outputs": [],
   "source": [
    "from sklearn.metrics import confusion_matrix, classification_report\n",
    "# # prediction_probas = model.predict(X_valid) \n",
    "\n",
    "num2tag = {v:k for k, v in tags_dict.items()}\n",
    "\n",
    "predictions = model.predict(X_valid)\n",
    "predictions = [[np.argmax(word_pred) for word_pred in sent_pred] for sent_pred in predictions]\n",
    "\n",
    "def mask(X, y, preds):\n",
    "    for idx, instance in enumerate(X):\n",
    "        assert len(X[idx]) == len(y[idx]), f\"at idx {idx}\"\n",
    "        preds[idx] = preds[idx][:len(instance)]\n",
    "        \n",
    "    return preds\n",
    "predictions = mask(X_valid_seq, y_valid_seq, predictions)\n",
    "    \n",
    "line, total, wrong = 0, 0, 0\n",
    "print(\"word\\t\\tTrue\\t\\tPredicted\")\n",
    "for preds, seq in zip(predictions, y_valid_seq):\n",
    "    seq = np.squeeze(seq, axis=1).tolist()\n",
    "    \n",
    "    for idx, (pred, label) in enumerate(zip(preds, seq)):\n",
    "        if pred != label:\n",
    "            wrong += 1\n",
    "            print(f\"{X_ner_valid[line][idx]}\\t\\t{y_ner_valid[line][idx]}\\t\\t{num2tag[pred]}\")\n",
    "    line += 1\n",
    "    total += idx + 1\n",
    "print(wrong, \"wrong out of\", total)"
   ]
  },
  {
   "cell_type": "code",
   "execution_count": 17,
   "metadata": {
    "scrolled": false
   },
   "outputs": [
    {
     "name": "stdout",
     "output_type": "stream",
     "text": [
      "[[ 107    0    0    1    4   21    2    0]\n",
      " [   0   62    0    0    0    3    0    0]\n",
      " [   0    1    2   18    0    4    0    1]\n",
      " [   0    0    0   53    0    5    1    0]\n",
      " [  10    0    0    0   43    5    0    3]\n",
      " [  87   19    0   23   14 6310   84   19]\n",
      " [   1    0    0    0    0  103  354    0]\n",
      " [   4    0    0    0    0    5    0   37]]\n",
      "              precision    recall  f1-score   support\n",
      "\n",
      "           1      0.512     0.793     0.622       135\n",
      "           2      0.756     0.954     0.844        65\n",
      "           3      1.000     0.077     0.143        26\n",
      "           4      0.558     0.898     0.688        59\n",
      "           5      0.705     0.705     0.705        61\n",
      "           6      0.977     0.962     0.970      6556\n",
      "           7      0.803     0.773     0.788       458\n",
      "           8      0.617     0.804     0.698        46\n",
      "\n",
      "   micro avg      0.941     0.941     0.941      7406\n",
      "   macro avg      0.741     0.746     0.682      7406\n",
      "weighted avg      0.948     0.941     0.942      7406\n",
      "\n"
     ]
    },
    {
     "data": {
      "image/png": "[encoded data removed]",
      "text/plain": [
       "<Figure size 720x576 with 2 Axes>"
      ]
     },
     "metadata": {
      "needs_background": "light"
     },
     "output_type": "display_data"
    }
   ],
   "source": [
    "true_valid = [label[0] for labels in y_valid_seq for label in labels]\n",
    "pred_valid = [label for labels in predictions for label in labels]\n",
    "\n",
    "print(confusion_matrix(true_valid, pred_valid))\n",
    "\n",
    "classes = list(tags_dict.keys())\n",
    "\n",
    "cm = confusion_matrix(y_true=true_valid, y_pred=pred_valid)\n",
    "cm = cm.astype('float') / cm.sum(axis=1)[:, np.newaxis]\n",
    "df_cm = pd.DataFrame(cm, index=classes[1:], columns=classes[1:])\n",
    "plt.figure(figsize=(10,8))\n",
    "ax = sn.heatmap(df_cm, annot=True, fmt='.2f',cmap=sn.color_palette(\"Blues\", n_colors=10))\n",
    "ax.set(ylabel='True label', xlabel='Predicted label')\n",
    "ax.xaxis.tick_top()\n",
    "print(classification_report(true_valid, pred_valid, digits=3))"
   ]
  },
  {
   "cell_type": "markdown",
   "metadata": {},
   "source": [
    "# Test"
   ]
  },
  {
   "cell_type": "code",
   "execution_count": 18,
   "metadata": {},
   "outputs": [
    {
     "name": "stdout",
     "output_type": "stream",
     "text": [
      "Test: avg length: 15.84520780322307 \n",
      "max: 89\n"
     ]
    }
   ],
   "source": [
    "X_ner_test, y_ner_test = load_ner_data(DATA_DIR, 'test')\n",
    "X_test_seq, y_test_seq = sent2seq(words_index, X_ner_test, tags_dict, y_ner_test)\n",
    "\n",
    "len_X_test = list(map(len, X_test_seq))\n",
    "print(\"Test: avg length:\", np.mean(len_X_test), \"\\nmax:\", np.max(len_X_test))\n",
    "\n",
    "X_test = pad_sequences(X_test_seq, maxlen=params['maxlen'], padding='post')\n",
    "y_test = pad_sequences(y_test_seq, maxlen=params['maxlen'], padding='post')\n",
    "\n",
    "test_predictions = model.predict(X_test)\n",
    "test_predictions = [[np.argmax(word_pred) for word_pred in sent_pred] for sent_pred in test_predictions]\n",
    "test_predictions = mask(X_ner_test, y_ner_test, test_predictions)\n",
    "# np.save(OBJECTS_DIR+'ner_elmo_test_result', test_result)"
   ]
  },
  {
   "cell_type": "code",
   "execution_count": 19,
   "metadata": {},
   "outputs": [],
   "source": [
    "def collect_ner_result(X, preds, stage=\"valid\"):\n",
    "    i = 0\n",
    "    ner_result = {}\n",
    "    ner4subtask2 = {}\n",
    "    last_file = \"\"\n",
    "\n",
    "    # docs_pred_labels = np.load(OBJECTS_DIR + f'ner_elmo_{stage}_result.npy', allow_pickle=True)\n",
    "    for idx, line in enumerate(X):\n",
    "        file, sent = line[0], line[1:]\n",
    "\n",
    "        if file != last_file:\n",
    "            if last_file and doc_ner:\n",
    "                ner4subtask2[last_file] = doc_ner\n",
    "                ner_result[last_file] = list(fms) + list(obs)\n",
    "        \n",
    "            fms = set()\n",
    "            obs = set() # a set for each txt_file\n",
    "            doc_ner = []\n",
    "            last_file = file\n",
    "            \n",
    "\n",
    "        last_class, last_content = \"\", []\n",
    "        sent_ner = []\n",
    "        pred = preds[idx]\n",
    "\n",
    "        for tid, token in enumerate(sent):\n",
    "            if stage == \"valid\" and classes[pred[tid]] != classes[true_valid_labels[tid]]:\n",
    "                print('\\t\\t'.join([token,\n",
    "                                   classes[pred[tid]],\n",
    "                                   classes[true_valid_labels[tid]]]))\n",
    "            try:\n",
    "                pred_class = classes[pred[tid]]\n",
    "            except:\n",
    "                print(sent, '\\n',pred)\n",
    "            i += 1\n",
    "            if pred_class in [\"FM\", \"Paternal\", \"Maternal\"]:\n",
    "                sent_ner.append(pred_class)\n",
    "                if token.capitalize().rstrip('s') in [\"Father\", \"Mother\", \"Parent\",\n",
    "                    \"Sister\", \"Brother\", \"Daughter\", \"Son\", \"Child\", \"Grandmother\", \\\n",
    "                    \"Grandfather\", \"Grandparent\", \"Cousin\", \"Sibling\", \\\n",
    "                    \"Aunt\", \"Uncle\"]:\n",
    "\n",
    "                    if pred_class == 'FM':\n",
    "                        fms.add((\"FamilyMember\", token.capitalize().rstrip('s'), \"NA\"))\n",
    "                    else:\n",
    "                        fms.add((\"FamilyMember\",\n",
    "                                 token.capitalize().rstrip('s'),\n",
    "                                 pred_class))\n",
    "                elif token.lower() == 'dad':\n",
    "                    fms.add((\"FamilyMember\", \"Father\", \"NA\"))\n",
    "                elif token.lower() == 'mom':\n",
    "                    fms.add((\"FamilyMember\", \"Mother\", \"NA\"))\n",
    "                else:\n",
    "                    # print(\"ignore:\", token, pred_class)\n",
    "                    sent_ner[-1] = \"O\"  # modify the last label untill now\n",
    "            elif pred_class == last_class and pred_class == \"OBS\":\n",
    "                last_content += [token]\n",
    "                sent_ner.append(\"OBS\")\n",
    "            elif pred_class.startswith(\"LS\"):\n",
    "                sent_ner.append(pred_class)\n",
    "            else: # not the same label as the last label\n",
    "                if last_class == 'OBS' and last_content:\n",
    "                    obs.add((\"Observation\", \" \".join(last_content)))\n",
    "\n",
    "                if pred_class == \"OBS\":\n",
    "                    last_class, last_content = pred_class, [token]\n",
    "                    sent_ner.append(\"OBS\")\n",
    "                else:\n",
    "                    last_class, last_content = \"\", []\n",
    "                    sent_ner.append(\"O\")\n",
    "        doc_ner.append(sent_ner)\n",
    "\n",
    "    \n",
    "    wfile = Path(RESULT_DIR) / f'sub1.result.{stage}.lstm.tsv'\n",
    "    with wfile.open('w') as f:\n",
    "        for txt_file, content in ner_result.items():\n",
    "            for items in content:\n",
    "                f.write(\"\\t\".join([txt_file] + list(items)) + '\\n')\n",
    "\n",
    "    return ner4subtask2\n",
    "\n",
    "X_ner_valid, _ = load_ner_data(DATA_DIR, 'valid_doc', 1)\n",
    "valid_ner4subtask2 = collect_ner_result(X_ner_valid, predictions, \"valid_doc\")\n",
    "X_ner_test, _ = load_ner_data(DATA_DIR, 'test', 1)\n",
    "test_ner4subtask2 = collect_ner_result(X_ner_test, test_predictions, \"test\")"
   ]
  },
  {
   "cell_type": "code",
   "execution_count": null,
   "metadata": {
    "scrolled": false
   },
   "outputs": [],
   "source": [
    "print(test_ner4subtask2)"
   ]
  },
  {
   "cell_type": "code",
   "execution_count": null,
   "metadata": {},
   "outputs": [],
   "source": []
  }
 ],
 "metadata": {
  "kernelspec": {
   "display_name": "Python 3",
   "language": "python",
   "name": "python3"
  },
  "language_info": {
   "codemirror_mode": {
    "name": "ipython",
    "version": 3
   },
   "file_extension": ".py",
   "mimetype": "text/x-python",
   "name": "python",
   "nbconvert_exporter": "python",
   "pygments_lexer": "ipython3",
   "version": "3.6.8"
  }
 },
 "nbformat": 4,
 "nbformat_minor": 2
}
