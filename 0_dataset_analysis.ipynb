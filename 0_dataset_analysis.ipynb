{
 "cells": [
  {
   "cell_type": "code",
   "execution_count": 1,
   "metadata": {},
   "outputs": [
    {
     "name": "stdout",
     "output_type": "stream",
     "text": [
      "99 data files in all.\n",
      "{'doc_170', 'doc_97', 'doc_91', 'doc_111', 'doc_123', 'doc_14', 'doc_105', 'doc_145', 'doc_81', 'doc_139', 'doc_140', 'doc_10', 'doc_40', 'doc_126', 'doc_104', 'doc_12', 'doc_56', 'doc_176', 'doc_41', 'doc_101', 'doc_31', 'doc_19', 'doc_4', 'doc_29', 'doc_37', 'doc_54', 'doc_80', 'doc_53', 'doc_173', 'doc_44', 'doc_138', 'doc_74', 'doc_66', 'doc_121', 'doc_18', 'doc_117', 'doc_150', 'doc_162', 'doc_85', 'doc_76', 'doc_124', 'doc_9', 'doc_95', 'doc_115', 'doc_142', 'doc_67', 'doc_155', 'doc_118', 'doc_16', 'doc_50', 'doc_174', 'doc_79', 'doc_28', 'doc_156', 'doc_21', 'doc_52', 'doc_169', 'doc_136', 'doc_35', 'doc_2', 'doc_148', 'doc_36', 'doc_49', 'doc_58', 'doc_94', 'doc_60', 'doc_143', 'doc_62', 'doc_86', 'doc_157', 'doc_147', 'doc_161', 'doc_24', 'doc_42', 'doc_164', 'doc_23', 'doc_92', 'doc_177', 'doc_132', 'doc_59', 'doc_34', 'doc_11', 'doc_166', 'doc_160', 'doc_130', 'doc_154', 'doc_152', 'doc_178', 'doc_26', 'doc_1', 'doc_7', 'doc_57', 'doc_43', 'doc_6', 'doc_158', 'doc_13', 'doc_93', 'doc_17', 'doc_167'}\n"
     ]
    }
   ],
   "source": [
    "from os import listdir\n",
    "\n",
    "directory  = './Data/bioc-FH-training/'\n",
    "file_list  = listdir(directory)\n",
    "file_names = set([file.split('.')[0] for file in file_list if file != '' and file.endswith('txt')])\n",
    "file_num   = len(file_names)\n",
    "\n",
    "print(len(file_names), \"data files in all.\")\n",
    "print(file_names)"
   ]
  },
  {
   "cell_type": "code",
   "execution_count": 2,
   "metadata": {},
   "outputs": [],
   "source": [
    "import xml.etree.ElementTree\n",
    "import codecs\n",
    "import chardet\n",
    "\n",
    "## Types\n",
    "phi = 0\n",
    "age = []\n",
    "observation   = []\n",
    "livingStatus  = []\n",
    "family_member = []\n",
    "\n",
    "## Properties\n",
    "# for Family Member\n",
    "relation = []\n",
    "count    = []\n",
    "blood    = []\n",
    "adopted  = []\n",
    "side_of_family = []\n",
    "\n",
    "# for Observation\n",
    "negation    = []\n",
    "certainty   = []\n",
    "is_all      = []\n",
    "obser_len   = []\n",
    "obser_names = []\n",
    "\n",
    "chain = []\n",
    "\n",
    "for file_name in file_names:\n",
    "    #ff = open(directory + file_name +'.txt', 'rb')\n",
    "    #print(directory + file_name +'.txt', chardet.detect(ff.read())['encoding'])\n",
    "    #ff.close()\n",
    "    \n",
    "    file_path = directory + file_name + '.xml'\n",
    "    \n",
    "    e = xml.etree.ElementTree.parse(file_path).getroot()\n",
    "    annotation = e.findall('annotations')[0]\n",
    "\n",
    "    for entity in annotation.findall('entity'):\n",
    "        typee = entity.find('type')\n",
    "\n",
    "        properties = entity.findall('properties')[0] if entity.findall('properties') else []\n",
    "\n",
    "        if typee.text == 'FamilyMember':\n",
    "            #print(entity.findall('properties')[0].getchildren())\n",
    "            family_member.append(typee.text)\n",
    "            relation.append(properties.findall('Relation')[0].text)\n",
    "            count.append(properties.findall('Count')[0].text)\n",
    "            side_of_family.append(properties.findall('SideOfFamily')[0].text)\n",
    "            blood.append(properties.findall('Blood')[0].text)\n",
    "            adopted.append(properties.findall('Adopted')[0].text)\n",
    "            \n",
    "        elif typee.text == 'Observation':\n",
    "            #print(entity.findall('properties')[0].getchildren())\n",
    "            temp = entity.findall('span')[0].text.split(';')[0].split(',')\n",
    "            \n",
    "            temp = list(map(int, temp))\n",
    "            read = 0\n",
    "            #f = codecs.open(directory + file_name +'.txt', 'r', 'utf-8')\n",
    "            #print(temp[0], temp[1])\n",
    "            f = open(directory + file_name +'.txt')\n",
    "            observ = ''\n",
    "\n",
    "            f.read(temp[0])\n",
    "            observ = f.read(temp[1]-temp[0])\n",
    "                \n",
    "            f.close()\n",
    "            \n",
    "            obser_names.append(observ) # .strip()\n",
    "            obser_len.append(temp[1]-temp[0])\n",
    "            observation.append(typee.text)\n",
    "            negation.append(properties.findall('Negation')[0].text)        \n",
    "            certainty.append(properties.findall('Certainty')[0].text)\n",
    "            is_all.append(properties.findall('isAll')[0].text)\n",
    "        #elif typee.text == 'Age':\n",
    "        #    print(entity.findall('properties')[0].findall('AgeType')[0].text)\n",
    "        #    age.append(text)\n",
    "        #elif text == 'LivingStatus':\n",
    "        #    print(entity.findall('properties')[0].getchildren())\n",
    "        #    print(entity.findall('properties')[0].findall('Alive')[0].text)\n",
    "        #    family_member.append(text)\n",
    "        #elif text == 'PHI':\n",
    "        #    print(entity.findall('properties')) #[0].getchildren())\n",
    "        #    phi += 1\n",
    "        #else:\n",
    "        #    print(entity.find('type').text)\n",
    "\n",
    "    for relation_ in annotation.findall('relation'):\n",
    "        text = relation_.find('type').text\n",
    "        if text == 'Chain':\n",
    "            chain.append(text)\n",
    "        else:\n",
    "            print(relation_.find('type').text)\n",
    "    #print(obser_names, '\\n')\n",
    "    #obser_names = []\n",
    "\n",
    "# 每个chain properties个数分布/平均"
   ]
  },
  {
   "cell_type": "code",
   "execution_count": 3,
   "metadata": {
    "scrolled": true
   },
   "outputs": [
    {
     "name": "stdout",
     "output_type": "stream",
     "text": [
      "FamilyMember - 803 times and 8.11111111111111 times in avg for each file\n",
      "\n",
      "relation:\n",
      " Counter({'Aunt': 99, 'Mother': 89, 'Father': 86, 'Sister': 80, 'Uncle': 75, 'Brother': 71, 'Grandmother': 65, 'Cousin': 57, 'Grandfather': 55, 'Son': 46, 'Daughter': 44, 'Sibling': 15, 'Child': 14, 'Grandparent': 6, 'Parent': 1})\n",
      "Count:\n",
      " Counter({None: 609, '2': 82, '3': 54, '4': 19, '1': 14, '5': 10, '7': 6, '10': 4, '6': 2, '8': 1, '15': 1, '9': 1})\n",
      "side_of_family:\n",
      " Counter({'NA': 456, 'Maternal': 180, 'Paternal': 166, None: 1})\n",
      "blood:\n",
      " Counter({'Blooded': 780, 'Half-blooded': 19, 'Non-blooded': 4})\n",
      "\n",
      "\n",
      "Observation - 978 times and 9.878787878787879 times in avg for each file\n",
      "negation\t: Counter({'No': 729, 'Yes': 249})\n",
      "certainty\t: Counter({'Certain': 946, 'Uncertain': 32})\n",
      "is_all\t\t: Counter({'False': 780, 'True': 198})\n",
      "\n",
      "Chain: 665\n",
      "Counter({'Chain': 665})\n"
     ]
    }
   ],
   "source": [
    "import collections\n",
    "\n",
    "relation_c       = collections.Counter(relation)\n",
    "count_c          = collections.Counter(count)\n",
    "side_of_family_c = collections.Counter(side_of_family)\n",
    "blood_c          = collections.Counter(blood)\n",
    "adopted_c        = collections.Counter(adopted)\n",
    "print('FamilyMember -', len(family_member), 'times and', len(family_member)/file_num, 'times in avg for each file')\n",
    "print('\\nrelation:\\n', relation_c)\n",
    "print('Count:\\n', count_c)\n",
    "print('side_of_family:\\n', side_of_family_c)\n",
    "print('blood:\\n', blood_c)\n",
    "#print('adopted\\t:', adopted_c) # All 'NA'\n",
    "\n",
    "negation_c  = collections.Counter(negation)\n",
    "certainty_c = collections.Counter(certainty)\n",
    "is_all_c    = collections.Counter(is_all)\n",
    "obser_len_c = collections.Counter(obser_len)\n",
    "print('\\n\\nObservation -', len(observation), 'times and', len(observation)/file_num, 'times in avg for each file')\n",
    "print('negation\\t:', negation_c)\n",
    "print('certainty\\t:', certainty_c)\n",
    "print('is_all\\t\\t:', is_all_c)\n",
    "#print('obser_len\\t:', obser_len_c)\n",
    "\n",
    "chain_c = collections.Counter(chain)\n",
    "print('\\nChain:', len(chain))\n",
    "print(chain_c)"
   ]
  },
  {
   "cell_type": "code",
   "execution_count": 4,
   "metadata": {},
   "outputs": [
    {
     "name": "stdout",
     "output_type": "stream",
     "text": [
      "There are 15 kinds of family members in all.\n",
      "Each Family Member showed 53.53333333333333 in average.\n"
     ]
    },
    {
     "data": {
      "text/plain": [
       "<Figure size 1800x500 with 1 Axes>"
      ]
     },
     "metadata": {},
     "output_type": "display_data"
    }
   ],
   "source": [
    "import numpy as np\n",
    "import matplotlib as mpl\n",
    "import matplotlib.pyplot as plt\n",
    "\n",
    "print('There are', len(relation_c), 'kinds of family members in all.')\n",
    "print('Each Family Member showed', len(relation)/len(relation_c), 'in average.')\n",
    "plt.figure(figsize=(18,5))\n",
    "plt.xticks(range(len(relation_c.keys())),relation_c.keys())\n",
    "plt.bar(range(len(relation_c.keys())),relation_c.values())\n",
    "plt.title('Frequency of Family Members', fontsize=16)\n",
    "plt.xlabel('Family Members', fontsize=14)\n",
    "plt.ylabel('Frequency', fontsize=14)\n",
    "plt.show()"
   ]
  },
  {
   "cell_type": "code",
   "execution_count": 5,
   "metadata": {},
   "outputs": [
    {
     "name": "stdout",
     "output_type": "stream",
     "text": [
      "The average length of disease name is 13.933537832310838 characters.\n"
     ]
    },
    {
     "data": {
      "image/png": "[encoded data removed]",
      "text/plain": [
       "<Figure size 1008x504 with 1 Axes>"
      ]
     },
     "metadata": {
      "needs_background": "light"
     },
     "output_type": "display_data"
    }
   ],
   "source": [
    "print('The average length of disease name is', sum(obser_len)/len(obser_len), 'characters.')\n",
    "plt.figure(figsize=(14,7))\n",
    "plt.bar(list(obser_len_c.keys()), list(obser_len_c.values()), tick_label=list(obser_len_c.keys()))\n",
    "plt.title('Frequency of Length of observations', fontsize=16)\n",
    "plt.xlabel('Length (Characters)', fontsize=14)\n",
    "plt.ylabel('Frequency', fontsize=14)\n",
    "plt.show()"
   ]
  },
  {
   "cell_type": "code",
   "execution_count": 6,
   "metadata": {},
   "outputs": [],
   "source": [
    "# TODO: length in words"
   ]
  },
  {
   "cell_type": "code",
   "execution_count": 7,
   "metadata": {},
   "outputs": [
    {
     "name": "stdout",
     "output_type": "stream",
     "text": [
      "Counter({1: 605, 2: 37, 3: 17, 4: 11, 5: 5, 8: 3, 9: 3, 11: 2, 6: 2, 33: 1, 12: 1, 14: 1, 10: 1, 18: 1, 7: 1})\n",
      "There are 978 diseases observed in all.\n"
     ]
    },
    {
     "data": {
      "image/png": "[encoded data removed]",
      "text/plain": [
       "<Figure size 1008x504 with 1 Axes>"
      ]
     },
     "metadata": {
      "needs_background": "light"
     },
     "output_type": "display_data"
    }
   ],
   "source": [
    "obser_names_c = collections.Counter(obser_names)\n",
    "obser_stat = collections.Counter(obser_names_c.values())\n",
    "\n",
    "print(obser_stat)\n",
    "print('There are', len(obser_names), 'diseases observed in all.')\n",
    "plt.figure(figsize=(14,7))\n",
    "plt.bar(list(obser_stat.keys())[1:], list(obser_stat.values())[1:], tick_label=list(obser_stat.keys())[1:])\n",
    "plt.title('Distribution of frequency', fontsize=16)\n",
    "plt.xlabel('Times', fontsize=14)\n",
    "plt.ylabel('Number of diseases', fontsize=14)\n",
    "plt.show()"
   ]
  },
  {
   "cell_type": "code",
   "execution_count": 8,
   "metadata": {},
   "outputs": [
    {
     "name": "stdout",
     "output_type": "stream",
     "text": [
      "Counter({'cancer': 33, 'asthma': 18, 'smoker': 14, 'mental retardation': 12, 'learning disabilities': 11, 'cholera': 11, 'hypertension': 10, 'birth defects': 9, 'cancers': 9, 'heart issues': 9, 'hypothyroidism': 8, 'hemophilia': 8, 'heart disease': 8, 'low platelets': 7, 'multiple miscarriages': 6, 'type 2 diabetes': 6, 'renal disease': 5, 'heart murmur': 5, 'prophylactic mastectomy': 5, 'hypermnesia': 5, 'CCHF': 5, 'fainting': 4, 'leukemia': 4, 'heart attack': 4, 'skin cancer': 4, 'stroke': 4, 'malaria': 4, 'blood pressure': 4, 'corbus': 4, 'pelvic cancer': 4, 'cysticercosis': 4, 'schizophrenia ': 4, 'type 2 diabetes ': 3, 'depressed': 3, 'DKA': 3, 'allergies': 3, 'heavy smoker': 3, 'alzheimer disease': 3, 'miscarriages': 3, 'neonatal death': 3, 'uterine cancer': 3, 'umbilical cord anomaly': 3, 'COPD': 3, 'dwarfism': 3, 'enamel caries': 3, ' schizophrenia': 3, 'acromioclavicular infection': 3, 'multiple sclerosis': 3, 'hysterectomy': 3, 'connective tissue': 2, 'pneumonia': 2, 'severe nosebleed': 2, 'thalassemia': 2, 'infant deaths': 2, 'syndrome merrf': 2, 'cancer ': 2, 'p388 leukemia ': 2, 'brain cancer ': 2, 'hepatic coma': 2, 'GI problems ': 2, 'genetic disease': 2, 'cardiac problems infarction': 2, 'Down syndrome': 2, 'seizures': 2, 'cholera ': 2, 'papillary carcinoma': 2, 'dextrocardia': 2, 'stressors': 2, 'schizophrenia': 2, 'canker': 2, 'heart attacks': 2, 'colon cancer': 2, 'died early': 2, 'emphysema': 2, 'pineoblastoma': 2, 'diabetes': 2, 'heart problems': 2, 'low platelets ': 2, 'aortic dilation': 2, 'memory loss': 2, 'disorder micturition ': 2, 'cardiac bypass surgery': 2, 'dyslexia': 2, 'factor S deficiency': 2, 'atrophic hair': 2, 'groin melanoma': 2, 'liver necrosis': 1, 'gynecologic tumor': 1, 'heart disease ': 1, 'neutrophilic hyperplasia': 1, 'dysplasia of anus': 1, 'leucine sensitivity': 1, 'stomach cancer': 1, 'esophago pharyngeal diverticula': 1, 'larynx carcinoma': 1, 'post traumatic eczema': 1, 'ischemia': 1, 'splenic sequestration': 1, 'insomnia primary': 1, 'collagen arthritis': 1, 'infiltrating ductal car': 1, 'blood clot ': 1, 'eating excess ': 1, 'stomach abscess': 1, 'spasm tic': 1, 'lymphangitis': 1, 'neoplasm of cystic duct': 1, 'tumour of pyriform fossa': 1, 'ileum ulcer': 1, 'melanoma ear': 1, 'myofascitis': 1, 'sigmoiditis': 1, 'leukocytopenias': 1, 'lymphocytoma': 1, 'amylopectinoses': 1, 'edema stress': 1, 'alcoholism ': 1, 'alcohol use ': 1, 'herpes iris': 1, 'carrier of leptomeningeal metastases': 1, 'rheumatoid arthritis': 1, 'hypogonadism': 1, 'brain anoxia': 1, 'gingival tumour': 1, 'thigh abscess': 1, 'postnatal dysphoria': 1, 'myasthenia gravis': 1, 'necrosis scrotum': 1, 'peptic ulcers': 1, 'an accident': 1, 'asthma heart': 1, 'jamaican syndrome': 1, 'shortness of breath': 1, 'gastroliths': 1, 'pancreatitis fungal': 1, 'nettle rash': 1, 'germ cell tumour ovarian recurrent': 1, 'aphasia broca': 1, 'fever typhogastric ': 1, 'allergy sunshine': 1, 'neurosis depressive': 1, ' metastatic disease': 1, 'disease graves': 1, 'dubinis disease': 1, 'gonorrhea recurrent': 1, ' familial polyposis': 1, 'mental behavioral disorders': 1, 'fingerprint myopathy': 1, 'leukemia pediatric acute lymphocytic t cell': 1, 'acute MI ': 1, 'giant cell pneumonia': 1, 'rhinoconjunctivitis ': 1, 'thyroid lump': 1, ' hypertension': 1, 'loss function of labyrinth': 1, 'cancer endometrium': 1, 'atopic': 1, 'anteroclusion': 1, 'metastasis to urethra': 1, 'plasmodiosis': 1, 'yaba pox': 1, 'peanut allergies': 1, 'xeroma': 1, 'cerebral palsy': 1, 'peritoneal cancer': 1, 'mucous colon': 1, 'lichen': 1, 'acne comedonal': 1, 'angiolipomas': 1, 'malignant gangliogliomas': 1, 'glaucoma ': 1, 'NHL childhood ': 1, 'infant deaths ': 1, 'bone fragile ': 1, 'nalbuphine allergy': 1, 'pancoast': 1, 'Uterine corbus': 1, 'torus palatinus': 1, 'urethral corbus': 1, ' asthma colliers': 1, ' pigmented skin': 1, ' genital lichen planus': 1, ' IMMPaCtte': 1, 'amebic eczema': 1, 'embolism': 1, 'dermal': 1, 'coma insulin': 1, 'autism torsion': 1, 'colon spasm': 1, 'depression': 1, 'myriapodiasis': 1, 'neoplasm of the urethra': 1, 'grawitz tumor': 1, 'chorea syndromes': 1, 'lufts disease': 1, 'edema cornea': 1, 'submucosal cleft palate': 1, 'kidney problems': 1, 'porphyria acute': 1, 'endosalpingiosis': 1, 'atrial fibrillation': 1, 'iron disorder ': 1, 'presbyopia with astigmatism': 1, 'esophageal infections': 1, 'coronary disease ': 1, 'ulcer bladder': 1, 'smoking': 1, 'alcohol use': 1, 'fever oroya': 1, 'malignant clitoris tumour': 1, 'alalia': 1, 'extramembranous glomerulopathy': 1, 'vulval neoplasms benign': 1, 'drug overdose': 1, 'vulvar sarcoma': 1, 'paragonimiasis': 1, 'hyperthermia': 1, 'gene mutation': 1, ' paranasal sinus cancer': 1, 'alcohol/drug use': 1, 'roaring': 1, 'suicide': 1, 'salmonella infection': 1, 'kanamycin allergy': 1, 'aneurysm': 1, 'isoflurane allergy': 1, 'haygarth node': 1, 'adenomathyroid': 1, 'barium pneumoconiosis': 1, 'gynatresias': 1, 'osteoporosis': 1, 'uvulitis': 1, 'th thymus atro': 1, 'th skrjabinemo': 1, 'th anemia gene': 1, ' a nevus ben': 1, 'er ma': 1, 'or timolol alle': 1, ' a anal tum': 1, 'of orbital va': 1, 'of aspirin ab': 1, 'ad leprosy neu': 1, 'of hypermne': 1, 'of mental disorder caffe': 1, 'of syndrome fr': 1, ' a Rube': 1, 'of noe': 1, 'neoplasms vascular': 1, 'psych problem': 1, 'brain corbus': 1, 'vulvar corbus': 1, 'desmoplastic': 1, 'nickel eczema': 1, 'lung corbus': 1, 'acute chorea': 1, 'maxillary antrum tumour': 1, 'psychosis manic': 1, 'emotional crisis': 1, 'uterus myoma': 1, 'albright disease': 1, 'sternal neoplasm': 1, 'oesophageal neoplasm metastatic': 1, 'pineal tumor': 1, 'fecalith appendix': 1, 'staccato speech': 1, 'congestive heart failure': 1, 'fetish': 1, 'multiple miscarriages or babies': 1, 'stillborn': 1, 'chronic pulmonary disease': 1, 'alcoholic ': 1, 'childhood leukemia': 1, 'pharyngitides': 1, 'ovalbumin allergy': 1, 'myocardial damage': 1, 'biliary tumour': 1, 'domperidone allergy': 1, 'mentally-handicapped deaf': 1, 'nutritional cirrhosis': 1, 'entropion': 1, 'giant colon': 1, 'coronary artery disease': 1, 'nervous diarrhea': 1, 'hepatopulmonary syndromes': 1, 'Infiltrating ductal carcinoma ': 1, 'hairy tongues': 1, 'tophi': 1, 'leukemia thrombocytic': 1, 'retinal artery occlusion': 1, 'paramyloidosis': 1, 'acute disorder': 1, 'angelman syndrome': 1, 'lameness': 1, 'complications after childbirth': 1, 'acute schizophrenic': 1, 'oligodendroglioma': 1, 'Marfan syndrome': 1, 'deficiency endocrine ': 1, 'colorblind': 1, 'cardiac disease': 1, 'melanoma': 1, 'recurrent malignant tumour ': 1, 'dementia ': 1, 'colonoscopy': 1, ' alcohol us': 1, ' low platelet': 1, 'amebic abscess of skin': 1, 'malignant blood disorder': 1, 'chloasma': 1, 'psoriasis nummular': 1, 'malignant smallpox': 1, 'cervix metritis': 1, 'tonsillitis ': 1, 'myocardial infarction ': 1, 'delleman syndrome': 1, 'dextrocardia ': 1, 'anomalies nervous system ': 1, 'uterus adhesion': 1, 'akithisia': 1, 'sacral ulcer': 1, 'cystdermoid': 1, 'lung cancer ': 1, 'pityriasis alba': 1, 'sinus cancer': 1, 'pan microscopic ': 1, 'lung fibroma': 1, ' dextrocardia': 1, ' suprarenal insufficiency': 1, 'lymphocoeles': 1, 'basal cell': 1, ' leukopenias': 1, 'stomatitis': 1, 'present alcohol/drug use': 1, 'suicide ': 1, 'chemical dependence': 1, ' demyelinating diseases': 1, ' overweight': 1, ' obesity': 1, 'thyroid toxic': 1, 'cystitides': 1, 'dermanyssosis': 1, 'spinal tumor': 1, 'cancer of the brain': 1, 'cancer of his leg ': 1, 'testicular cancer': 1, 'brain cancer': 1, 'multiple pregnancy loss': 1, 'stillbirths': 1, 'cystic fibrosis ': 1, 'fsc lymphoma': 1, 'hallucinosis': 1, 'cyclic schizophrenia': 1, 'renal pelvis tumour': 1, 'high cholesterol': 1, 'retina disorder': 1, 'wind sucking': 1, 'nephrosis cholemic': 1, 'hyoid myoclonus': 1, 'histoplasma capsulatum infection': 1, 'infectionbitespider': 1, 'lactotroph adenomas': 1, 'thalassemia ': 1, 'alzheimer disease ': 1, 'emphysema paraseptal ': 1, 'malignant blood disorder ': 1, 'babesia infection ': 1, 'strep infections ': 1, 'recurrent heart disease ': 1, 'fever uremic ': 1, 'skin eruption ': 1, 'hydrocephalus': 1, 'fungus eczema': 1, ' nulnaris disorder': 1, ' anal cancer': 1, ' phacomatosis': 1, 'iron allergy': 1, 'prolapse colon': 1, 'ischemia brain': 1, 'pancreatic metastases': 1, 'keratoacanthoma ': 1, 'pneumothorax iatrogenic ': 1, 'steroid purpura': 1, 'klinefelter ': 1, 'cornea hypesthesia': 1, 'traction diverticulum': 1, ' lyme carditis': 1, 'recurrent thyroid problems': 1, 'neoplasm choroidal': 1, 'osteochondrodysplasia': 1, 'histomoniases': 1, 'thrombopenias': 1, 'familial retinoblastomas': 1, 'hypertensionlabile': 1, 'wolman': 1, 'deficiency pyridoxamine': 1, 'cittotaeniosis': 1, 'comas hepatic': 1, 'osselets': 1, 'hemochromatosis': 1, 'hyperthermia ': 1, 'fungal infection': 1, 'pineal syndrome': 1, 'apeded': 1, 'pyelitis acute': 1, 'mousepox': 1, 'multiple miscarriages ': 1, 'stillborn or died early': 1, 'diabetes mellitus': 1, 'cystic fibrosis in ': 1, 'fibrous cavernitides': 1, ' diabetes': 1, 'ulcerative colitis': 1, 'ovarian endometriosis': 1, 'syndrome hemiparaplegic': 1, 'imbecile': 1, 'enamel caries ': 1, 'cancers anal': 1, 'waardenburg': 1, 'lung cancer': 1, 'blood disease': 1, 'cutaneous syphilis': 1, 'associative dysphasia': 1, 'ocular tumor': 1, 'family ataxia': 1, 'adrenal disorder': 1, 'ovariocele': 1, 'periapical abscess': 1, 'ischemic myelopathies': 1, 'iodamoebiases': 1, 'amyotrophic sclerosis': 1, 'sthma.': 1, 'ypertension i': 1, 'rophylactic mastectomy,': 1, 'holera ': 1, 'halassemia.': 1, 'owel bypass syndrome.': 1, 'schizophrenia.': 1, 'iabetes ': 1, 'AR syndrome ': 1, 'raft neurosis.': 1, 'eart disease ': 1, 'raft site infection ': 1, 'babies that were still born ': 1, 'or died early': 1, 'acquired tear duct stenosis': 1, 'heart issues ': 1, 'psychiatric conditions': 1, 'pseudotruncus arteriosus ': 1, 'albers schonberg disease ': 1, 'angelman syndrome ': 1, 'due to an leukemia': 1, 'PAP': 1, 'abpe': 1, 'abuse laxatives': 1, 'crop bound': 1, 'aortocaval fistula': 1, 'keshan': 1, 'nails soft': 1, 'testosterone allergy': 1, 'bird pox': 1, 'elevated lipoprotein A levels': 1, 'polyp rectum': 1, 'still born or died early': 1, 'hemoglobinopathies': 1, ' vaginitis trichomonal': 1, ' xerophthalmia': 1, ' miscarriages': 1, 'lipoidemia': 1, 'alcohol': 1, 'drugs': 1, 'thyroid problems ': 1, ' infiltrating ductal carcinoma': 1, 'nail disease': 1, 'genital dwarfism': 1, 'borna disease': 1, 'chronic pain': 1, 'skin': 1, 'brain problems': 1, 'polyp inflammatory': 1, 'segmental dysfunction': 1, 'jung syndrome': 1, 'parathyroid disorders': 1, 'miscarriage': 1, 'ACI carrier': 1, 'carrier for acromioclavicular infection': 1, 'carrier of acromioclavicular infection': 1, 'other cancers ': 1, 'colon': 1, 'other cancers': 1, 'uricemia': 1, 'quadraplegia': 1, 'neck lipoma': 1, ' cystocoele': 1, ' urachal cysts': 1, ' cardiomyopathy amyloid etiology': 1, 'body tinea': 1, 'vagina sarcoma ': 1, 'odontomas': 1, ' febrile mucocutaneous syndrome': 1, 'brown mclean syndrome ': 1, 'CCHF ': 1, ' pneumonia': 1, ' meninges sarcoma': 1, 'basiloma': 1, ' gastritis biliary': 1, 'abscessdental': 1, 'edema retina': 1, 'seizureabsence': 1, 'blood clots': 1, 'thyroid problems': 1, 'alcoholism': 1, 'hyperlipidemia': 1, 'dystocia': 1, 'GE reflux': 1, 'thyromegaly': 1, 'medicatiions': 1, 'carcinoma bladder': 1, 'blepharelosis': 1, 'moral deficit': 1, 'anomaly integument ': 1, 'cellulitis of pharynx': 1, 'choroid plexus papilloma fourth ventricle': 1, 'pharynx cellulitis ': 1, ' mastitis': 1, 'heart murmur ': 1, 'still born ': 1, 'stupor catatonic ': 1, 'manifest hyperopia': 1, 'paratesticular lipoma': 1, 'ulcers rodent': 1, 'atr astigmatism': 1, 'viral meningitides': 1, 'krabbe': 1, ' skin syphilitic': 1, 'krabbe ': 1, ' abscess joint': 1, 'gastric tumor': 1, 'urethral cancer': 1, 'lesch nyhan syndrome': 1, 'ileocolitis': 1, 'haglunds': 1, 'thiamine deficiencies': 1, 'puerperal salpingitis': 1, 'oral glyceryl trinitrate allergy': 1, 'sinus testis': 1, 'ekbom syndrome': 1, 'laryngeal sarcomatoid carcinoma': 1, 'encephalitis periaxialis': 1, 'shortness of breath ': 1, 'retrosternal hernia': 1, 'gingival pregnancy tumour ': 1, 'nipple neoplasm': 1, 'eardrum inflammation': 1, 'gangliosidosis': 1, 'phycomycosis': 1, 'pachygyria': 1, 'surface dyslexia': 1, 'foot ulcer': 1, 'meningitis recurrent': 1, 'paranasal sinus cancer': 1, 'eczema dyshidrotic': 1, 'cell leukemias plasma ': 1, 'mansonelliases': 1, 'acute middle ear effusion': 1, 'epilepsy senile': 1, 'tuberculosis respiratory ': 1, 'hypothyroidism ': 1, 'aneurysm or schizophrenia': 1, ' pancreatic absces': 1, ' libman sacks etiolog': 1, ' cance': 1, ' cancer': 1, ' multiple miscarriages': 1, 'keratitis actinic': 1, 'anthrax': 1, 'dermatitis acneiform': 1, 'Jejunum': 1, 'smoked': 1, 'genital syphilitic': 1, 'renal sarcoma': 1, ' foot osteoarthritides': 1, 'sarcomas avian': 1, 'large gastric mass': 1, ' fever chitral': 1, 'haematoporphyrinaemia ': 1, ' pulp gangrenes': 1, 'malaria ': 1, 'hydrocephalus ': 1, 'never been ill ': 1, 'delleman syndrome ': 1, ' low platelets': 1, 'sinus infections': 1, 'climactericum epileptic ': 1, 'brachyolmia': 1, 'cholangioma': 1, ' sinus infections': 1, ' malaria': 1, 'tonsillitis': 1, 'overweight': 1, ' diabetes ': 1, ' bone marrow cancer': 1, ' gonococcal perihepatitis': 1, 'stage I lentigo maligna': 1, 'diarrhea anxiety': 1, 'metabolism': 1, 'sirenomelia': 1, 'pancreas mass': 1, ' lactrodectism': 1, 'lip fissure': 1, ' birth defects': 1, 'nonsmoker': 1, 'grade 2 ileum obstruction': 1, 'arboviral infections': 1, 'bile duct adenocarcinoma': 1, 'ovarian failure': 1, 'ear melanoma': 1, 'herpes': 1, 'neoplasm maligprostate ': 1, 'disorders of meninges': 1, ' phaeochromocytoma': 1, 'choreic dysphonia': 1, 'duplication 2q syndrome': 1, 'conduction disorders': 1, 'lump of skin': 1, 'hurler': 1, 'men ii': 1, 'indiana fever': 1, ' syndromes fraxe': 1, 'mikulicz': 1, 'oxatomide allergy': 1, 'urticaria aggravated': 1, 'malignancy': 1, 'pneumonitis toxoplasmal ': 1, ' hypomnesia': 1, 'pleura exudate': 1, 'sponge kidney medullary': 1, 'labium polyp': 1, 'adherent pericardium': 1, 'epiphysiolysis proximal femoral': 1, 'otitis media acute seromucinous': 1, 'sjogrens': 1, 'eye problems': 1, 'clubfoot': 1, 'cyesiophobia': 1, 'peribronchial pneumonia.': 1, 'planus lichen': 1, 'gaze apraxia': 1, 'perthes': 1, 'deviation sex': 1, ' corbus ': 1, 'fryns syndrome': 1, 'timber tongue': 1, 'tarsal coalition': 1, 'carcinofibroma': 1, 'muscle tissue neoplasms': 1, 'legs ulcers': 1, 'behcet arthritides': 1, 'phorias ': 1, 'oguchi': 1, 'reflux duodenal': 1, 'heart blocks': 1, 'dawson': 1, 'vitreous syneresis': 1, 'myocarditis': 1, 'viral illness': 1, 'salmonella pneumonia': 1, 'halzoun': 1, 'pigbel': 1, 'skin disease': 1, 'heller': 1, 'bile nephrosis': 1, 'thinking reduced': 1, ' benign tumor of ovary': 1, ' cardiac polyp': 1, 'autism': 1, 'memory lapses': 1, 'acute proctitis': 1, 'palinphrasia': 1, 'pongidae disease': 1, ' ileitis pouch': 1, 'ductal': 1, 'cyclothymic personality': 1, 'lung myolipoma': 1, 'telangiectasia': 1, 'syndrome scheie': 1, 'fall': 1, 'cancers ': 1, 'oxaluria': 1, 'MS': 1, 'Bone marrow cancer': 1, 'DVT': 1})\n"
     ]
    }
   ],
   "source": [
    "print(obser_names_c)"
   ]
  },
  {
   "cell_type": "code",
   "execution_count": null,
   "metadata": {},
   "outputs": [],
   "source": []
  }
 ],
 "metadata": {
  "kernelspec": {
   "display_name": "Python 3",
   "language": "python",
   "name": "python3"
  },
  "language_info": {
   "codemirror_mode": {
    "name": "ipython",
    "version": 3
   },
   "file_extension": ".py",
   "mimetype": "text/x-python",
   "name": "python",
   "nbconvert_exporter": "python",
   "pygments_lexer": "ipython3",
   "version": "3.6.8"
  }
 },
 "nbformat": 4,
 "nbformat_minor": 2
}
